{
 "cells": [
  {
   "cell_type": "markdown",
   "metadata": {
    "id": "fn2ep93ZjmyX"
   },
   "source": [
    "<br>\n",
    "    \n",
    " # Skin Cancer Image Classification Using CNN\n",
    "    \n",
    "    Syed Mohib Raza - 200740241\n",
    "    Jan 27'2021\n",
    "\n",
    "<br>"
   ]
  },
  {
   "cell_type": "markdown",
   "metadata": {
    "id": "ckhgecBI7LCa"
   },
   "source": [
    "<br>\n",
    "\n",
    "**Table of Content**\n",
    "\n",
    "1. Abstract\n",
    "2. Introduction\n",
    "3. Data Description\n",
    "4. Data Preprocessing\n",
    "5. Data Engineering\n",
    "6. Model Building\n",
    "    \n",
    "    Image Augmentation <br>\n",
    "    Assigning Weights <br>\n",
    "    Evaluation Metric <br>\n",
    "    Transfer Learning <br>\n",
    "    VGG16 <br>\n",
    "    ResNet50v2\n",
    "7. Results\n",
    "8. Personal Reflection\n",
    "\n",
    "<br>\n",
    "\n",
    "***"
   ]
  },
  {
   "cell_type": "markdown",
   "metadata": {
    "id": "In91ab9K7Mit"
   },
   "source": [
    "# Abstract\n",
    "\n",
    "Skin cancer is a serious condition. Different strategies have been developed to distinguish between various forms of skin cancer. Visualizing with clinical screening by dermoscopic analysis can detect it in its early phases. A common goal is to detect a skin lesion automatically. Small blood vessels, a thicker patch, ulceration, and bleeding are all signs of skin cancer. Skin cancer can be spotted using polarised light and a skin magnifier, and it can be diagnosed using a deep learning classifier with data augmentation and weights. The VGG-16 and Resnet50 classifiers are implemented in this report with weights assigned to the classes because of data imbalance between each classes, and the pictures were augmented before training the model to redict 7 different types of cancer clases."
   ]
  },
  {
   "cell_type": "markdown",
   "metadata": {
    "id": "zI_Kbn_68ei0"
   },
   "source": [
    "*Keywords - Convolution Neural Network (CNN), Transfer Learning, VGG16, Resnet50, F1-Score, Class Imbalance, Image Augentation*"
   ]
  },
  {
   "cell_type": "markdown",
   "metadata": {
    "id": "BeRyL9IL7ha7"
   },
   "source": [
    "# Introduction\n",
    "\n",
    "\n",
    "Much like humans, deep neural networks (DNNs) require extensive training. You can do that by rolling out the latest DNN on a dataset and hope for the best. Or, you can train it to solve a specific problem or identify an object from a novel viewpoint.\n",
    "\n",
    "Skin cancer is one of the fastest-growing diseases in the world and, the projected rise in skin cancer cases from 2018 - 2040 is 17 million to 26 million [1]. It occurs mainly due to exposure to ultraviolet radiation emitted from the sun. Considering the limited availability of resources, early detection of skin cancer is highly important. \n",
    "In recent times, we have witnessed extensive use of deep learning in both supervised and unsupervised learning problems. The current scientific discourse uses Convolutional Neural Networks to address the issues of skin cancer. The current generation of deep learning techniques is capable of successfully detecting and classifying skin cancer images. In this paper, we have proposed a convolutional neural network (CNN) model for skin cancer image classification. The proposed model is capable of classifying 7 different types of skin cancer. The performance of CNN based model can be applied in real-life applications, especially when screening skin cancer.\n",
    "\n",
    "[1] Wilson, Brooke E; Jacob, Susannah; Yap, Mei Ling; Ferlay, Jacques; Bray, Freddie; Barton, Michael B (2019). Estimates of global chemotherapy demands and corresponding physician workforce requirements for 2018 and 2040: a population-based study. The Lancet Oncology, (), S1470204519301639–. doi:10.1016/S1470-2045(19)30163-9 \n"
   ]
  },
  {
   "cell_type": "markdown",
   "metadata": {
    "id": "zSyCozYJHuOJ"
   },
   "source": [
    "# Data description\n",
    "\n",
    "The HAM10000 training set has 10015 image dermatoscopic image data which were collected over a 20-year period from two separate locations: the Department of Dermatology at the Medical University of Vienna, Austria, and Cliff Rosendahl's skin cancer practice in Queensland, Australia. The 7 classes of skin cancer lesions included in this dataset are:\n",
    "\n",
    "- Melanocytic nevi (nv)\n",
    "- Melanoma (mel)\n",
    "- Benign keratosis-like lesions (bkl)\n",
    "- Basal cell carcinoma (bcc)\n",
    "- Actinic keratoses (akiec)\n",
    "- Vascular lesions (vas)\n",
    "- Dermatofibroma (df)\n",
    "\n",
    "With the give image data corresponding meta data is also given which consists of lesion_id,\timage_id,\tdx (Cancer class),\tdx_type,\tage (patient age),\tsex\tand, localization (Area of cancer on the body)."
   ]
  },
  {
   "cell_type": "code",
   "execution_count": null,
   "metadata": {
    "executionInfo": {
     "elapsed": 3481,
     "status": "ok",
     "timestamp": 1643329180762,
     "user": {
      "displayName": "Colab Pro",
      "photoUrl": "https://lh3.googleusercontent.com/a/default-user=s64",
      "userId": "11511566011687817295"
     },
     "user_tz": 0
    },
    "id": "-zwDYouXb82W"
   },
   "outputs": [],
   "source": [
    "# Importing Libraries\n",
    "\n",
    "\n",
    "import numpy as np\n",
    "import pandas as pd\n",
    "import os\n",
    "from numpy import expand_dims\n",
    "from glob import glob\n",
    "\n",
    "# Data Visualization\n",
    "import matplotlib.pyplot as plt\n",
    "import seaborn as sns\n",
    "\n",
    "# For image handling\n",
    "from PIL import Image\n",
    "\n",
    "# Setting random seed so as when replicating the process the results are almost similar everytime\n",
    "np.random.seed(123)\n",
    "from sklearn.preprocessing import label_binarize\n",
    "from keras.preprocessing.image import load_img, img_to_array, ImageDataGenerator\n",
    "from sklearn.metrics import confusion_matrix\n",
    "import itertools\n",
    "import tensorflow as tf\n",
    "import shutil\n",
    "\n",
    "import keras\n",
    "from keras.utils.np_utils import to_categorical # used for converting labels to one-hot-encoding\n",
    "from keras.models import Sequential\n",
    "from keras.layers import Dense, Dropout, Flatten, Conv2D, MaxPool2D\n",
    "from keras import backend as K\n",
    "from tensorflow.keras.layers import BatchNormalization\n",
    "\n",
    "from tensorflow.keras.metrics import PrecisionAtRecall, Recall, CategoricalAccuracy\n",
    "from tensorflow.keras.metrics import Precision\n",
    "from keras.applications.resnet_v2 import ResNet50V2\n",
    "from tensorflow.keras.layers import GlobalAveragePooling2D\n",
    "from tensorflow.keras.optimizers import SGD, Adam\n",
    "from tensorflow.keras.preprocessing.image import ImageDataGenerator\n",
    "from tensorflow.keras.callbacks import ReduceLROnPlateau\n",
    "from sklearn.model_selection import train_test_split"
   ]
  },
  {
   "cell_type": "code",
   "execution_count": 72,
   "metadata": {},
   "outputs": [],
   "source": [
    "import shutil\n",
    "import itertools\n",
    "import random"
   ]
  },
  {
   "cell_type": "code",
   "execution_count": 93,
   "metadata": {
    "colab": {
     "base_uri": "https://localhost:8080/"
    },
    "executionInfo": {
     "elapsed": 232,
     "status": "ok",
     "timestamp": 1643329200542,
     "user": {
      "displayName": "Colab Pro",
      "photoUrl": "https://lh3.googleusercontent.com/a/default-user=s64",
      "userId": "11511566011687817295"
     },
     "user_tz": 0
    },
    "id": "y0Na2rvlIRpD",
    "outputId": "3c74de8a-9073-479e-ed8f-116e0a0cf529"
   },
   "outputs": [
    {
     "data": {
      "text/plain": [
       "['base_dir',\n",
       " 'clean_data',\n",
       " 'consolidated_data',\n",
       " 'HAM10000_images_part_1',\n",
       " 'HAM10000_images_part_2',\n",
       " 'HAM10000_metadata.csv']"
      ]
     },
     "execution_count": 93,
     "metadata": {},
     "output_type": "execute_result"
    }
   ],
   "source": [
    "input = \"content\"\n",
    "os.listdir(input)"
   ]
  },
  {
   "cell_type": "markdown",
   "metadata": {
    "id": "ZW0k7i4UJlPg"
   },
   "source": [
    "**Creating Directories to store the processed images.**"
   ]
  },
  {
   "cell_type": "code",
   "execution_count": 6,
   "metadata": {
    "executionInfo": {
     "elapsed": 506,
     "status": "ok",
     "timestamp": 1643329208103,
     "user": {
      "displayName": "Colab Pro",
      "photoUrl": "https://lh3.googleusercontent.com/a/default-user=s64",
      "userId": "11511566011687817295"
     },
     "user_tz": 0
    },
    "id": "b_PESmKgK6WX"
   },
   "outputs": [],
   "source": [
    "os.mkdir(\"content/base_dir\")"
   ]
  },
  {
   "cell_type": "code",
   "execution_count": 11,
   "metadata": {
    "executionInfo": {
     "elapsed": 4,
     "status": "ok",
     "timestamp": 1643329208389,
     "user": {
      "displayName": "Colab Pro",
      "photoUrl": "https://lh3.googleusercontent.com/a/default-user=s64",
      "userId": "11511566011687817295"
     },
     "user_tz": 0
    },
    "id": "TKmwNtHNJ4e-"
   },
   "outputs": [],
   "source": [
    "base_dir = \"content/base_dir/\""
   ]
  },
  {
   "cell_type": "code",
   "execution_count": 12,
   "metadata": {
    "colab": {
     "base_uri": "https://localhost:8080/"
    },
    "executionInfo": {
     "elapsed": 246,
     "status": "ok",
     "timestamp": 1642821868415,
     "user": {
      "displayName": "Colab Pro",
      "photoUrl": "https://lh3.googleusercontent.com/a/default-user=s64",
      "userId": "11511566011687817295"
     },
     "user_tz": 0
    },
    "id": "6lBM4WNiwXv4",
    "outputId": "4fe25bc7-3e41-45c6-b3b2-75207597acbb"
   },
   "outputs": [],
   "source": [
    "# Setting training directory \n",
    "train_dir = os.path.join(base_dir, \"train_dir\")\n",
    "# If folder exists it will print out that message\n",
    "try:\n",
    "  os.mkdir(train_dir)\n",
    "except FileExistsError:\n",
    "  print(f\"{train_dir} Already Exists\")\n",
    "\n",
    "# Setting validation directory \n",
    "val_dir = os.path.join(base_dir, \"val_dir\")\n",
    "# If folder exists it will print out that message\n",
    "try: \n",
    "  os.mkdir(val_dir)\n",
    "except FileExistsError:\n",
    "  print(f\"{val_dir} Already Exists\")\n",
    "\n",
    "# Setting test directory \n",
    "test_dir = os.path.join(base_dir, \"test_dir\")\n",
    "# If folder exists it will print out that message\n",
    "try: \n",
    "  os.mkdir(test_dir)\n",
    "except FileExistsError:\n",
    "  print(f\"{test_dir} Already Exists\")"
   ]
  },
  {
   "cell_type": "code",
   "execution_count": 13,
   "metadata": {
    "id": "Y8cM7SWgwbsM"
   },
   "outputs": [],
   "source": [
    "# Creating new folders inside train_dir for each class\n",
    "# If folder exists it will print out that message for each class\n",
    "\n",
    "nv = os.path.join(train_dir, 'nv')\n",
    "try:\n",
    "  os.mkdir(nv)\n",
    "except FileExistsError:\n",
    "  print(f\"{nv} Already Exists\")\n",
    "\n",
    "mel = os.path.join(train_dir, 'mel')\n",
    "try:\n",
    "  os.mkdir(mel)\n",
    "except FileExistsError:\n",
    "  print(f\"{mel} Already Exists\")\n",
    "\n",
    "bkl = os.path.join(train_dir, 'bkl')\n",
    "try:\n",
    "  os.mkdir(bkl)\n",
    "except FileExistsError:\n",
    "  print(f\"{bkl} Already Exists\")\n",
    "\n",
    "bcc = os.path.join(train_dir, 'bcc')\n",
    "try:\n",
    "  os.mkdir(bcc)\n",
    "except FileExistsError:\n",
    "  print(f\"{bcc} Already Exists\")\n",
    "\n",
    "akiec = os.path.join(train_dir, 'akiec')\n",
    "try:\n",
    "  os.mkdir(akiec)\n",
    "except FileExistsError:\n",
    "  print(f\"{akiec} Already Exists\")\n",
    "\n",
    "vasc = os.path.join(train_dir, 'vasc')\n",
    "try:\n",
    "  os.mkdir(vasc)\n",
    "except FileExistsError:\n",
    "  print(f\"{vasc} Already Exists\")\n",
    "\n",
    "df = os.path.join(train_dir, 'df')\n",
    "try:\n",
    "  os.mkdir(df)\n",
    "except FileExistsError:\n",
    "  print(f\"{df} Already Exists\")"
   ]
  },
  {
   "cell_type": "code",
   "execution_count": 14,
   "metadata": {
    "id": "uAY8F-RRJoBZ"
   },
   "outputs": [],
   "source": [
    "# Creating new folders inside val_dir for each class\n",
    "# If folder exists it will print out that message for each class\n",
    "\n",
    "nv = os.path.join(val_dir, 'nv')\n",
    "try:\n",
    "  os.mkdir(nv)\n",
    "except FileExistsError:\n",
    "  print(f\"{nv} Already Exists\")\n",
    "\n",
    "mel = os.path.join(val_dir, 'mel')\n",
    "try:\n",
    "  os.mkdir(mel)\n",
    "except FileExistsError:\n",
    "  print(f\"{mel} Already Exists\")\n",
    "\n",
    "bkl = os.path.join(val_dir, 'bkl')\n",
    "try:\n",
    "  os.mkdir(bkl)\n",
    "except FileExistsError:\n",
    "  print(f\"{bkl} Already Exists\")\n",
    "\n",
    "bcc = os.path.join(val_dir, 'bcc')\n",
    "try:\n",
    "  os.mkdir(bcc)\n",
    "except FileExistsError:\n",
    "  print(f\"{bcc} Already Exists\")\n",
    "\n",
    "akiec = os.path.join(val_dir, 'akiec')\n",
    "try:\n",
    "  os.mkdir(akiec)\n",
    "except FileExistsError:\n",
    "  print(f\"{akiec} Already Exists\")\n",
    "\n",
    "vasc = os.path.join(val_dir, 'vasc')\n",
    "try:\n",
    "  os.mkdir(vasc)\n",
    "except FileExistsError:\n",
    "  print(f\"{vasc} Already Exists\")\n",
    "\n",
    "df = os.path.join(val_dir, 'df')\n",
    "try:\n",
    "  os.mkdir(df)\n",
    "except FileExistsError:\n",
    "  print(f\"{df} Already Exists\")"
   ]
  },
  {
   "cell_type": "code",
   "execution_count": 15,
   "metadata": {
    "id": "Ekee4H66y-3j"
   },
   "outputs": [],
   "source": [
    "# Creating new folders inside test_dir for each class\n",
    "# If folder exists it will print out that message for each class\n",
    "\n",
    "nv = os.path.join(test_dir, 'nv')\n",
    "try:\n",
    "  os.mkdir(nv)\n",
    "except FileExistsError:\n",
    "  print(f\"{nv} Already Exists\")\n",
    "\n",
    "mel = os.path.join(test_dir, 'mel')\n",
    "try:\n",
    "  os.mkdir(mel)\n",
    "except FileExistsError:\n",
    "  print(f\"{mel} Already Exists\")\n",
    "\n",
    "bkl = os.path.join(test_dir, 'bkl')\n",
    "try:\n",
    "  os.mkdir(bkl)\n",
    "except FileExistsError:\n",
    "  print(f\"{bkl} Already Exists\")\n",
    "\n",
    "bcc = os.path.join(test_dir, 'bcc')\n",
    "try:\n",
    "  os.mkdir(bcc)\n",
    "except FileExistsError:\n",
    "  print(f\"{bcc} Already Exists\")\n",
    "\n",
    "akiec = os.path.join(test_dir, 'akiec')\n",
    "try:\n",
    "  os.mkdir(akiec)\n",
    "except FileExistsError:\n",
    "  print(f\"{akiec} Already Exists\")\n",
    "\n",
    "vasc = os.path.join(test_dir, 'vasc')\n",
    "try:\n",
    "  os.mkdir(vasc)\n",
    "except FileExistsError:\n",
    "  print(f\"{vasc} Already Exists\")\n",
    "\n",
    "df = os.path.join(test_dir, 'df')\n",
    "try:\n",
    "  os.mkdir(df)\n",
    "except FileExistsError:\n",
    "  print(f\"{df} Already Exists\")"
   ]
  },
  {
   "cell_type": "markdown",
   "metadata": {
    "id": "kRpqJHEglBdb"
   },
   "source": [
    "# Data Preprocessing"
   ]
  },
  {
   "cell_type": "markdown",
   "metadata": {
    "id": "C0syK1FAlE7R"
   },
   "source": [
    "This section is concentrated on the process of data cleaning and wrangling. To clean and structure the dataset seperate directories are created for each classes for training, testing and validating.\n",
    "Using the metadata for exploratory data analysis before data engineering."
   ]
  },
  {
   "cell_type": "code",
   "execution_count": 16,
   "metadata": {
    "executionInfo": {
     "elapsed": 235,
     "status": "ok",
     "timestamp": 1643329223172,
     "user": {
      "displayName": "Colab Pro",
      "photoUrl": "https://lh3.googleusercontent.com/a/default-user=s64",
      "userId": "11511566011687817295"
     },
     "user_tz": 0
    },
    "id": "LCIc5HdnUSWY"
   },
   "outputs": [],
   "source": [
    "# Creating dictionary with class keys and full name\n",
    "cancer_label = {\n",
    "    'nv': 'Melanocytic nevi',\n",
    "    'mel': 'Melanoma',\n",
    "    'bkl': 'Benign keratosis-like lesions ',\n",
    "    'bcc': 'Basal cell carcinoma',\n",
    "    'akiec': 'Actinic keratoses',\n",
    "    'vasc': 'Vascular lesions',\n",
    "    'df': 'Dermatofibroma'\n",
    "}"
   ]
  },
  {
   "cell_type": "code",
   "execution_count": 17,
   "metadata": {
    "executionInfo": {
     "elapsed": 11,
     "status": "ok",
     "timestamp": 1643329223173,
     "user": {
      "displayName": "Colab Pro",
      "photoUrl": "https://lh3.googleusercontent.com/a/default-user=s64",
      "userId": "11511566011687817295"
     },
     "user_tz": 0
    },
    "id": "P2Gdsf3oVps0"
   },
   "outputs": [],
   "source": [
    "# Seperately storing keys for each class\n",
    "cancer_keys = []\n",
    "for i in cancer_label.keys():\n",
    "  cancer_keys.append(i)\n",
    "\n",
    "# Seperately storing values (names) for each class\n",
    "cancer_values = []\n",
    "for j in cancer_label.values():\n",
    "  cancer_values.append(j)"
   ]
  },
  {
   "cell_type": "code",
   "execution_count": 18,
   "metadata": {
    "colab": {
     "base_uri": "https://localhost:8080/",
     "height": 710
    },
    "executionInfo": {
     "elapsed": 10,
     "status": "ok",
     "timestamp": 1643329223174,
     "user": {
      "displayName": "Colab Pro",
      "photoUrl": "https://lh3.googleusercontent.com/a/default-user=s64",
      "userId": "11511566011687817295"
     },
     "user_tz": 0
    },
    "id": "sYqamTfSUzDT",
    "outputId": "c1829526-746b-445e-aa94-4d3bfe1b9f9a"
   },
   "outputs": [
    {
     "data": {
      "text/html": [
       "<div>\n",
       "<style scoped>\n",
       "    .dataframe tbody tr th:only-of-type {\n",
       "        vertical-align: middle;\n",
       "    }\n",
       "\n",
       "    .dataframe tbody tr th {\n",
       "        vertical-align: top;\n",
       "    }\n",
       "\n",
       "    .dataframe thead th {\n",
       "        text-align: right;\n",
       "    }\n",
       "</style>\n",
       "<table border=\"1\" class=\"dataframe\">\n",
       "  <thead>\n",
       "    <tr style=\"text-align: right;\">\n",
       "      <th></th>\n",
       "      <th>lesion_id</th>\n",
       "      <th>image_id</th>\n",
       "      <th>dx</th>\n",
       "      <th>dx_type</th>\n",
       "      <th>age</th>\n",
       "      <th>sex</th>\n",
       "      <th>localization</th>\n",
       "    </tr>\n",
       "  </thead>\n",
       "  <tbody>\n",
       "    <tr>\n",
       "      <th>0</th>\n",
       "      <td>HAM_0000118</td>\n",
       "      <td>ISIC_0027419</td>\n",
       "      <td>Benign keratosis-like lesions</td>\n",
       "      <td>histo</td>\n",
       "      <td>80.0</td>\n",
       "      <td>male</td>\n",
       "      <td>scalp</td>\n",
       "    </tr>\n",
       "    <tr>\n",
       "      <th>1</th>\n",
       "      <td>HAM_0000118</td>\n",
       "      <td>ISIC_0025030</td>\n",
       "      <td>Benign keratosis-like lesions</td>\n",
       "      <td>histo</td>\n",
       "      <td>80.0</td>\n",
       "      <td>male</td>\n",
       "      <td>scalp</td>\n",
       "    </tr>\n",
       "    <tr>\n",
       "      <th>2</th>\n",
       "      <td>HAM_0002730</td>\n",
       "      <td>ISIC_0026769</td>\n",
       "      <td>Benign keratosis-like lesions</td>\n",
       "      <td>histo</td>\n",
       "      <td>80.0</td>\n",
       "      <td>male</td>\n",
       "      <td>scalp</td>\n",
       "    </tr>\n",
       "    <tr>\n",
       "      <th>3</th>\n",
       "      <td>HAM_0002730</td>\n",
       "      <td>ISIC_0025661</td>\n",
       "      <td>Benign keratosis-like lesions</td>\n",
       "      <td>histo</td>\n",
       "      <td>80.0</td>\n",
       "      <td>male</td>\n",
       "      <td>scalp</td>\n",
       "    </tr>\n",
       "    <tr>\n",
       "      <th>4</th>\n",
       "      <td>HAM_0001466</td>\n",
       "      <td>ISIC_0031633</td>\n",
       "      <td>Benign keratosis-like lesions</td>\n",
       "      <td>histo</td>\n",
       "      <td>75.0</td>\n",
       "      <td>male</td>\n",
       "      <td>ear</td>\n",
       "    </tr>\n",
       "    <tr>\n",
       "      <th>...</th>\n",
       "      <td>...</td>\n",
       "      <td>...</td>\n",
       "      <td>...</td>\n",
       "      <td>...</td>\n",
       "      <td>...</td>\n",
       "      <td>...</td>\n",
       "      <td>...</td>\n",
       "    </tr>\n",
       "    <tr>\n",
       "      <th>10010</th>\n",
       "      <td>HAM_0002867</td>\n",
       "      <td>ISIC_0033084</td>\n",
       "      <td>Actinic keratoses</td>\n",
       "      <td>histo</td>\n",
       "      <td>40.0</td>\n",
       "      <td>male</td>\n",
       "      <td>abdomen</td>\n",
       "    </tr>\n",
       "    <tr>\n",
       "      <th>10011</th>\n",
       "      <td>HAM_0002867</td>\n",
       "      <td>ISIC_0033550</td>\n",
       "      <td>Actinic keratoses</td>\n",
       "      <td>histo</td>\n",
       "      <td>40.0</td>\n",
       "      <td>male</td>\n",
       "      <td>abdomen</td>\n",
       "    </tr>\n",
       "    <tr>\n",
       "      <th>10012</th>\n",
       "      <td>HAM_0002867</td>\n",
       "      <td>ISIC_0033536</td>\n",
       "      <td>Actinic keratoses</td>\n",
       "      <td>histo</td>\n",
       "      <td>40.0</td>\n",
       "      <td>male</td>\n",
       "      <td>abdomen</td>\n",
       "    </tr>\n",
       "    <tr>\n",
       "      <th>10013</th>\n",
       "      <td>HAM_0000239</td>\n",
       "      <td>ISIC_0032854</td>\n",
       "      <td>Actinic keratoses</td>\n",
       "      <td>histo</td>\n",
       "      <td>80.0</td>\n",
       "      <td>male</td>\n",
       "      <td>face</td>\n",
       "    </tr>\n",
       "    <tr>\n",
       "      <th>10014</th>\n",
       "      <td>HAM_0003521</td>\n",
       "      <td>ISIC_0032258</td>\n",
       "      <td>Melanoma</td>\n",
       "      <td>histo</td>\n",
       "      <td>70.0</td>\n",
       "      <td>female</td>\n",
       "      <td>back</td>\n",
       "    </tr>\n",
       "  </tbody>\n",
       "</table>\n",
       "<p>10015 rows × 7 columns</p>\n",
       "</div>"
      ],
      "text/plain": [
       "         lesion_id      image_id                              dx dx_type  \\\n",
       "0      HAM_0000118  ISIC_0027419  Benign keratosis-like lesions    histo   \n",
       "1      HAM_0000118  ISIC_0025030  Benign keratosis-like lesions    histo   \n",
       "2      HAM_0002730  ISIC_0026769  Benign keratosis-like lesions    histo   \n",
       "3      HAM_0002730  ISIC_0025661  Benign keratosis-like lesions    histo   \n",
       "4      HAM_0001466  ISIC_0031633  Benign keratosis-like lesions    histo   \n",
       "...            ...           ...                             ...     ...   \n",
       "10010  HAM_0002867  ISIC_0033084               Actinic keratoses   histo   \n",
       "10011  HAM_0002867  ISIC_0033550               Actinic keratoses   histo   \n",
       "10012  HAM_0002867  ISIC_0033536               Actinic keratoses   histo   \n",
       "10013  HAM_0000239  ISIC_0032854               Actinic keratoses   histo   \n",
       "10014  HAM_0003521  ISIC_0032258                        Melanoma   histo   \n",
       "\n",
       "        age     sex localization  \n",
       "0      80.0    male        scalp  \n",
       "1      80.0    male        scalp  \n",
       "2      80.0    male        scalp  \n",
       "3      80.0    male        scalp  \n",
       "4      75.0    male          ear  \n",
       "...     ...     ...          ...  \n",
       "10010  40.0    male      abdomen  \n",
       "10011  40.0    male      abdomen  \n",
       "10012  40.0    male      abdomen  \n",
       "10013  80.0    male         face  \n",
       "10014  70.0  female         back  \n",
       "\n",
       "[10015 rows x 7 columns]"
      ]
     },
     "execution_count": 18,
     "metadata": {},
     "output_type": "execute_result"
    }
   ],
   "source": [
    "# Reading metadata from the csv file\n",
    "metadata_df = pd.read_csv(os.path.join(input, \"HAM10000_metadata.csv\"))\n",
    "\n",
    "# Mapping labels/Names of skin cancer classes based on their shortform/keys\n",
    "metadata_df['dx'] = metadata_df['dx'].map(cancer_label.get)\n",
    "metadata_df"
   ]
  },
  {
   "cell_type": "code",
   "execution_count": 19,
   "metadata": {
    "colab": {
     "base_uri": "https://localhost:8080/"
    },
    "executionInfo": {
     "elapsed": 8,
     "status": "ok",
     "timestamp": 1642790101851,
     "user": {
      "displayName": "Colab Pro",
      "photoUrl": "https://lh3.googleusercontent.com/a/default-user=s64",
      "userId": "11511566011687817295"
     },
     "user_tz": 0
    },
    "id": "Z0qQQ8taQSBv",
    "outputId": "96e04541-b46b-4cf7-8ee1-d16d94c2d6ce"
   },
   "outputs": [
    {
     "data": {
      "text/plain": [
       "array(['histo', 'consensus', 'confocal', 'follow_up'], dtype=object)"
      ]
     },
     "execution_count": 19,
     "metadata": {},
     "output_type": "execute_result"
    }
   ],
   "source": [
    "# Finding unique types\n",
    "metadata_df[\"dx_type\"].unique()"
   ]
  },
  {
   "cell_type": "code",
   "execution_count": 20,
   "metadata": {
    "colab": {
     "base_uri": "https://localhost:8080/",
     "height": 370
    },
    "executionInfo": {
     "elapsed": 551,
     "status": "ok",
     "timestamp": 1643329257342,
     "user": {
      "displayName": "Colab Pro",
      "photoUrl": "https://lh3.googleusercontent.com/a/default-user=s64",
      "userId": "11511566011687817295"
     },
     "user_tz": 0
    },
    "id": "VxZkCvCXQm_o",
    "outputId": "2ac65f2b-a1cd-482f-c045-c218155aee93"
   },
   "outputs": [
    {
     "data": {
      "text/plain": [
       "Text(0.5, 1.02, 'Count of People Who Received Tips by Gender')"
      ]
     },
     "execution_count": 20,
     "metadata": {},
     "output_type": "execute_result"
    },
    {
     "data": {
      "image/png": "[encoded data removed]",
      "text/plain": [
       "<Figure size 432x288 with 1 Axes>"
      ]
     },
     "metadata": {
      "needs_background": "light"
     },
     "output_type": "display_data"
    }
   ],
   "source": [
    "# Plotting the counts for each unique type\n",
    "metadata_df[\"dx_type\"].value_counts().plot(kind = \"bar\")\n",
    "plt.xlabel(\"Gender\", labelpad=14)\n",
    "plt.ylabel(\"Count of People\", labelpad=14)\n",
    "plt.title(\"Count of People Who Received Tips by Gender\", y=1.02)"
   ]
  },
  {
   "cell_type": "code",
   "execution_count": 21,
   "metadata": {
    "colab": {
     "base_uri": "https://localhost:8080/",
     "height": 362
    },
    "executionInfo": {
     "elapsed": 633,
     "status": "ok",
     "timestamp": 1643329261459,
     "user": {
      "displayName": "Colab Pro",
      "photoUrl": "https://lh3.googleusercontent.com/a/default-user=s64",
      "userId": "11511566011687817295"
     },
     "user_tz": 0
    },
    "id": "-eyh7DOxSw-w",
    "outputId": "817ac891-a22f-476d-ebc1-eb4d39b656bc"
   },
   "outputs": [
    {
     "data": {
      "text/plain": [
       "Text(0.5, 1.02, 'Count of each Gender')"
      ]
     },
     "execution_count": 21,
     "metadata": {},
     "output_type": "execute_result"
    },
    {
     "data": {
      "image/png": "[encoded data removed]",
      "text/plain": [
       "<Figure size 432x288 with 1 Axes>"
      ]
     },
     "metadata": {
      "needs_background": "light"
     },
     "output_type": "display_data"
    }
   ],
   "source": [
    "# Plotting count for each sex\n",
    "metadata_df[\"sex\"].value_counts().plot(kind = \"bar\")\n",
    "plt.xlabel(\"Gender\", labelpad=14)\n",
    "plt.ylabel(\"Count\", labelpad=14)\n",
    "plt.title(\"Count of each Gender\", y=1.02)"
   ]
  },
  {
   "cell_type": "markdown",
   "metadata": {
    "id": "WjLdjMVGnQ27"
   },
   "source": [
    "Here we can observe that male and female are almost equal in count and if used as a feature, they would not affect the training process but the same could not be said as in the case of cancer classes/types."
   ]
  },
  {
   "cell_type": "code",
   "execution_count": 22,
   "metadata": {
    "colab": {
     "base_uri": "https://localhost:8080/",
     "height": 462
    },
    "executionInfo": {
     "elapsed": 276,
     "status": "ok",
     "timestamp": 1643329355753,
     "user": {
      "displayName": "Colab Pro",
      "photoUrl": "https://lh3.googleusercontent.com/a/default-user=s64",
      "userId": "11511566011687817295"
     },
     "user_tz": 0
    },
    "id": "HTEIJcfXS02v",
    "outputId": "ea94a817-e5fb-4a75-ba0b-a4cf98c47d8e"
   },
   "outputs": [
    {
     "data": {
      "text/plain": [
       "Text(0.5, 1.02, 'Count of each cancer class')"
      ]
     },
     "execution_count": 22,
     "metadata": {},
     "output_type": "execute_result"
    },
    {
     "data": {
      "image/png": "[encoded data removed]",
      "text/plain": [
       "<Figure size 432x288 with 1 Axes>"
      ]
     },
     "metadata": {
      "needs_background": "light"
     },
     "output_type": "display_data"
    }
   ],
   "source": [
    "# Plotting data count for each cancer class\n",
    "metadata_df[\"dx\"].value_counts().plot(kind = \"bar\")\n",
    "plt.xlabel(\"Cancer Type\", labelpad=14)\n",
    "plt.ylabel(\"Count\", labelpad=14)\n",
    "plt.title(\"Count of each cancer class\", y=1.02)"
   ]
  },
  {
   "cell_type": "code",
   "execution_count": 23,
   "metadata": {
    "colab": {
     "base_uri": "https://localhost:8080/",
     "height": 455
    },
    "executionInfo": {
     "elapsed": 16,
     "status": "ok",
     "timestamp": 1642790102736,
     "user": {
      "displayName": "Colab Pro",
      "photoUrl": "https://lh3.googleusercontent.com/a/default-user=s64",
      "userId": "11511566011687817295"
     },
     "user_tz": 0
    },
    "id": "nqnf5Jtx7dhw",
    "outputId": "742f4c9c-9b4e-47c5-e19d-810e52f7ceb2"
   },
   "outputs": [
    {
     "data": {
      "text/html": [
       "<div>\n",
       "<style scoped>\n",
       "    .dataframe tbody tr th:only-of-type {\n",
       "        vertical-align: middle;\n",
       "    }\n",
       "\n",
       "    .dataframe tbody tr th {\n",
       "        vertical-align: top;\n",
       "    }\n",
       "\n",
       "    .dataframe thead th {\n",
       "        text-align: right;\n",
       "    }\n",
       "</style>\n",
       "<table border=\"1\" class=\"dataframe\">\n",
       "  <thead>\n",
       "    <tr style=\"text-align: right;\">\n",
       "      <th></th>\n",
       "      <th>image_id</th>\n",
       "      <th>dx</th>\n",
       "      <th>dx_type</th>\n",
       "      <th>age</th>\n",
       "      <th>sex</th>\n",
       "      <th>localization</th>\n",
       "    </tr>\n",
       "    <tr>\n",
       "      <th>lesion_id</th>\n",
       "      <th></th>\n",
       "      <th></th>\n",
       "      <th></th>\n",
       "      <th></th>\n",
       "      <th></th>\n",
       "      <th></th>\n",
       "    </tr>\n",
       "  </thead>\n",
       "  <tbody>\n",
       "    <tr>\n",
       "      <th>HAM_0000000</th>\n",
       "      <td>2</td>\n",
       "      <td>2</td>\n",
       "      <td>2</td>\n",
       "      <td>2</td>\n",
       "      <td>2</td>\n",
       "      <td>2</td>\n",
       "    </tr>\n",
       "    <tr>\n",
       "      <th>HAM_0000001</th>\n",
       "      <td>1</td>\n",
       "      <td>1</td>\n",
       "      <td>1</td>\n",
       "      <td>1</td>\n",
       "      <td>1</td>\n",
       "      <td>1</td>\n",
       "    </tr>\n",
       "    <tr>\n",
       "      <th>HAM_0000002</th>\n",
       "      <td>3</td>\n",
       "      <td>3</td>\n",
       "      <td>3</td>\n",
       "      <td>3</td>\n",
       "      <td>3</td>\n",
       "      <td>3</td>\n",
       "    </tr>\n",
       "    <tr>\n",
       "      <th>HAM_0000003</th>\n",
       "      <td>1</td>\n",
       "      <td>1</td>\n",
       "      <td>1</td>\n",
       "      <td>1</td>\n",
       "      <td>1</td>\n",
       "      <td>1</td>\n",
       "    </tr>\n",
       "    <tr>\n",
       "      <th>HAM_0000004</th>\n",
       "      <td>1</td>\n",
       "      <td>1</td>\n",
       "      <td>1</td>\n",
       "      <td>1</td>\n",
       "      <td>1</td>\n",
       "      <td>1</td>\n",
       "    </tr>\n",
       "    <tr>\n",
       "      <th>...</th>\n",
       "      <td>...</td>\n",
       "      <td>...</td>\n",
       "      <td>...</td>\n",
       "      <td>...</td>\n",
       "      <td>...</td>\n",
       "      <td>...</td>\n",
       "    </tr>\n",
       "    <tr>\n",
       "      <th>HAM_0007624</th>\n",
       "      <td>1</td>\n",
       "      <td>1</td>\n",
       "      <td>1</td>\n",
       "      <td>1</td>\n",
       "      <td>1</td>\n",
       "      <td>1</td>\n",
       "    </tr>\n",
       "    <tr>\n",
       "      <th>HAM_0007625</th>\n",
       "      <td>2</td>\n",
       "      <td>2</td>\n",
       "      <td>2</td>\n",
       "      <td>2</td>\n",
       "      <td>2</td>\n",
       "      <td>2</td>\n",
       "    </tr>\n",
       "    <tr>\n",
       "      <th>HAM_0007626</th>\n",
       "      <td>1</td>\n",
       "      <td>1</td>\n",
       "      <td>1</td>\n",
       "      <td>1</td>\n",
       "      <td>1</td>\n",
       "      <td>1</td>\n",
       "    </tr>\n",
       "    <tr>\n",
       "      <th>HAM_0007627</th>\n",
       "      <td>2</td>\n",
       "      <td>2</td>\n",
       "      <td>2</td>\n",
       "      <td>2</td>\n",
       "      <td>2</td>\n",
       "      <td>2</td>\n",
       "    </tr>\n",
       "    <tr>\n",
       "      <th>HAM_0007628</th>\n",
       "      <td>1</td>\n",
       "      <td>1</td>\n",
       "      <td>1</td>\n",
       "      <td>1</td>\n",
       "      <td>1</td>\n",
       "      <td>1</td>\n",
       "    </tr>\n",
       "  </tbody>\n",
       "</table>\n",
       "<p>7470 rows × 6 columns</p>\n",
       "</div>"
      ],
      "text/plain": [
       "             image_id  dx  dx_type  age  sex  localization\n",
       "lesion_id                                                 \n",
       "HAM_0000000         2   2        2    2    2             2\n",
       "HAM_0000001         1   1        1    1    1             1\n",
       "HAM_0000002         3   3        3    3    3             3\n",
       "HAM_0000003         1   1        1    1    1             1\n",
       "HAM_0000004         1   1        1    1    1             1\n",
       "...               ...  ..      ...  ...  ...           ...\n",
       "HAM_0007624         1   1        1    1    1             1\n",
       "HAM_0007625         2   2        2    2    2             2\n",
       "HAM_0007626         1   1        1    1    1             1\n",
       "HAM_0007627         2   2        2    2    2             2\n",
       "HAM_0007628         1   1        1    1    1             1\n",
       "\n",
       "[7470 rows x 6 columns]"
      ]
     },
     "execution_count": 23,
     "metadata": {},
     "output_type": "execute_result"
    }
   ],
   "source": [
    "df_id = metadata_df.groupby(\"lesion_id\").count()\n",
    "df_id"
   ]
  },
  {
   "cell_type": "code",
   "execution_count": 24,
   "metadata": {
    "colab": {
     "base_uri": "https://localhost:8080/",
     "height": 206
    },
    "executionInfo": {
     "elapsed": 15,
     "status": "ok",
     "timestamp": 1642790102737,
     "user": {
      "displayName": "Colab Pro",
      "photoUrl": "https://lh3.googleusercontent.com/a/default-user=s64",
      "userId": "11511566011687817295"
     },
     "user_tz": 0
    },
    "id": "Cen1p3fb7de-",
    "outputId": "63b57c69-23c0-489e-bef4-da140cf70118"
   },
   "outputs": [
    {
     "data": {
      "text/html": [
       "<div>\n",
       "<style scoped>\n",
       "    .dataframe tbody tr th:only-of-type {\n",
       "        vertical-align: middle;\n",
       "    }\n",
       "\n",
       "    .dataframe tbody tr th {\n",
       "        vertical-align: top;\n",
       "    }\n",
       "\n",
       "    .dataframe thead th {\n",
       "        text-align: right;\n",
       "    }\n",
       "</style>\n",
       "<table border=\"1\" class=\"dataframe\">\n",
       "  <thead>\n",
       "    <tr style=\"text-align: right;\">\n",
       "      <th></th>\n",
       "      <th>lesion_id</th>\n",
       "      <th>image_id</th>\n",
       "      <th>dx</th>\n",
       "      <th>dx_type</th>\n",
       "      <th>age</th>\n",
       "      <th>sex</th>\n",
       "      <th>localization</th>\n",
       "    </tr>\n",
       "  </thead>\n",
       "  <tbody>\n",
       "    <tr>\n",
       "      <th>0</th>\n",
       "      <td>HAM_0000118</td>\n",
       "      <td>ISIC_0027419</td>\n",
       "      <td>Benign keratosis-like lesions</td>\n",
       "      <td>histo</td>\n",
       "      <td>80.0</td>\n",
       "      <td>male</td>\n",
       "      <td>scalp</td>\n",
       "    </tr>\n",
       "    <tr>\n",
       "      <th>1</th>\n",
       "      <td>HAM_0000118</td>\n",
       "      <td>ISIC_0025030</td>\n",
       "      <td>Benign keratosis-like lesions</td>\n",
       "      <td>histo</td>\n",
       "      <td>80.0</td>\n",
       "      <td>male</td>\n",
       "      <td>scalp</td>\n",
       "    </tr>\n",
       "    <tr>\n",
       "      <th>2</th>\n",
       "      <td>HAM_0002730</td>\n",
       "      <td>ISIC_0026769</td>\n",
       "      <td>Benign keratosis-like lesions</td>\n",
       "      <td>histo</td>\n",
       "      <td>80.0</td>\n",
       "      <td>male</td>\n",
       "      <td>scalp</td>\n",
       "    </tr>\n",
       "    <tr>\n",
       "      <th>3</th>\n",
       "      <td>HAM_0002730</td>\n",
       "      <td>ISIC_0025661</td>\n",
       "      <td>Benign keratosis-like lesions</td>\n",
       "      <td>histo</td>\n",
       "      <td>80.0</td>\n",
       "      <td>male</td>\n",
       "      <td>scalp</td>\n",
       "    </tr>\n",
       "    <tr>\n",
       "      <th>4</th>\n",
       "      <td>HAM_0001466</td>\n",
       "      <td>ISIC_0031633</td>\n",
       "      <td>Benign keratosis-like lesions</td>\n",
       "      <td>histo</td>\n",
       "      <td>75.0</td>\n",
       "      <td>male</td>\n",
       "      <td>ear</td>\n",
       "    </tr>\n",
       "  </tbody>\n",
       "</table>\n",
       "</div>"
      ],
      "text/plain": [
       "     lesion_id      image_id                              dx dx_type   age  \\\n",
       "0  HAM_0000118  ISIC_0027419  Benign keratosis-like lesions    histo  80.0   \n",
       "1  HAM_0000118  ISIC_0025030  Benign keratosis-like lesions    histo  80.0   \n",
       "2  HAM_0002730  ISIC_0026769  Benign keratosis-like lesions    histo  80.0   \n",
       "3  HAM_0002730  ISIC_0025661  Benign keratosis-like lesions    histo  80.0   \n",
       "4  HAM_0001466  ISIC_0031633  Benign keratosis-like lesions    histo  75.0   \n",
       "\n",
       "    sex localization  \n",
       "0  male        scalp  \n",
       "1  male        scalp  \n",
       "2  male        scalp  \n",
       "3  male        scalp  \n",
       "4  male          ear  "
      ]
     },
     "execution_count": 24,
     "metadata": {},
     "output_type": "execute_result"
    }
   ],
   "source": [
    "# Printing first few rows for the dataset\n",
    "metadata_df.head()"
   ]
  },
  {
   "cell_type": "code",
   "execution_count": 25,
   "metadata": {
    "colab": {
     "base_uri": "https://localhost:8080/"
    },
    "executionInfo": {
     "elapsed": 376,
     "status": "ok",
     "timestamp": 1643329374726,
     "user": {
      "displayName": "Colab Pro",
      "photoUrl": "https://lh3.googleusercontent.com/a/default-user=s64",
      "userId": "11511566011687817295"
     },
     "user_tz": 0
    },
    "id": "N00nyXm7gCYa",
    "outputId": "06f095c0-e89e-4eb6-bd33-3dfd1d441a3e"
   },
   "outputs": [
    {
     "name": "stdout",
     "output_type": "stream",
     "text": [
      "                      cancer_type  counts\n",
      "0                Melanocytic nevi    6705\n",
      "1                        Melanoma    1113\n",
      "2  Benign keratosis-like lesions     1099\n",
      "3            Basal cell carcinoma     514\n",
      "4               Actinic keratoses     327\n",
      "5                Vascular lesions     142\n",
      "6                  Dermatofibroma     115\n"
     ]
    }
   ],
   "source": [
    "# Storing class count in a dataframe\n",
    "df = metadata_df[\"dx\"].value_counts().rename_axis('cancer_type').reset_index(name='counts')\n",
    "print(df)"
   ]
  },
  {
   "cell_type": "code",
   "execution_count": 26,
   "metadata": {
    "colab": {
     "base_uri": "https://localhost:8080/",
     "height": 269
    },
    "executionInfo": {
     "elapsed": 7,
     "status": "ok",
     "timestamp": 1643329375000,
     "user": {
      "displayName": "Colab Pro",
      "photoUrl": "https://lh3.googleusercontent.com/a/default-user=s64",
      "userId": "11511566011687817295"
     },
     "user_tz": 0
    },
    "id": "8wdSUSqGgUQi",
    "outputId": "33474bd1-3582-420b-a573-333453c2c9d4"
   },
   "outputs": [
    {
     "data": {
      "text/html": [
       "<div>\n",
       "<style scoped>\n",
       "    .dataframe tbody tr th:only-of-type {\n",
       "        vertical-align: middle;\n",
       "    }\n",
       "\n",
       "    .dataframe tbody tr th {\n",
       "        vertical-align: top;\n",
       "    }\n",
       "\n",
       "    .dataframe thead th {\n",
       "        text-align: right;\n",
       "    }\n",
       "</style>\n",
       "<table border=\"1\" class=\"dataframe\">\n",
       "  <thead>\n",
       "    <tr style=\"text-align: right;\">\n",
       "      <th></th>\n",
       "      <th>cancer_type</th>\n",
       "      <th>counts</th>\n",
       "      <th>Percentage</th>\n",
       "    </tr>\n",
       "  </thead>\n",
       "  <tbody>\n",
       "    <tr>\n",
       "      <th>0</th>\n",
       "      <td>Melanocytic nevi</td>\n",
       "      <td>6705</td>\n",
       "      <td>66.949576</td>\n",
       "    </tr>\n",
       "    <tr>\n",
       "      <th>1</th>\n",
       "      <td>Melanoma</td>\n",
       "      <td>1113</td>\n",
       "      <td>11.113330</td>\n",
       "    </tr>\n",
       "    <tr>\n",
       "      <th>2</th>\n",
       "      <td>Benign keratosis-like lesions</td>\n",
       "      <td>1099</td>\n",
       "      <td>10.973540</td>\n",
       "    </tr>\n",
       "    <tr>\n",
       "      <th>3</th>\n",
       "      <td>Basal cell carcinoma</td>\n",
       "      <td>514</td>\n",
       "      <td>5.132302</td>\n",
       "    </tr>\n",
       "    <tr>\n",
       "      <th>4</th>\n",
       "      <td>Actinic keratoses</td>\n",
       "      <td>327</td>\n",
       "      <td>3.265102</td>\n",
       "    </tr>\n",
       "    <tr>\n",
       "      <th>5</th>\n",
       "      <td>Vascular lesions</td>\n",
       "      <td>142</td>\n",
       "      <td>1.417873</td>\n",
       "    </tr>\n",
       "    <tr>\n",
       "      <th>6</th>\n",
       "      <td>Dermatofibroma</td>\n",
       "      <td>115</td>\n",
       "      <td>1.148278</td>\n",
       "    </tr>\n",
       "  </tbody>\n",
       "</table>\n",
       "</div>"
      ],
      "text/plain": [
       "                      cancer_type  counts  Percentage\n",
       "0                Melanocytic nevi    6705   66.949576\n",
       "1                        Melanoma    1113   11.113330\n",
       "2  Benign keratosis-like lesions     1099   10.973540\n",
       "3            Basal cell carcinoma     514    5.132302\n",
       "4               Actinic keratoses     327    3.265102\n",
       "5                Vascular lesions     142    1.417873\n",
       "6                  Dermatofibroma     115    1.148278"
      ]
     },
     "execution_count": 26,
     "metadata": {},
     "output_type": "execute_result"
    }
   ],
   "source": [
    "# Finding % for each class in the data\n",
    "df[\"Percentage\"] = (df[\"counts\"] / len(metadata_df) * 100)\n",
    "df"
   ]
  },
  {
   "cell_type": "code",
   "execution_count": 27,
   "metadata": {
    "colab": {
     "base_uri": "https://localhost:8080/",
     "height": 450
    },
    "executionInfo": {
     "elapsed": 310,
     "status": "ok",
     "timestamp": 1643329377854,
     "user": {
      "displayName": "Colab Pro",
      "photoUrl": "https://lh3.googleusercontent.com/a/default-user=s64",
      "userId": "11511566011687817295"
     },
     "user_tz": 0
    },
    "id": "ofeN5w0Kg3Dy",
    "outputId": "4ef0b2af-d260-49f9-cf03-9e5b30592962"
   },
   "outputs": [
    {
     "data": {
      "text/plain": [
       "Text(0.5, 1.02, 'Percentage of each class in dataset')"
      ]
     },
     "execution_count": 27,
     "metadata": {},
     "output_type": "execute_result"
    },
    {
     "data": {
      "image/png": "[encoded data removed]",
      "text/plain": [
       "<Figure size 432x288 with 1 Axes>"
      ]
     },
     "metadata": {
      "needs_background": "light"
     },
     "output_type": "display_data"
    }
   ],
   "source": [
    "# Plotting % of each skin cancer class\n",
    "sns.barplot(y = df[\"Percentage\"], x = df[\"cancer_type\"], data = df)\n",
    "plt.xticks(rotation = 45, \n",
    "    horizontalalignment='right',\n",
    "    fontweight='light',\n",
    "    fontsize='large'  \n",
    ")\n",
    "plt.xlabel(\"Cancer type\", labelpad=14)\n",
    "plt.ylabel(\"Percentage\", labelpad=14)\n",
    "plt.title(\"Percentage of each class in dataset\", y=1.02)"
   ]
  },
  {
   "cell_type": "markdown",
   "metadata": {
    "id": "eb6-sNRKnlGl"
   },
   "source": [
    "In a classification challenge, if there are exceptionally few samples for one or more classes out of all the classes to forecast, it may have an imbalanced classes problem in the data. \n",
    "The majority of machine learning methods assume that data is distributed uniformly across classes. The extensive difficulty with class imbalance concerns is that the algorithm will be biassed towards anticipating the majority class. The algorithm will be unable to learn the patterns found in the minority class due to a lack of data.\n",
    "\n",
    "This problem is due to two main reasons:\n",
    "\n",
    "1. The model/algorithm is not able to properly train on the class with fewer samples and therefore the results are not optimized.\n",
    "2. With number of observations low for few classes, the representation of each class becomes difficult when dividing the dataset into train, test and validation.\n",
    "\n",
    "From the above bar plot and the table we can clearly see that a single class (Melanocytic nevi) has significant number of image data (67% of the data) as compared to other classes which would result in the imbalanced data problem. Solution for the above problem can be of various type like image augmentation or assignining weights to the classes. These are discussed during the modelling process."
   ]
  },
  {
   "cell_type": "code",
   "execution_count": 28,
   "metadata": {
    "colab": {
     "base_uri": "https://localhost:8080/"
    },
    "executionInfo": {
     "elapsed": 10,
     "status": "ok",
     "timestamp": 1642790103194,
     "user": {
      "displayName": "Colab Pro",
      "photoUrl": "https://lh3.googleusercontent.com/a/default-user=s64",
      "userId": "11511566011687817295"
     },
     "user_tz": 0
    },
    "id": "4wqXyClloZD8",
    "outputId": "1ae73ee5-08b7-406a-c665-79730646b80e"
   },
   "outputs": [
    {
     "data": {
      "text/plain": [
       "lesion_id        0\n",
       "image_id         0\n",
       "dx               0\n",
       "dx_type          0\n",
       "age             57\n",
       "sex              0\n",
       "localization     0\n",
       "dtype: int64"
      ]
     },
     "execution_count": 28,
     "metadata": {},
     "output_type": "execute_result"
    }
   ],
   "source": [
    "# Finding na values in the data\n",
    "metadata_df.isna().sum()"
   ]
  },
  {
   "cell_type": "code",
   "execution_count": 29,
   "metadata": {
    "colab": {
     "base_uri": "https://localhost:8080/"
    },
    "executionInfo": {
     "elapsed": 8,
     "status": "ok",
     "timestamp": 1642790103194,
     "user": {
      "displayName": "Colab Pro",
      "photoUrl": "https://lh3.googleusercontent.com/a/default-user=s64",
      "userId": "11511566011687817295"
     },
     "user_tz": 0
    },
    "id": "v9IZjX7Ku1mz",
    "outputId": "3e81a467-7d7b-48e7-8375-156e33ad8fa7"
   },
   "outputs": [
    {
     "data": {
      "text/plain": [
       "count    9958.000000\n",
       "mean       51.863828\n",
       "std        16.968614\n",
       "min         0.000000\n",
       "25%        40.000000\n",
       "50%        50.000000\n",
       "75%        65.000000\n",
       "max        85.000000\n",
       "Name: age, dtype: float64"
      ]
     },
     "execution_count": 29,
     "metadata": {},
     "output_type": "execute_result"
    }
   ],
   "source": [
    "# Summmary based on age\n",
    "metadata_df[\"age\"].describe()"
   ]
  },
  {
   "cell_type": "code",
   "execution_count": 30,
   "metadata": {
    "colab": {
     "base_uri": "https://localhost:8080/",
     "height": 412
    },
    "executionInfo": {
     "elapsed": 672,
     "status": "ok",
     "timestamp": 1643329386309,
     "user": {
      "displayName": "Colab Pro",
      "photoUrl": "https://lh3.googleusercontent.com/a/default-user=s64",
      "userId": "11511566011687817295"
     },
     "user_tz": 0
    },
    "id": "FAbR-OjOoZBG",
    "outputId": "28b6eed8-476a-4e7f-bee7-ea44f4c12c1b"
   },
   "outputs": [
    {
     "data": {
      "text/plain": [
       "Text(0.5, 1.02, 'Age vs Count distribution')"
      ]
     },
     "execution_count": 30,
     "metadata": {},
     "output_type": "execute_result"
    },
    {
     "data": {
      "image/png": "[encoded data removed]",
      "text/plain": [
       "<Figure size 360x360 with 1 Axes>"
      ]
     },
     "metadata": {
      "needs_background": "light"
     },
     "output_type": "display_data"
    }
   ],
   "source": [
    "# Plotting age count in data\n",
    "sns.displot(metadata_df[\"age\"], kde = True)\n",
    "plt.xlabel(\"Age\", labelpad=14)\n",
    "plt.ylabel(\"Count\", labelpad=14)\n",
    "plt.title(\"Age vs Count distribution\", y=1.02)"
   ]
  },
  {
   "cell_type": "markdown",
   "metadata": {
    "id": "yGV0szd01b6K"
   },
   "source": [
    "From the above analysis we find out that age has 57 missing values. To solve this problem we find out the disribution of age across the given data.\n",
    "From the above and below plots we can clearly see that the age distribution follows a bell shaped curve (normal distribution) therefore we can use the average value to replace the missing data."
   ]
  },
  {
   "cell_type": "code",
   "execution_count": 31,
   "metadata": {
    "colab": {
     "base_uri": "https://localhost:8080/",
     "height": 334
    },
    "executionInfo": {
     "elapsed": 739,
     "status": "ok",
     "timestamp": 1642790104393,
     "user": {
      "displayName": "Colab Pro",
      "photoUrl": "https://lh3.googleusercontent.com/a/default-user=s64",
      "userId": "11511566011687817295"
     },
     "user_tz": 0
    },
    "id": "a9YfwNYrrAZK",
    "outputId": "4de7a9c7-f4fa-4a3e-8e0f-67adcfdb6f34"
   },
   "outputs": [
    {
     "name": "stderr",
     "output_type": "stream",
     "text": [
      "C:\\Users\\Acer\\AppData\\Local\\Temp/ipykernel_6380/713677637.py:7: UserWarning: Matplotlib is currently using module://matplotlib_inline.backend_inline, which is a non-GUI backend, so cannot show the figure.\n",
      "  fig.show()\n"
     ]
    },
    {
     "data": {
      "image/png": "[encoded data removed]",
      "text/plain": [
       "<Figure size 720x360 with 2 Axes>"
      ]
     },
     "metadata": {
      "needs_background": "light"
     },
     "output_type": "display_data"
    }
   ],
   "source": [
    "# Plotting age count and age as a box plot\n",
    "fig, axes = plt.subplots(1,2, figsize=(10,5))\n",
    "\n",
    "sns.histplot(metadata_df[\"age\"], kde = True, ax=axes[0])\n",
    "sns.boxplot(y=metadata_df[\"age\"], data=metadata_df, ax=axes[1])\n",
    "\n",
    "fig.show()"
   ]
  },
  {
   "cell_type": "code",
   "execution_count": 32,
   "metadata": {
    "colab": {
     "base_uri": "https://localhost:8080/",
     "height": 297
    },
    "executionInfo": {
     "elapsed": 20,
     "status": "ok",
     "timestamp": 1642790104394,
     "user": {
      "displayName": "Colab Pro",
      "photoUrl": "https://lh3.googleusercontent.com/a/default-user=s64",
      "userId": "11511566011687817295"
     },
     "user_tz": 0
    },
    "id": "OTAyLjS9oY7L",
    "outputId": "9df9ec2a-fd90-45dd-9209-1465efd5870f"
   },
   "outputs": [
    {
     "data": {
      "text/plain": [
       "<AxesSubplot:xlabel='age', ylabel='Density'>"
      ]
     },
     "execution_count": 32,
     "metadata": {},
     "output_type": "execute_result"
    },
    {
     "data": {
      "image/png": "[encoded data removed]",
      "text/plain": [
       "<Figure size 432x288 with 1 Axes>"
      ]
     },
     "metadata": {
      "needs_background": "light"
     },
     "output_type": "display_data"
    }
   ],
   "source": [
    "sns.kdeplot(metadata_df[\"age\"])"
   ]
  },
  {
   "cell_type": "code",
   "execution_count": 33,
   "metadata": {
    "colab": {
     "base_uri": "https://localhost:8080/",
     "height": 423
    },
    "executionInfo": {
     "elapsed": 16,
     "status": "ok",
     "timestamp": 1642790104395,
     "user": {
      "displayName": "Colab Pro",
      "photoUrl": "https://lh3.googleusercontent.com/a/default-user=s64",
      "userId": "11511566011687817295"
     },
     "user_tz": 0
    },
    "id": "KBiIRJz4oY4W",
    "outputId": "e7ba25e4-832c-438f-cf1f-f267bbc69f42"
   },
   "outputs": [
    {
     "data": {
      "text/html": [
       "<div>\n",
       "<style scoped>\n",
       "    .dataframe tbody tr th:only-of-type {\n",
       "        vertical-align: middle;\n",
       "    }\n",
       "\n",
       "    .dataframe tbody tr th {\n",
       "        vertical-align: top;\n",
       "    }\n",
       "\n",
       "    .dataframe thead th {\n",
       "        text-align: right;\n",
       "    }\n",
       "</style>\n",
       "<table border=\"1\" class=\"dataframe\">\n",
       "  <thead>\n",
       "    <tr style=\"text-align: right;\">\n",
       "      <th></th>\n",
       "      <th>lesion_id</th>\n",
       "      <th>image_id</th>\n",
       "      <th>dx</th>\n",
       "      <th>dx_type</th>\n",
       "      <th>age</th>\n",
       "      <th>sex</th>\n",
       "      <th>localization</th>\n",
       "    </tr>\n",
       "  </thead>\n",
       "  <tbody>\n",
       "    <tr>\n",
       "      <th>0</th>\n",
       "      <td>HAM_0000118</td>\n",
       "      <td>ISIC_0027419</td>\n",
       "      <td>Benign keratosis-like lesions</td>\n",
       "      <td>histo</td>\n",
       "      <td>80.0</td>\n",
       "      <td>male</td>\n",
       "      <td>scalp</td>\n",
       "    </tr>\n",
       "    <tr>\n",
       "      <th>1</th>\n",
       "      <td>HAM_0000118</td>\n",
       "      <td>ISIC_0025030</td>\n",
       "      <td>Benign keratosis-like lesions</td>\n",
       "      <td>histo</td>\n",
       "      <td>80.0</td>\n",
       "      <td>male</td>\n",
       "      <td>scalp</td>\n",
       "    </tr>\n",
       "    <tr>\n",
       "      <th>2</th>\n",
       "      <td>HAM_0002730</td>\n",
       "      <td>ISIC_0026769</td>\n",
       "      <td>Benign keratosis-like lesions</td>\n",
       "      <td>histo</td>\n",
       "      <td>80.0</td>\n",
       "      <td>male</td>\n",
       "      <td>scalp</td>\n",
       "    </tr>\n",
       "    <tr>\n",
       "      <th>3</th>\n",
       "      <td>HAM_0002730</td>\n",
       "      <td>ISIC_0025661</td>\n",
       "      <td>Benign keratosis-like lesions</td>\n",
       "      <td>histo</td>\n",
       "      <td>80.0</td>\n",
       "      <td>male</td>\n",
       "      <td>scalp</td>\n",
       "    </tr>\n",
       "    <tr>\n",
       "      <th>4</th>\n",
       "      <td>HAM_0001466</td>\n",
       "      <td>ISIC_0031633</td>\n",
       "      <td>Benign keratosis-like lesions</td>\n",
       "      <td>histo</td>\n",
       "      <td>75.0</td>\n",
       "      <td>male</td>\n",
       "      <td>ear</td>\n",
       "    </tr>\n",
       "    <tr>\n",
       "      <th>...</th>\n",
       "      <td>...</td>\n",
       "      <td>...</td>\n",
       "      <td>...</td>\n",
       "      <td>...</td>\n",
       "      <td>...</td>\n",
       "      <td>...</td>\n",
       "      <td>...</td>\n",
       "    </tr>\n",
       "    <tr>\n",
       "      <th>10010</th>\n",
       "      <td>HAM_0002867</td>\n",
       "      <td>ISIC_0033084</td>\n",
       "      <td>Actinic keratoses</td>\n",
       "      <td>histo</td>\n",
       "      <td>40.0</td>\n",
       "      <td>male</td>\n",
       "      <td>abdomen</td>\n",
       "    </tr>\n",
       "    <tr>\n",
       "      <th>10011</th>\n",
       "      <td>HAM_0002867</td>\n",
       "      <td>ISIC_0033550</td>\n",
       "      <td>Actinic keratoses</td>\n",
       "      <td>histo</td>\n",
       "      <td>40.0</td>\n",
       "      <td>male</td>\n",
       "      <td>abdomen</td>\n",
       "    </tr>\n",
       "    <tr>\n",
       "      <th>10012</th>\n",
       "      <td>HAM_0002867</td>\n",
       "      <td>ISIC_0033536</td>\n",
       "      <td>Actinic keratoses</td>\n",
       "      <td>histo</td>\n",
       "      <td>40.0</td>\n",
       "      <td>male</td>\n",
       "      <td>abdomen</td>\n",
       "    </tr>\n",
       "    <tr>\n",
       "      <th>10013</th>\n",
       "      <td>HAM_0000239</td>\n",
       "      <td>ISIC_0032854</td>\n",
       "      <td>Actinic keratoses</td>\n",
       "      <td>histo</td>\n",
       "      <td>80.0</td>\n",
       "      <td>male</td>\n",
       "      <td>face</td>\n",
       "    </tr>\n",
       "    <tr>\n",
       "      <th>10014</th>\n",
       "      <td>HAM_0003521</td>\n",
       "      <td>ISIC_0032258</td>\n",
       "      <td>Melanoma</td>\n",
       "      <td>histo</td>\n",
       "      <td>70.0</td>\n",
       "      <td>female</td>\n",
       "      <td>back</td>\n",
       "    </tr>\n",
       "  </tbody>\n",
       "</table>\n",
       "<p>10015 rows × 7 columns</p>\n",
       "</div>"
      ],
      "text/plain": [
       "         lesion_id      image_id                              dx dx_type  \\\n",
       "0      HAM_0000118  ISIC_0027419  Benign keratosis-like lesions    histo   \n",
       "1      HAM_0000118  ISIC_0025030  Benign keratosis-like lesions    histo   \n",
       "2      HAM_0002730  ISIC_0026769  Benign keratosis-like lesions    histo   \n",
       "3      HAM_0002730  ISIC_0025661  Benign keratosis-like lesions    histo   \n",
       "4      HAM_0001466  ISIC_0031633  Benign keratosis-like lesions    histo   \n",
       "...            ...           ...                             ...     ...   \n",
       "10010  HAM_0002867  ISIC_0033084               Actinic keratoses   histo   \n",
       "10011  HAM_0002867  ISIC_0033550               Actinic keratoses   histo   \n",
       "10012  HAM_0002867  ISIC_0033536               Actinic keratoses   histo   \n",
       "10013  HAM_0000239  ISIC_0032854               Actinic keratoses   histo   \n",
       "10014  HAM_0003521  ISIC_0032258                        Melanoma   histo   \n",
       "\n",
       "        age     sex localization  \n",
       "0      80.0    male        scalp  \n",
       "1      80.0    male        scalp  \n",
       "2      80.0    male        scalp  \n",
       "3      80.0    male        scalp  \n",
       "4      75.0    male          ear  \n",
       "...     ...     ...          ...  \n",
       "10010  40.0    male      abdomen  \n",
       "10011  40.0    male      abdomen  \n",
       "10012  40.0    male      abdomen  \n",
       "10013  80.0    male         face  \n",
       "10014  70.0  female         back  \n",
       "\n",
       "[10015 rows x 7 columns]"
      ]
     },
     "execution_count": 33,
     "metadata": {},
     "output_type": "execute_result"
    }
   ],
   "source": [
    "# Filling na values as the mean of the data\n",
    "metadata_df['age'].fillna((metadata_df['age'].mean()), inplace=True)\n",
    "metadata_df"
   ]
  },
  {
   "cell_type": "markdown",
   "metadata": {
    "id": "BGSZqbLPqxsj"
   },
   "source": [
    "# Data Engineering "
   ]
  },
  {
   "cell_type": "markdown",
   "metadata": {
    "id": "Ichhf4lwn2UI"
   },
   "source": [
    "Transforming and transporting data to their respective directories for easy implementation of the modeling techniques. Her we are seperating each image into the folders according to their classes after dividing the images in 3 parts, \n",
    "- training 80%\n",
    "- testing 10% and \n",
    "- validating images 10%.\n",
    "\n",
    "Zipped the final data as engineered_data.zip.\n",
    "\n",
    "**Folder structure of the zip folder**\n",
    "\n",
    "```\n",
    "content\n",
    "  base_dir\n",
    "    |-train_dir\n",
    "          |- 7 Folders for each class with their respective images.\n",
    "    |-test_dir\n",
    "          |- 7 Folders for each class with their respective images.\n",
    "    |-val_dir\n",
    "          |- 7 Folders for each class with their respective images.\n",
    "```"
   ]
  },
  {
   "cell_type": "code",
   "execution_count": 34,
   "metadata": {
    "colab": {
     "base_uri": "https://localhost:8080/",
     "height": 35
    },
    "executionInfo": {
     "elapsed": 17,
     "status": "ok",
     "timestamp": 1642790104397,
     "user": {
      "displayName": "Colab Pro",
      "photoUrl": "https://lh3.googleusercontent.com/a/default-user=s64",
      "userId": "11511566011687817295"
     },
     "user_tz": 0
    },
    "id": "TFpIihpErn8c",
    "outputId": "fbfb5b07-dca9-415b-f49d-fbb6a6585072"
   },
   "outputs": [
    {
     "data": {
      "text/plain": [
       "'content'"
      ]
     },
     "execution_count": 34,
     "metadata": {},
     "output_type": "execute_result"
    }
   ],
   "source": [
    "input"
   ]
  },
  {
   "cell_type": "code",
   "execution_count": 35,
   "metadata": {
    "id": "ftxvdlQhr7Q8"
   },
   "outputs": [],
   "source": [
    "# Creating a folder for the engineered data\n",
    "try:\n",
    "  os.mkdir(\"content/consolidated_data\")\n",
    "except FileExistsError: \n",
    "  print(\"Folder Already Exists!\")"
   ]
  },
  {
   "cell_type": "code",
   "execution_count": 42,
   "metadata": {
    "id": "hvRNWjAmoY1x"
   },
   "outputs": [],
   "source": [
    "# Setting directory path in variables to move data\n",
    "src1_dir = \"content/ham10000_images_part_1\"\n",
    "src2_dir = \"content/ham10000_images_part_2\"\n",
    "dst_dir = \"content/consolidated_data\"\n",
    "\n",
    "# Copying images\n",
    "for images1 in glob(os.path.join(src1_dir, \"*.jpg\")):\n",
    "    shutil.copy(images1, dst_dir)\n",
    "\n",
    "for images2 in glob(os.path.join(src2_dir, \"*.jpg\")):\n",
    "  shutil.copy(images2, dst_dir)"
   ]
  },
  {
   "cell_type": "code",
   "execution_count": 43,
   "metadata": {
    "colab": {
     "base_uri": "https://localhost:8080/"
    },
    "executionInfo": {
     "elapsed": 22,
     "status": "ok",
     "timestamp": 1642790134964,
     "user": {
      "displayName": "Colab Pro",
      "photoUrl": "https://lh3.googleusercontent.com/a/default-user=s64",
      "userId": "11511566011687817295"
     },
     "user_tz": 0
    },
    "id": "ufyIOsI-oYyx",
    "outputId": "54315e0b-260d-4769-9db9-bd47d4008b9a"
   },
   "outputs": [
    {
     "data": {
      "text/plain": [
       "10015"
      ]
     },
     "execution_count": 43,
     "metadata": {},
     "output_type": "execute_result"
    }
   ],
   "source": [
    "# Checking the total number of images\n",
    "len(os.listdir(\"content/consolidated_data\"))"
   ]
  },
  {
   "cell_type": "code",
   "execution_count": 45,
   "metadata": {
    "id": "oGuqI-7BoYwA"
   },
   "outputs": [],
   "source": [
    "image_name = []\n",
    "for i in os.listdir(\"content/consolidated_data\"):\n",
    "  fname = os.path.splitext(i)\n",
    "  image_name.append(fname[0])"
   ]
  },
  {
   "cell_type": "code",
   "execution_count": 1,
   "metadata": {
    "id": "a8nwb81s0V2r"
   },
   "outputs": [],
   "source": [
    "#image_name"
   ]
  },
  {
   "cell_type": "code",
   "execution_count": null,
   "metadata": {
    "colab": {
     "base_uri": "https://localhost:8080/"
    },
    "executionInfo": {
     "elapsed": 281,
     "status": "ok",
     "timestamp": 1642793595603,
     "user": {
      "displayName": "Colab Pro",
      "photoUrl": "https://lh3.googleusercontent.com/a/default-user=s64",
      "userId": "11511566011687817295"
     },
     "user_tz": 0
    },
    "id": "duOaNj-U2GAr",
    "outputId": "e6ea161b-53ad-4ff7-cc23-cfe66cc1b167"
   },
   "outputs": [],
   "source": [
    "metadata_df2[\"dx\"].unique()"
   ]
  },
  {
   "cell_type": "code",
   "execution_count": null,
   "metadata": {
    "colab": {
     "base_uri": "https://localhost:8080/"
    },
    "executionInfo": {
     "elapsed": 234,
     "status": "ok",
     "timestamp": 1642793708629,
     "user": {
      "displayName": "Colab Pro",
      "photoUrl": "https://lh3.googleusercontent.com/a/default-user=s64",
      "userId": "11511566011687817295"
     },
     "user_tz": 0
    },
    "id": "HU1BnLQIIMyh",
    "outputId": "4a756d98-7c5d-4333-f41d-e6b055878aeb"
   },
   "outputs": [
    {
     "data": {
      "text/plain": [
       "['bkl', 'nv', 'df', 'mel', 'vasc', 'bcc', 'akiec']"
      ]
     },
     "execution_count": 44,
     "metadata": {},
     "output_type": "execute_result"
    }
   ],
   "source": [
    "labels = [] \n",
    "for i in metadata_df2[\"dx\"].unique():\n",
    "  labels.append(i)\n",
    "labels"
   ]
  },
  {
   "cell_type": "code",
   "execution_count": 49,
   "metadata": {
    "colab": {
     "base_uri": "https://localhost:8080/"
    },
    "executionInfo": {
     "elapsed": 228,
     "status": "ok",
     "timestamp": 1642794021734,
     "user": {
      "displayName": "Colab Pro",
      "photoUrl": "https://lh3.googleusercontent.com/a/default-user=s64",
      "userId": "11511566011687817295"
     },
     "user_tz": 0
    },
    "id": "dpNOrz7qJuaG",
    "outputId": "16894306-db91-42c8-de8d-99b6a7f100a7"
   },
   "outputs": [
    {
     "data": {
      "text/plain": [
       "10015"
      ]
     },
     "execution_count": 49,
     "metadata": {},
     "output_type": "execute_result"
    }
   ],
   "source": [
    "len(os.listdir(\"content/consolidated_data\"))"
   ]
  },
  {
   "cell_type": "code",
   "execution_count": 52,
   "metadata": {
    "colab": {
     "base_uri": "https://localhost:8080/"
    },
    "executionInfo": {
     "elapsed": 3,
     "status": "ok",
     "timestamp": 1642794322945,
     "user": {
      "displayName": "Colab Pro",
      "photoUrl": "https://lh3.googleusercontent.com/a/default-user=s64",
      "userId": "11511566011687817295"
     },
     "user_tz": 0
    },
    "id": "4slh97LgKwxx",
    "outputId": "96e0c242-d458-4aed-ea2c-ba4ea306d57f"
   },
   "outputs": [
    {
     "data": {
      "text/plain": [
       "101"
      ]
     },
     "execution_count": 52,
     "metadata": {},
     "output_type": "execute_result"
    }
   ],
   "source": [
    "import math \n",
    "math.floor(101.5)"
   ]
  },
  {
   "cell_type": "code",
   "execution_count": 53,
   "metadata": {
    "colab": {
     "base_uri": "https://localhost:8080/"
    },
    "executionInfo": {
     "elapsed": 204,
     "status": "ok",
     "timestamp": 1642794352865,
     "user": {
      "displayName": "Colab Pro",
      "photoUrl": "https://lh3.googleusercontent.com/a/default-user=s64",
      "userId": "11511566011687817295"
     },
     "user_tz": 0
    },
    "id": "w0Z1-ZI5KLGV",
    "outputId": "a2d35a1f-291e-4ab0-d958-5a03583d4946"
   },
   "outputs": [
    {
     "name": "stdout",
     "output_type": "stream",
     "text": [
      "8012 1001 1001\n"
     ]
    }
   ],
   "source": [
    "# Dividing data in 80, 10 & 10 percentage for train, test and validate respectively\n",
    "train_data_length = math.floor(len(os.listdir(\"content/consolidated_data\")) * 0.80)\n",
    "val_data_length = math.floor(len(os.listdir(\"content/consolidated_data\")) * 0.10)\n",
    "test_data_length = math.floor(len(os.listdir(\"content/consolidated_data\")) * 0.10)\n",
    "\n",
    "print(train_data_length, val_data_length, test_data_length)"
   ]
  },
  {
   "cell_type": "code",
   "execution_count": null,
   "metadata": {
    "colab": {
     "base_uri": "https://localhost:8080/",
     "height": 269
    },
    "executionInfo": {
     "elapsed": 254,
     "status": "ok",
     "timestamp": 1642795127410,
     "user": {
      "displayName": "Colab Pro",
      "photoUrl": "https://lh3.googleusercontent.com/a/default-user=s64",
      "userId": "11511566011687817295"
     },
     "user_tz": 0
    },
    "id": "_RABTToYIMv-",
    "outputId": "a9bc03c1-fc71-4702-ae5a-e1181e4f6e53"
   },
   "outputs": [
    {
     "data": {
      "text/html": [
       "\n",
       "  <div id=\"df-78e4ab5e-2e87-4e6b-aaf7-461a4eb0b75d\">\n",
       "    <div class=\"colab-df-container\">\n",
       "      <div>\n",
       "<style scoped>\n",
       "    .dataframe tbody tr th:only-of-type {\n",
       "        vertical-align: middle;\n",
       "    }\n",
       "\n",
       "    .dataframe tbody tr th {\n",
       "        vertical-align: top;\n",
       "    }\n",
       "\n",
       "    .dataframe thead th {\n",
       "        text-align: right;\n",
       "    }\n",
       "</style>\n",
       "<table border=\"1\" class=\"dataframe\">\n",
       "  <thead>\n",
       "    <tr style=\"text-align: right;\">\n",
       "      <th></th>\n",
       "      <th>cancer_type</th>\n",
       "      <th>counts</th>\n",
       "      <th>Percentage</th>\n",
       "    </tr>\n",
       "  </thead>\n",
       "  <tbody>\n",
       "    <tr>\n",
       "      <th>0</th>\n",
       "      <td>nv</td>\n",
       "      <td>6705</td>\n",
       "      <td>66.949576</td>\n",
       "    </tr>\n",
       "    <tr>\n",
       "      <th>1</th>\n",
       "      <td>mel</td>\n",
       "      <td>1113</td>\n",
       "      <td>11.113330</td>\n",
       "    </tr>\n",
       "    <tr>\n",
       "      <th>2</th>\n",
       "      <td>bkl</td>\n",
       "      <td>1099</td>\n",
       "      <td>10.973540</td>\n",
       "    </tr>\n",
       "    <tr>\n",
       "      <th>3</th>\n",
       "      <td>bcc</td>\n",
       "      <td>514</td>\n",
       "      <td>5.132302</td>\n",
       "    </tr>\n",
       "    <tr>\n",
       "      <th>4</th>\n",
       "      <td>akiec</td>\n",
       "      <td>327</td>\n",
       "      <td>3.265102</td>\n",
       "    </tr>\n",
       "    <tr>\n",
       "      <th>5</th>\n",
       "      <td>vasc</td>\n",
       "      <td>142</td>\n",
       "      <td>1.417873</td>\n",
       "    </tr>\n",
       "    <tr>\n",
       "      <th>6</th>\n",
       "      <td>df</td>\n",
       "      <td>115</td>\n",
       "      <td>1.148278</td>\n",
       "    </tr>\n",
       "  </tbody>\n",
       "</table>\n",
       "</div>\n",
       "      <button class=\"colab-df-convert\" onclick=\"convertToInteractive('df-78e4ab5e-2e87-4e6b-aaf7-461a4eb0b75d')\"\n",
       "              title=\"Convert this dataframe to an interactive table.\"\n",
       "              style=\"display:none;\">\n",
       "        \n",
       "  <svg xmlns=\"http://www.w3.org/2000/svg\" height=\"24px\"viewBox=\"0 0 24 24\"\n",
       "       width=\"24px\">\n",
       "    <path d=\"M0 0h24v24H0V0z\" fill=\"none\"/>\n",
       "    <path d=\"M18.56 5.44l.94 2.06.94-2.06 2.06-.94-2.06-.94-.94-2.06-.94 2.06-2.06.94zm-11 1L8.5 8.5l.94-2.06 2.06-.94-2.06-.94L8.5 2.5l-.94 2.06-2.06.94zm10 10l.94 2.06.94-2.06 2.06-.94-2.06-.94-.94-2.06-.94 2.06-2.06.94z\"/><path d=\"M17.41 7.96l-1.37-1.37c-.4-.4-.92-.59-1.43-.59-.52 0-1.04.2-1.43.59L10.3 9.45l-7.72 7.72c-.78.78-.78 2.05 0 2.83L4 21.41c.39.39.9.59 1.41.59.51 0 1.02-.2 1.41-.59l7.78-7.78 2.81-2.81c.8-.78.8-2.07 0-2.86zM5.41 20L4 18.59l7.72-7.72 1.47 1.35L5.41 20z\"/>\n",
       "  </svg>\n",
       "      </button>\n",
       "      \n",
       "  <style>\n",
       "    .colab-df-container {\n",
       "      display:flex;\n",
       "      flex-wrap:wrap;\n",
       "      gap: 12px;\n",
       "    }\n",
       "\n",
       "    .colab-df-convert {\n",
       "      background-color: #E8F0FE;\n",
       "      border: none;\n",
       "      border-radius: 50%;\n",
       "      cursor: pointer;\n",
       "      display: none;\n",
       "      fill: #1967D2;\n",
       "      height: 32px;\n",
       "      padding: 0 0 0 0;\n",
       "      width: 32px;\n",
       "    }\n",
       "\n",
       "    .colab-df-convert:hover {\n",
       "      background-color: #E2EBFA;\n",
       "      box-shadow: 0px 1px 2px rgba(60, 64, 67, 0.3), 0px 1px 3px 1px rgba(60, 64, 67, 0.15);\n",
       "      fill: #174EA6;\n",
       "    }\n",
       "\n",
       "    [theme=dark] .colab-df-convert {\n",
       "      background-color: #3B4455;\n",
       "      fill: #D2E3FC;\n",
       "    }\n",
       "\n",
       "    [theme=dark] .colab-df-convert:hover {\n",
       "      background-color: #434B5C;\n",
       "      box-shadow: 0px 1px 3px 1px rgba(0, 0, 0, 0.15);\n",
       "      filter: drop-shadow(0px 1px 2px rgba(0, 0, 0, 0.3));\n",
       "      fill: #FFFFFF;\n",
       "    }\n",
       "  </style>\n",
       "\n",
       "      <script>\n",
       "        const buttonEl =\n",
       "          document.querySelector('#df-78e4ab5e-2e87-4e6b-aaf7-461a4eb0b75d button.colab-df-convert');\n",
       "        buttonEl.style.display =\n",
       "          google.colab.kernel.accessAllowed ? 'block' : 'none';\n",
       "\n",
       "        async function convertToInteractive(key) {\n",
       "          const element = document.querySelector('#df-78e4ab5e-2e87-4e6b-aaf7-461a4eb0b75d');\n",
       "          const dataTable =\n",
       "            await google.colab.kernel.invokeFunction('convertToInteractive',\n",
       "                                                     [key], {});\n",
       "          if (!dataTable) return;\n",
       "\n",
       "          const docLinkHtml = 'Like what you see? Visit the ' +\n",
       "            '<a target=\"_blank\" href=https://colab.research.google.com/notebooks/data_table.ipynb>data table notebook</a>'\n",
       "            + ' to learn more about interactive tables.';\n",
       "          element.innerHTML = '';\n",
       "          dataTable['output_type'] = 'display_data';\n",
       "          await google.colab.output.renderOutput(dataTable, element);\n",
       "          const docLink = document.createElement('div');\n",
       "          docLink.innerHTML = docLinkHtml;\n",
       "          element.appendChild(docLink);\n",
       "        }\n",
       "      </script>\n",
       "    </div>\n",
       "  </div>\n",
       "  "
      ],
      "text/plain": [
       "  cancer_type  counts  Percentage\n",
       "0          nv    6705   66.949576\n",
       "1         mel    1113   11.113330\n",
       "2         bkl    1099   10.973540\n",
       "3         bcc     514    5.132302\n",
       "4       akiec     327    3.265102\n",
       "5        vasc     142    1.417873\n",
       "6          df     115    1.148278"
      ]
     },
     "execution_count": 52,
     "metadata": {},
     "output_type": "execute_result"
    }
   ],
   "source": [
    "# Displaying Percentage of data/images for each class\n",
    "df_dist = metadata_df2[\"dx\"].value_counts().rename_axis('cancer_type').reset_index(name='counts')\n",
    "df_dist[\"Percentage\"] = (df_dist[\"counts\"] / len(metadata_df2) * 100)\n",
    "df_dist"
   ]
  },
  {
   "cell_type": "code",
   "execution_count": null,
   "metadata": {
    "colab": {
     "base_uri": "https://localhost:8080/",
     "height": 269
    },
    "executionInfo": {
     "elapsed": 252,
     "status": "ok",
     "timestamp": 1642811905422,
     "user": {
      "displayName": "Colab Pro",
      "photoUrl": "https://lh3.googleusercontent.com/a/default-user=s64",
      "userId": "11511566011687817295"
     },
     "user_tz": 0
    },
    "id": "gnC94n7XWuxD",
    "outputId": "021146c2-7bae-404a-fb99-ce6494b830be"
   },
   "outputs": [
    {
     "data": {
      "text/html": [
       "\n",
       "  <div id=\"df-55645882-da9a-4cc0-acd0-59715ac5798a\">\n",
       "    <div class=\"colab-df-container\">\n",
       "      <div>\n",
       "<style scoped>\n",
       "    .dataframe tbody tr th:only-of-type {\n",
       "        vertical-align: middle;\n",
       "    }\n",
       "\n",
       "    .dataframe tbody tr th {\n",
       "        vertical-align: top;\n",
       "    }\n",
       "\n",
       "    .dataframe thead th {\n",
       "        text-align: right;\n",
       "    }\n",
       "</style>\n",
       "<table border=\"1\" class=\"dataframe\">\n",
       "  <thead>\n",
       "    <tr style=\"text-align: right;\">\n",
       "      <th></th>\n",
       "      <th>cancer_type</th>\n",
       "      <th>counts</th>\n",
       "      <th>Percentage</th>\n",
       "      <th>train_set</th>\n",
       "      <th>val_set</th>\n",
       "      <th>test_set</th>\n",
       "    </tr>\n",
       "  </thead>\n",
       "  <tbody>\n",
       "    <tr>\n",
       "      <th>4</th>\n",
       "      <td>akiec</td>\n",
       "      <td>327</td>\n",
       "      <td>3.265102</td>\n",
       "      <td>261.6</td>\n",
       "      <td>32.683674</td>\n",
       "      <td>32.683674</td>\n",
       "    </tr>\n",
       "    <tr>\n",
       "      <th>3</th>\n",
       "      <td>bcc</td>\n",
       "      <td>514</td>\n",
       "      <td>5.132302</td>\n",
       "      <td>411.2</td>\n",
       "      <td>51.374338</td>\n",
       "      <td>51.374338</td>\n",
       "    </tr>\n",
       "    <tr>\n",
       "      <th>2</th>\n",
       "      <td>bkl</td>\n",
       "      <td>1099</td>\n",
       "      <td>10.973540</td>\n",
       "      <td>879.2</td>\n",
       "      <td>109.845132</td>\n",
       "      <td>109.845132</td>\n",
       "    </tr>\n",
       "    <tr>\n",
       "      <th>6</th>\n",
       "      <td>df</td>\n",
       "      <td>115</td>\n",
       "      <td>1.148278</td>\n",
       "      <td>92.0</td>\n",
       "      <td>11.494259</td>\n",
       "      <td>11.494259</td>\n",
       "    </tr>\n",
       "    <tr>\n",
       "      <th>1</th>\n",
       "      <td>mel</td>\n",
       "      <td>1113</td>\n",
       "      <td>11.113330</td>\n",
       "      <td>890.4</td>\n",
       "      <td>111.244433</td>\n",
       "      <td>111.244433</td>\n",
       "    </tr>\n",
       "    <tr>\n",
       "      <th>0</th>\n",
       "      <td>nv</td>\n",
       "      <td>6705</td>\n",
       "      <td>66.949576</td>\n",
       "      <td>5364.0</td>\n",
       "      <td>670.165252</td>\n",
       "      <td>670.165252</td>\n",
       "    </tr>\n",
       "    <tr>\n",
       "      <th>5</th>\n",
       "      <td>vasc</td>\n",
       "      <td>142</td>\n",
       "      <td>1.417873</td>\n",
       "      <td>113.6</td>\n",
       "      <td>14.192911</td>\n",
       "      <td>14.192911</td>\n",
       "    </tr>\n",
       "  </tbody>\n",
       "</table>\n",
       "</div>\n",
       "      <button class=\"colab-df-convert\" onclick=\"convertToInteractive('df-55645882-da9a-4cc0-acd0-59715ac5798a')\"\n",
       "              title=\"Convert this dataframe to an interactive table.\"\n",
       "              style=\"display:none;\">\n",
       "        \n",
       "  <svg xmlns=\"http://www.w3.org/2000/svg\" height=\"24px\"viewBox=\"0 0 24 24\"\n",
       "       width=\"24px\">\n",
       "    <path d=\"M0 0h24v24H0V0z\" fill=\"none\"/>\n",
       "    <path d=\"M18.56 5.44l.94 2.06.94-2.06 2.06-.94-2.06-.94-.94-2.06-.94 2.06-2.06.94zm-11 1L8.5 8.5l.94-2.06 2.06-.94-2.06-.94L8.5 2.5l-.94 2.06-2.06.94zm10 10l.94 2.06.94-2.06 2.06-.94-2.06-.94-.94-2.06-.94 2.06-2.06.94z\"/><path d=\"M17.41 7.96l-1.37-1.37c-.4-.4-.92-.59-1.43-.59-.52 0-1.04.2-1.43.59L10.3 9.45l-7.72 7.72c-.78.78-.78 2.05 0 2.83L4 21.41c.39.39.9.59 1.41.59.51 0 1.02-.2 1.41-.59l7.78-7.78 2.81-2.81c.8-.78.8-2.07 0-2.86zM5.41 20L4 18.59l7.72-7.72 1.47 1.35L5.41 20z\"/>\n",
       "  </svg>\n",
       "      </button>\n",
       "      \n",
       "  <style>\n",
       "    .colab-df-container {\n",
       "      display:flex;\n",
       "      flex-wrap:wrap;\n",
       "      gap: 12px;\n",
       "    }\n",
       "\n",
       "    .colab-df-convert {\n",
       "      background-color: #E8F0FE;\n",
       "      border: none;\n",
       "      border-radius: 50%;\n",
       "      cursor: pointer;\n",
       "      display: none;\n",
       "      fill: #1967D2;\n",
       "      height: 32px;\n",
       "      padding: 0 0 0 0;\n",
       "      width: 32px;\n",
       "    }\n",
       "\n",
       "    .colab-df-convert:hover {\n",
       "      background-color: #E2EBFA;\n",
       "      box-shadow: 0px 1px 2px rgba(60, 64, 67, 0.3), 0px 1px 3px 1px rgba(60, 64, 67, 0.15);\n",
       "      fill: #174EA6;\n",
       "    }\n",
       "\n",
       "    [theme=dark] .colab-df-convert {\n",
       "      background-color: #3B4455;\n",
       "      fill: #D2E3FC;\n",
       "    }\n",
       "\n",
       "    [theme=dark] .colab-df-convert:hover {\n",
       "      background-color: #434B5C;\n",
       "      box-shadow: 0px 1px 3px 1px rgba(0, 0, 0, 0.15);\n",
       "      filter: drop-shadow(0px 1px 2px rgba(0, 0, 0, 0.3));\n",
       "      fill: #FFFFFF;\n",
       "    }\n",
       "  </style>\n",
       "\n",
       "      <script>\n",
       "        const buttonEl =\n",
       "          document.querySelector('#df-55645882-da9a-4cc0-acd0-59715ac5798a button.colab-df-convert');\n",
       "        buttonEl.style.display =\n",
       "          google.colab.kernel.accessAllowed ? 'block' : 'none';\n",
       "\n",
       "        async function convertToInteractive(key) {\n",
       "          const element = document.querySelector('#df-55645882-da9a-4cc0-acd0-59715ac5798a');\n",
       "          const dataTable =\n",
       "            await google.colab.kernel.invokeFunction('convertToInteractive',\n",
       "                                                     [key], {});\n",
       "          if (!dataTable) return;\n",
       "\n",
       "          const docLinkHtml = 'Like what you see? Visit the ' +\n",
       "            '<a target=\"_blank\" href=https://colab.research.google.com/notebooks/data_table.ipynb>data table notebook</a>'\n",
       "            + ' to learn more about interactive tables.';\n",
       "          element.innerHTML = '';\n",
       "          dataTable['output_type'] = 'display_data';\n",
       "          await google.colab.output.renderOutput(dataTable, element);\n",
       "          const docLink = document.createElement('div');\n",
       "          docLink.innerHTML = docLinkHtml;\n",
       "          element.appendChild(docLink);\n",
       "        }\n",
       "      </script>\n",
       "    </div>\n",
       "  </div>\n",
       "  "
      ],
      "text/plain": [
       "  cancer_type  counts  Percentage  train_set     val_set    test_set\n",
       "4       akiec     327    3.265102      261.6   32.683674   32.683674\n",
       "3         bcc     514    5.132302      411.2   51.374338   51.374338\n",
       "2         bkl    1099   10.973540      879.2  109.845132  109.845132\n",
       "6          df     115    1.148278       92.0   11.494259   11.494259\n",
       "1         mel    1113   11.113330      890.4  111.244433  111.244433\n",
       "0          nv    6705   66.949576     5364.0  670.165252  670.165252\n",
       "5        vasc     142    1.417873      113.6   14.192911   14.192911"
      ]
     },
     "execution_count": 73,
     "metadata": {},
     "output_type": "execute_result"
    }
   ],
   "source": [
    "# DIsplaying the splitted data statistics\n",
    "df_dist[\"train_set\"] = ((df_dist[\"Percentage\"]/100) * 8012)\n",
    "df_dist[\"val_set\"] = ((df_dist[\"Percentage\"]/100) * 1001)\n",
    "df_dist[\"test_set\"] = ((df_dist[\"Percentage\"]/100) * 1001)\n",
    "df_dist = df_dist.sort_values(\"cancer_type\")\n",
    "df_dist"
   ]
  },
  {
   "cell_type": "code",
   "execution_count": null,
   "metadata": {
    "colab": {
     "base_uri": "https://localhost:8080/"
    },
    "executionInfo": {
     "elapsed": 248,
     "status": "ok",
     "timestamp": 1642801288545,
     "user": {
      "displayName": "Colab Pro",
      "photoUrl": "https://lh3.googleusercontent.com/a/default-user=s64",
      "userId": "11511566011687817295"
     },
     "user_tz": 0
    },
    "id": "8uoZi2trIMtG",
    "outputId": "9e524404-deae-47b4-ea87-504df3ade4a6"
   },
   "outputs": [
    {
     "data": {
      "text/plain": [
       "1.1482775836245633"
      ]
     },
     "execution_count": 63,
     "metadata": {},
     "output_type": "execute_result"
    }
   ],
   "source": [
    "df_dist[\"Percentage\"][6]"
   ]
  },
  {
   "cell_type": "code",
   "execution_count": 76,
   "metadata": {
    "colab": {
     "base_uri": "https://localhost:8080/"
    },
    "executionInfo": {
     "elapsed": 218,
     "status": "ok",
     "timestamp": 1642803749743,
     "user": {
      "displayName": "Colab Pro",
      "photoUrl": "https://lh3.googleusercontent.com/a/default-user=s64",
      "userId": "11511566011687817295"
     },
     "user_tz": 0
    },
    "id": "QEAjzeSmu2dY",
    "outputId": "c5c3c592-1edf-4533-f58d-e05e7c391cb7"
   },
   "outputs": [
    {
     "data": {
      "text/plain": [
       "['akiec', 'bcc', 'bkl', 'df', 'mel', 'nv', 'vasc']"
      ]
     },
     "execution_count": 76,
     "metadata": {},
     "output_type": "execute_result"
    }
   ],
   "source": [
    "labels = sorted(labels)\n",
    "labels"
   ]
  },
  {
   "cell_type": "code",
   "execution_count": 57,
   "metadata": {
    "id": "q6-j3g-KvuWI"
   },
   "outputs": [],
   "source": [
    "NEW_DIR = \"content/consolidated_data\""
   ]
  },
  {
   "cell_type": "code",
   "execution_count": 58,
   "metadata": {
    "id": "Ln7EVMwklmt0"
   },
   "outputs": [],
   "source": [
    "# Setting up paths for clean/seperated data\n",
    "train_dir = \"content/base_dir/train_dir/\"\n",
    "val_dir = \"content/base_dir/val_dir/\"\n",
    "test_dir = \"content/base_dir/test_dir/\""
   ]
  },
  {
   "cell_type": "code",
   "execution_count": 59,
   "metadata": {
    "colab": {
     "base_uri": "https://localhost:8080/"
    },
    "executionInfo": {
     "elapsed": 267,
     "status": "ok",
     "timestamp": 1642810287143,
     "user": {
      "displayName": "Colab Pro",
      "photoUrl": "https://lh3.googleusercontent.com/a/default-user=s64",
      "userId": "11511566011687817295"
     },
     "user_tz": 0
    },
    "id": "WxyOtCA1oYn2",
    "outputId": "9c54c816-8059-4aaa-e7fc-8a62460b5af4"
   },
   "outputs": [
    {
     "name": "stdout",
     "output_type": "stream",
     "text": [
      "nv       6705\n",
      "mel      1113\n",
      "bkl      1099\n",
      "bcc       514\n",
      "akiec     327\n",
      "vasc      142\n",
      "df        115\n",
      "Name: dx, dtype: int64\n"
     ]
    }
   ],
   "source": [
    "# Dump all images into a folder and specify the path:\n",
    "data_dir = \"content/consolidated_data\"\n",
    "\n",
    "# Path to destination directory where we want subfolders\n",
    "dest_dir = \"content/clean_data/\"\n",
    "\n",
    "# Read the csv file containing image names and corresponding labels\n",
    "metadata_df2 = pd.read_csv(\"content/HAM10000_metadata.csv\")\n",
    "print(metadata_df2['dx'].value_counts())\n",
    "\n",
    "#Extract labels into a list\n",
    "label = metadata_df2['dx'].unique().tolist()\n",
    "label_images = []  "
   ]
  },
  {
   "cell_type": "code",
   "execution_count": 64,
   "metadata": {},
   "outputs": [],
   "source": [
    "try: \n",
    "  os.mkdir(\"content/clean_data\")\n",
    "except FileExistsError:\n",
    "  print(\"Folder Already exists\")"
   ]
  },
  {
   "cell_type": "code",
   "execution_count": 65,
   "metadata": {
    "id": "NCHxPIwnoYk9"
   },
   "outputs": [],
   "source": [
    "# Copy images to new folders\n",
    "for i in label:\n",
    "    os.mkdir(dest_dir + str(i) + \"/\")\n",
    "    sample = metadata_df2[metadata_df2['dx'] == i]['image_id']\n",
    "    label_images.extend(sample)\n",
    "    for id in label_images:\n",
    "        shutil.copyfile((data_dir + \"/\"+ id +\".jpg\"), (dest_dir + i + \"/\"+id+\".jpg\"))\n",
    "    label_images=[]  "
   ]
  },
  {
   "cell_type": "markdown",
   "metadata": {},
   "source": [
    "**Dividing the data based on each class into trainning data, test data and validation data.**"
   ]
  },
  {
   "cell_type": "code",
   "execution_count": 77,
   "metadata": {
    "id": "iAAqD98_apj1"
   },
   "outputs": [],
   "source": [
    "#### *************** Training Data ****************** ###\n",
    "##*** akiec *** ##\n",
    "source = 'content/clean_data/'+ labels[0]\n",
    "dest = 'content/base_dir/train_dir/' + labels[0]\n",
    "files = os.listdir(source)\n",
    "no_of_files = 261\n",
    "\n",
    "filelist = glob(os.path.join(dest, \"*\"))\n",
    "for f in filelist:\n",
    "    os.remove(f)\n",
    "\n",
    "for file_name in random.sample(files, no_of_files):\n",
    "  shutil.copy(os.path.join(source, file_name), dest)\n",
    "\n",
    "##*** bcc *** ##\n",
    "source = 'content/clean_data/'+ labels[1]\n",
    "dest = 'content/base_dir/train_dir/' + labels[1]\n",
    "files = os.listdir(source)\n",
    "no_of_files = 411\n",
    "\n",
    "filelist = glob(os.path.join(dest, \"*\"))\n",
    "for f in filelist:\n",
    "    os.remove(f)\n",
    "\n",
    "for file_name in random.sample(files, no_of_files):\n",
    "  shutil.copy(os.path.join(source, file_name), dest)\n",
    "\n",
    "##*** bkl *** ##\n",
    "source = 'content/clean_data/'+ labels[2]\n",
    "dest = 'content/base_dir/train_dir/' + labels[2]\n",
    "files = os.listdir(source)\n",
    "no_of_files = 879\n",
    "\n",
    "filelist = glob(os.path.join(dest, \"*\"))\n",
    "for f in filelist:\n",
    "    os.remove(f)\n",
    "\n",
    "for file_name in random.sample(files, no_of_files):\n",
    "  shutil.copy(os.path.join(source, file_name), dest)\n",
    "\n",
    "##*** df *** ##\n",
    "source = 'content/clean_data/'+ labels[3]\n",
    "dest = 'content/base_dir/train_dir/' + labels[3]\n",
    "files = os.listdir(source)\n",
    "no_of_files = 92\n",
    "\n",
    "filelist = glob(os.path.join(dest, \"*\"))\n",
    "for f in filelist:\n",
    "    os.remove(f)\n",
    "\n",
    "for file_name in random.sample(files, no_of_files):\n",
    "  shutil.copy(os.path.join(source, file_name), dest)\n",
    "\n",
    "##*** mel *** ##\n",
    "source = 'content/clean_data/'+ labels[4]\n",
    "dest = 'content/base_dir/train_dir/' + labels[4]\n",
    "files = os.listdir(source)\n",
    "no_of_files = 890\n",
    "\n",
    "filelist = glob(os.path.join(dest, \"*\"))\n",
    "for f in filelist:\n",
    "    os.remove(f)\n",
    "\n",
    "for file_name in random.sample(files, no_of_files):\n",
    "  shutil.copy(os.path.join(source, file_name), dest)\n",
    "\n",
    "##*** nv *** ##\n",
    "source = 'content/clean_data/'+ labels[5]\n",
    "dest = 'content/base_dir/train_dir/' + labels[5]\n",
    "files = os.listdir(source)\n",
    "no_of_files = 5364\n",
    "\n",
    "filelist = glob(os.path.join(dest, \"*\"))\n",
    "for f in filelist:\n",
    "    os.remove(f)\n",
    "\n",
    "for file_name in random.sample(files, no_of_files):\n",
    "  shutil.copy(os.path.join(source, file_name), dest)\n",
    "\n",
    "##*** vasc *** ##\n",
    "source = 'content/clean_data/'+ labels[6]\n",
    "dest = 'content/base_dir/train_dir/' + labels[6]\n",
    "files = os.listdir(source)\n",
    "no_of_files = 113\n",
    "\n",
    "filelist = glob(os.path.join(dest, \"*\"))\n",
    "for f in filelist:\n",
    "    os.remove(f)\n",
    "\n",
    "for file_name in random.sample(files, no_of_files):\n",
    "  shutil.copy(os.path.join(source, file_name), dest)"
   ]
  },
  {
   "cell_type": "code",
   "execution_count": 78,
   "metadata": {
    "id": "OO2QcsqUiQkj"
   },
   "outputs": [],
   "source": [
    "#### *************** Validation Data ****************** ###\n",
    "##*** akiec *** ##\n",
    "source = 'content/clean_data/'+ labels[0]\n",
    "dest = val_dir + labels[0]\n",
    "files = os.listdir(source)\n",
    "no_of_files = 32\n",
    "\n",
    "filelist = glob(os.path.join(dest, \"*\"))\n",
    "for f in filelist:\n",
    "    os.remove(f)\n",
    "\n",
    "for file_name in random.sample(files, no_of_files):\n",
    "  shutil.copy(os.path.join(source, file_name), dest)\n",
    "\n",
    "##*** bcc *** ##\n",
    "source = 'content/clean_data/'+ labels[1]\n",
    "dest = val_dir + labels[1]\n",
    "files = os.listdir(source)\n",
    "no_of_files = 51\n",
    "\n",
    "filelist = glob(os.path.join(dest, \"*\"))\n",
    "for f in filelist:\n",
    "    os.remove(f)\n",
    "\n",
    "for file_name in random.sample(files, no_of_files):\n",
    "  shutil.copy(os.path.join(source, file_name), dest)\n",
    "\n",
    "##*** bkl *** ##\n",
    "source = 'content/clean_data/'+ labels[2]\n",
    "dest = val_dir + labels[2]\n",
    "files = os.listdir(source)\n",
    "no_of_files = 109\n",
    "\n",
    "filelist = glob(os.path.join(dest, \"*\"))\n",
    "for f in filelist:\n",
    "    os.remove(f)\n",
    "\n",
    "for file_name in random.sample(files, no_of_files):\n",
    "  shutil.copy(os.path.join(source, file_name), dest)\n",
    "\n",
    "##*** df *** ##\n",
    "source = 'content/clean_data/'+ labels[3]\n",
    "dest = val_dir + labels[3]\n",
    "files = os.listdir(source)\n",
    "no_of_files = 11\n",
    "\n",
    "filelist = glob(os.path.join(dest, \"*\"))\n",
    "for f in filelist:\n",
    "    os.remove(f)\n",
    "\n",
    "for file_name in random.sample(files, no_of_files):\n",
    "  shutil.copy(os.path.join(source, file_name), dest)\n",
    "\n",
    "##*** mel *** ##\n",
    "source = 'content/clean_data/'+ labels[4]\n",
    "dest = val_dir + labels[4]\n",
    "files = os.listdir(source)\n",
    "no_of_files = 111\n",
    "\n",
    "filelist = glob(os.path.join(dest, \"*\"))\n",
    "for f in filelist:\n",
    "    os.remove(f)\n",
    "\n",
    "for file_name in random.sample(files, no_of_files):\n",
    "  shutil.copy(os.path.join(source, file_name), dest)\n",
    "\n",
    "##*** nv *** ##\n",
    "source = 'content/clean_data/'+ labels[5]\n",
    "dest = val_dir + labels[5]\n",
    "files = os.listdir(source)\n",
    "no_of_files = 670\n",
    "\n",
    "filelist = glob(os.path.join(dest, \"*\"))\n",
    "for f in filelist:\n",
    "    os.remove(f)\n",
    "\n",
    "for file_name in random.sample(files, no_of_files):\n",
    "  shutil.copy(os.path.join(source, file_name), dest)\n",
    "\n",
    "##*** vasc *** ##\n",
    "source = 'content/clean_data/'+ labels[6]\n",
    "dest = val_dir + labels[6]\n",
    "files = os.listdir(source)\n",
    "no_of_files = 14\n",
    "\n",
    "filelist = glob(os.path.join(dest, \"*\"))\n",
    "for f in filelist:\n",
    "    os.remove(f)\n",
    "\n",
    "for file_name in random.sample(files, no_of_files):\n",
    "  shutil.copy(os.path.join(source, file_name), dest)"
   ]
  },
  {
   "cell_type": "code",
   "execution_count": 79,
   "metadata": {
    "id": "qCDRcsfi1Kvy"
   },
   "outputs": [],
   "source": [
    "#### *************** Test Data ****************** ###\n",
    "##*** akiec *** ##\n",
    "source = 'content/clean_data/'+ labels[0]\n",
    "dest = test_dir + labels[0]\n",
    "files = os.listdir(source)\n",
    "no_of_files = 32\n",
    "\n",
    "filelist = glob(os.path.join(dest, \"*\"))\n",
    "for f in filelist:\n",
    "    os.remove(f)\n",
    "\n",
    "for file_name in random.sample(files, no_of_files):\n",
    "  shutil.copy(os.path.join(source, file_name), dest)\n",
    "\n",
    "##*** bcc *** ##\n",
    "source = 'content/clean_data/'+ labels[1]\n",
    "dest = test_dir + labels[1]\n",
    "files = os.listdir(source)\n",
    "no_of_files = 51\n",
    "\n",
    "filelist = glob(os.path.join(dest, \"*\"))\n",
    "for f in filelist:\n",
    "    os.remove(f)\n",
    "\n",
    "for file_name in random.sample(files, no_of_files):\n",
    "  shutil.copy(os.path.join(source, file_name), dest)\n",
    "\n",
    "##*** bkl *** ##\n",
    "source = 'content/clean_data/'+ labels[2]\n",
    "dest = test_dir + labels[2]\n",
    "files = os.listdir(source)\n",
    "no_of_files = 109\n",
    "\n",
    "filelist = glob(os.path.join(dest, \"*\"))\n",
    "for f in filelist:\n",
    "    os.remove(f)\n",
    "\n",
    "for file_name in random.sample(files, no_of_files):\n",
    "  shutil.copy(os.path.join(source, file_name), dest)\n",
    "\n",
    "##*** df *** ##\n",
    "source = 'content/clean_data/'+ labels[3]\n",
    "dest = test_dir + labels[3]\n",
    "files = os.listdir(source)\n",
    "no_of_files = 11\n",
    "\n",
    "filelist = glob(os.path.join(dest, \"*\"))\n",
    "for f in filelist:\n",
    "    os.remove(f)\n",
    "\n",
    "for file_name in random.sample(files, no_of_files):\n",
    "  shutil.copy(os.path.join(source, file_name), dest)\n",
    "\n",
    "##*** mel *** ##\n",
    "source = 'content/clean_data/'+ labels[4]\n",
    "dest = test_dir + labels[4]\n",
    "files = os.listdir(source)\n",
    "no_of_files = 111\n",
    "\n",
    "filelist = glob(os.path.join(dest, \"*\"))\n",
    "for f in filelist:\n",
    "    os.remove(f)\n",
    "\n",
    "for file_name in random.sample(files, no_of_files):\n",
    "  shutil.copy(os.path.join(source, file_name), dest)\n",
    "\n",
    "##*** nv *** ##\n",
    "source = 'content/clean_data/'+ labels[5]\n",
    "dest = test_dir + labels[5]\n",
    "files = os.listdir(source)\n",
    "no_of_files = 670\n",
    "\n",
    "filelist = glob(os.path.join(dest, \"*\"))\n",
    "for f in filelist:\n",
    "    os.remove(f)\n",
    "\n",
    "for file_name in random.sample(files, no_of_files):\n",
    "  shutil.copy(os.path.join(source, file_name), dest)\n",
    "\n",
    "##*** vasc *** ##\n",
    "source = 'content/clean_data/'+ labels[6]\n",
    "dest = test_dir + labels[6]\n",
    "files = os.listdir(source)\n",
    "no_of_files = 14\n",
    "\n",
    "filelist = glob(os.path.join(dest, \"*\"))\n",
    "for f in filelist:\n",
    "    os.remove(f)\n",
    "\n",
    "for file_name in random.sample(files, no_of_files):\n",
    "  shutil.copy(os.path.join(source, file_name), dest)"
   ]
  },
  {
   "cell_type": "code",
   "execution_count": 80,
   "metadata": {
    "colab": {
     "base_uri": "https://localhost:8080/",
     "height": 35
    },
    "executionInfo": {
     "elapsed": 335,
     "status": "ok",
     "timestamp": 1642822784774,
     "user": {
      "displayName": "Colab Pro",
      "photoUrl": "https://lh3.googleusercontent.com/a/default-user=s64",
      "userId": "11511566011687817295"
     },
     "user_tz": 0
    },
    "id": "UH1ZLxLM3kJl",
    "outputId": "32b8c7a2-902c-4abd-8f06-b251ca670ddc"
   },
   "outputs": [
    {
     "data": {
      "text/plain": [
       "'content/base_dir/test_dir/vasc'"
      ]
     },
     "execution_count": 80,
     "metadata": {},
     "output_type": "execute_result"
    }
   ],
   "source": [
    "dest"
   ]
  },
  {
   "cell_type": "code",
   "execution_count": null,
   "metadata": {
    "colab": {
     "base_uri": "https://localhost:8080/"
    },
    "executionInfo": {
     "elapsed": 202,
     "status": "ok",
     "timestamp": 1642820418480,
     "user": {
      "displayName": "Colab Pro",
      "photoUrl": "https://lh3.googleusercontent.com/a/default-user=s64",
      "userId": "11511566011687817295"
     },
     "user_tz": 0
    },
    "id": "8vehRD-qa6Od",
    "outputId": "2ddadab2-5baf-4ce8-e658-cdf63864148d"
   },
   "outputs": [],
   "source": [
    "fff = df_dist[\"test_set\"].tolist()\n",
    "fff = np.floor(fff).astype(int)\n",
    "fff = fff.tolist()\n",
    "fff"
   ]
  },
  {
   "cell_type": "code",
   "execution_count": 82,
   "metadata": {
    "colab": {
     "base_uri": "https://localhost:8080/"
    },
    "executionInfo": {
     "elapsed": 240,
     "status": "ok",
     "timestamp": 1642822857903,
     "user": {
      "displayName": "Colab Pro",
      "photoUrl": "https://lh3.googleusercontent.com/a/default-user=s64",
      "userId": "11511566011687817295"
     },
     "user_tz": 0
    },
    "id": "YYpM31fVgeZP",
    "outputId": "889637de-7e4f-48bf-9dc7-50ef90c07eec"
   },
   "outputs": [
    {
     "data": {
      "text/plain": [
       "14"
      ]
     },
     "execution_count": 82,
     "metadata": {},
     "output_type": "execute_result"
    }
   ],
   "source": [
    "len(os.listdir(dest))"
   ]
  },
  {
   "cell_type": "code",
   "execution_count": 83,
   "metadata": {
    "colab": {
     "base_uri": "https://localhost:8080/"
    },
    "executionInfo": {
     "elapsed": 149232,
     "status": "ok",
     "timestamp": 1642823194417,
     "user": {
      "displayName": "Colab Pro",
      "photoUrl": "https://lh3.googleusercontent.com/a/default-user=s64",
      "userId": "11511566011687817295"
     },
     "user_tz": 0
    },
    "id": "Pg0r4KabbjBc",
    "outputId": "0a33a714-9242-40e9-e4d7-0cec83901d3b"
   },
   "outputs": [
    {
     "name": "stderr",
     "output_type": "stream",
     "text": [
      "'zip' is not recognized as an internal or external command,\n",
      "operable program or batch file.\n"
     ]
    }
   ],
   "source": [
    "!zip -r \"content/engineered_data.zip\" \"content/base_dir\""
   ]
  },
  {
   "cell_type": "code",
   "execution_count": 86,
   "metadata": {
    "id": "lSESilZfWjk8"
   },
   "outputs": [],
   "source": [
    "base_dir = 'content/base_dir'\n",
    "\n",
    "train_dir = os.path.join(base_dir, 'train_dir')\n",
    "\n",
    "val_dir = os.path.join(base_dir, 'val_dir')"
   ]
  },
  {
   "cell_type": "code",
   "execution_count": 87,
   "metadata": {
    "id": "XfwpIyuBoYqm"
   },
   "outputs": [],
   "source": [
    "for fname in os.listdir(\"content/consolidated_data\"):\n",
    "  fname = os.path.splitext(i)\n",
    "  image_name.append(fname[0])"
   ]
  },
  {
   "cell_type": "markdown",
   "metadata": {
    "id": "Rs9vv8foK2id"
   },
   "source": [
    "# Model Building"
   ]
  },
  {
   "cell_type": "markdown",
   "metadata": {
    "id": "IMeFgaP5K9c6"
   },
   "source": [
    "In this section we will be building and trainning our models. Before training we will be augmenting our images for better results and will be assigning weights for each class to solve the problem of class imbalance. "
   ]
  },
  {
   "cell_type": "markdown",
   "metadata": {
    "id": "sn3eRwdao2oa"
   },
   "source": [
    "### Image Augmentation "
   ]
  },
  {
   "cell_type": "markdown",
   "metadata": {
    "id": "jjHc-iEYo2hy"
   },
   "source": [
    "Image data augmentation is an efficacious technique used artificially to increase the size of the trainning dataset by modifying existing versions of images in the dataset. Trainning DNN's on large data sets will result in more skillfull models.\n",
    "Keras library in python has the capability to fit models using image augmentation via ImageDataGenerator class.\n",
    "\n",
    "To modify the images we zoom them, rotate them, shift them, flip them, add noise or blurr to the image etc.\n",
    "\n",
    "Below we have defined our parameters for image augmentaion on trainning dataset.\n",
    "- Zoom = 0.2,\n",
    "- shear = 0.2 and,\n",
    "- we use pre-processing function to structure data for our model."
   ]
  },
  {
   "cell_type": "code",
   "execution_count": null,
   "metadata": {
    "id": "yWPu9lhuh1Uw"
   },
   "outputs": [],
   "source": [
    "#!unzip \"/content/drive/MyDrive/Skin Cancer/engineered_data.zip\""
   ]
  },
  {
   "cell_type": "markdown",
   "metadata": {
    "id": "lZ4jcfuJdT7f"
   },
   "source": [
    "We can remove the comments and see the model performance difference between augmented and unaugmented data. For comparison model performance is saved by tensorflow dashboard. We need to run the dashboard first."
   ]
  },
  {
   "cell_type": "code",
   "execution_count": null,
   "metadata": {
    "id": "TDA7owLCkU3r"
   },
   "outputs": [],
   "source": [
    "train_valid_imdatagen = ImageDataGenerator(#shear_range=0.2, zoom_range = 0.2,\n",
    "                                           #horizontal_flip=True, \n",
    "                                           preprocessing_function=tf.keras.applications.resnet_v2.preprocess_input)\n",
    "\n",
    "test_imdatagen = ImageDataGenerator(preprocessing_function=tf.keras.applications.resnet_v2.preprocess_input)"
   ]
  },
  {
   "cell_type": "code",
   "execution_count": 89,
   "metadata": {
    "id": "J50iNW1OmIe-"
   },
   "outputs": [],
   "source": [
    "train_path = \"content/base_dir/train_dir\"\n",
    "valid_path = \"content/base_dir/val_dir\"\n",
    "test_path = \"content/base_dir/test_dir\""
   ]
  },
  {
   "cell_type": "code",
   "execution_count": null,
   "metadata": {
    "colab": {
     "base_uri": "https://localhost:8080/"
    },
    "executionInfo": {
     "elapsed": 968,
     "status": "ok",
     "timestamp": 1643268558936,
     "user": {
      "displayName": "Colab Pro",
      "photoUrl": "https://lh3.googleusercontent.com/a/default-user=s64",
      "userId": "11511566011687817295"
     },
     "user_tz": 0
    },
    "id": "RiyG-jBbjd0s",
    "outputId": "b77cf98d-e968-47fb-ecb4-c6c866198563"
   },
   "outputs": [
    {
     "name": "stdout",
     "output_type": "stream",
     "text": [
      "Found 8010 images belonging to 7 classes.\n",
      "Found 998 images belonging to 7 classes.\n",
      "Found 998 images belonging to 7 classes.\n"
     ]
    }
   ],
   "source": [
    "target_size = (224, 224)\n",
    "\n",
    "train_dataset = train_valid_imdatagen.flow_from_directory(directory=train_path, \n",
    "                                                          target_size=target_size,\n",
    "                                                          color_mode=\"rgb\",\n",
    "                                                          class_mode = \"categorical\",\n",
    "                                                          batch_size=16)\n",
    "\n",
    "validation_dataset = train_valid_imdatagen.flow_from_directory(directory=valid_path, \n",
    "                                                          target_size=target_size,\n",
    "                                                          color_mode=\"rgb\",\n",
    "                                                          class_mode = \"categorical\",\n",
    "                                                          batch_size=16)\n",
    "\n",
    "test_dataset = test_imdatagen.flow_from_directory(directory=test_path, \n",
    "                                                          target_size=target_size,\n",
    "                                                          color_mode=\"rgb\",\n",
    "                                                          class_mode = \"categorical\",\n",
    "                                                          batch_size=16)"
   ]
  },
  {
   "cell_type": "markdown",
   "metadata": {
    "id": "KnzQanVhzt6Z"
   },
   "source": [
    "### Assigning Weights"
   ]
  },
  {
   "cell_type": "code",
   "execution_count": null,
   "metadata": {
    "colab": {
     "base_uri": "https://localhost:8080/"
    },
    "executionInfo": {
     "elapsed": 376,
     "status": "ok",
     "timestamp": 1643268561360,
     "user": {
      "displayName": "Colab Pro",
      "photoUrl": "https://lh3.googleusercontent.com/a/default-user=s64",
      "userId": "11511566011687817295"
     },
     "user_tz": 0
    },
    "id": "Mp77Ncu6nFk9",
    "outputId": "27d43d2b-62d6-4a52-86c7-bb490aa19d2e"
   },
   "outputs": [
    {
     "data": {
      "text/plain": [
       "{'akiec': 0, 'bcc': 1, 'bkl': 2, 'df': 3, 'mel': 4, 'nv': 5, 'vasc': 6}"
      ]
     },
     "execution_count": 6,
     "metadata": {},
     "output_type": "execute_result"
    }
   ],
   "source": [
    "class_type = train_dataset.class_indices\n",
    "class_type"
   ]
  },
  {
   "cell_type": "code",
   "execution_count": null,
   "metadata": {
    "colab": {
     "base_uri": "https://localhost:8080/"
    },
    "executionInfo": {
     "elapsed": 3,
     "status": "ok",
     "timestamp": 1643268562951,
     "user": {
      "displayName": "Colab Pro",
      "photoUrl": "https://lh3.googleusercontent.com/a/default-user=s64",
      "userId": "11511566011687817295"
     },
     "user_tz": 0
    },
    "id": "0AxjJlyfn_0p",
    "outputId": "113fff87-b338-4799-d8dc-de9b2b782a42"
   },
   "outputs": [
    {
     "data": {
      "text/plain": [
       "array([ 4.38423645,  2.78415016,  1.301804  , 12.4378882 ,  1.28571429,\n",
       "        0.21332694, 10.12642225])"
      ]
     },
     "execution_count": 7,
     "metadata": {},
     "output_type": "execute_result"
    }
   ],
   "source": [
    "from sklearn.utils import class_weight\n",
    "class_weights = class_weight.compute_class_weight(class_weight = 'balanced', \n",
    "                                                  classes = np.unique(train_dataset.classes), \n",
    "                                                  y = train_dataset.classes)\n",
    "class_weights"
   ]
  },
  {
   "cell_type": "code",
   "execution_count": null,
   "metadata": {
    "colab": {
     "base_uri": "https://localhost:8080/"
    },
    "executionInfo": {
     "elapsed": 3,
     "status": "ok",
     "timestamp": 1643268564834,
     "user": {
      "displayName": "Colab Pro",
      "photoUrl": "https://lh3.googleusercontent.com/a/default-user=s64",
      "userId": "11511566011687817295"
     },
     "user_tz": 0
    },
    "id": "G82tac6goRjS",
    "outputId": "efdbf963-f645-4b47-dc44-228293b41aa4"
   },
   "outputs": [
    {
     "data": {
      "text/plain": [
       "{0: 4.384236453201971,\n",
       " 1: 2.78415015641293,\n",
       " 2: 1.3018039980497318,\n",
       " 3: 12.437888198757763,\n",
       " 4: 1.2857142857142858,\n",
       " 5: 0.21332694151486098,\n",
       " 6: 10.126422250316056}"
      ]
     },
     "execution_count": 8,
     "metadata": {},
     "output_type": "execute_result"
    }
   ],
   "source": [
    "class_weight_dict = dict(enumerate(class_weights))\n",
    "class_weight_dict"
   ]
  },
  {
   "cell_type": "markdown",
   "metadata": {
    "id": "rLsTI1E7yZHT"
   },
   "source": [
    "As seen in data preprocessing our classes have unqeual number of images. It is very issential to address this issue. If we don't take measures against it, the results will be biased towards over represented class that is will lean towards the majority class and the model will not be optimal for prediction.\n",
    "\n",
    "To solve this problem we assign weights to each class within loss function so that the training is more balanced among the classes. To calculate the weights of each class we have use sklearn libraries class_weight. The assigned weights are shown above."
   ]
  },
  {
   "cell_type": "markdown",
   "metadata": {
    "id": "URGpJhg2z1qj"
   },
   "source": [
    "## Evaluation Metric"
   ]
  },
  {
   "cell_type": "markdown",
   "metadata": {
    "id": "hsj8iDPn6fes"
   },
   "source": [
    "If we are using accuracy as our only method in clasification to judge our model we can create a dumb model too and still it's accuracy might be good because the model would be biased towrds the majority class.\n",
    "\n",
    "F1 Score and Accuracy are two measures we frequently use to judge the quality of classification models in machine learning.\n",
    "The greater the value for both measures, the better a model can categorise data into classes.\n",
    "\n",
    "Harmonic mean of precision and recall is called as f1 score. It is calculated as follows: \n",
    "\n",
    "2(P * R) / P+R<br>\n",
    "​​\n",
    "P = the precision<br>\n",
    "RR = the recall of the classification model\n",
    "\n",
    "To calculate the F1-score for the entire model you can also to take the arithmetic mean of the F1-scores of all the classes."
   ]
  },
  {
   "cell_type": "code",
   "execution_count": 1,
   "metadata": {
    "executionInfo": {
     "elapsed": 4004,
     "status": "ok",
     "timestamp": 1643368286241,
     "user": {
      "displayName": "Colab Pro",
      "photoUrl": "https://lh3.googleusercontent.com/a/default-user=s64",
      "userId": "11511566011687817295"
     },
     "user_tz": 0
    },
    "id": "B4efyPkw0vE0"
   },
   "outputs": [],
   "source": [
    "from keras import backend as K\n",
    "\n",
    "def check_units(y_true, y_pred):\n",
    "    if y_pred.shape[1] != 1:\n",
    "      y_pred = y_pred[:,1:2]\n",
    "      y_true = y_true[:,1:2]\n",
    "    return y_true, y_pred\n",
    "\n",
    "# Calculating precision\n",
    "def precision(y_true, y_pred):\n",
    "    y_true, y_pred = check_units(y_true, y_pred)\n",
    "    true_positives = K.sum(K.round(K.clip(y_true * y_pred, 0, 1)))\n",
    "    predicted_positives = K.sum(K.round(K.clip(y_pred, 0, 1)))\n",
    "    precision = true_positives / (predicted_positives + K.epsilon())\n",
    "    return precision\n",
    "\n",
    "# Calculating recall\n",
    "def recall(y_true, y_pred):\n",
    "    y_true, y_pred = check_units(y_true, y_pred)\n",
    "    true_positives = K.sum(K.round(K.clip(y_true * y_pred, 0, 1)))\n",
    "    possible_positives = K.sum(K.round(K.clip(y_true, 0, 1)))\n",
    "    recall = true_positives / (possible_positives + K.epsilon())\n",
    "    return recall\n",
    "\n",
    "# Calculating f1 metric\n",
    "def f1_metric(y_true, y_pred):\n",
    "    true_positives = K.sum(K.round(K.clip(y_true * y_pred, 0, 1)))\n",
    "    possible_positives = K.sum(K.round(K.clip(y_true, 0, 1)))\n",
    "    predicted_positives = K.sum(K.round(K.clip(y_pred, 0, 1)))\n",
    "    precision = true_positives / (predicted_positives + K.epsilon())\n",
    "    recall = true_positives / (possible_positives + K.epsilon())\n",
    "    f1_val = 2*(precision*recall)/(precision+recall+K.epsilon())\n",
    "    return f1_val"
   ]
  },
  {
   "cell_type": "code",
   "execution_count": null,
   "metadata": {
    "id": "_XvjiMPBzQ9w"
   },
   "outputs": [],
   "source": [
    "metric = [tf.keras.metrics.CategoricalAccuracy(name='accuracy'), precision,\n",
    "          recall, f1_metric]"
   ]
  },
  {
   "cell_type": "markdown",
   "metadata": {
    "id": "vYKWwvjZI0H9"
   },
   "source": [
    "## Transfer learning\n",
    "\n",
    "Transfer learning (TL) is a ML research subject that focuses on storing and transferring information learned while addressing one problem to a different but related problem. It is a popular aproach in DL and can save a lot of time by utilising other pre-trained models as the starting point in image classification based on similar data. These pre-trained models were earlier trined on large datasets. It is an optimaztion or shortcut to better performance with less time. It is based on the idea that if a model is trained on a big and general enough dataset, it may successfully serve as a generic model of the visual world.\n",
    "\n",
    "Here we are using VGG16 & resnet50 model with imagenet weights. In future we can train the remaining layers of our model using other models such as Inception model to acheive better results across the classes."
   ]
  },
  {
   "cell_type": "markdown",
   "metadata": {
    "id": "SexjttpwKntB"
   },
   "source": [
    "## VGG16"
   ]
  },
  {
   "cell_type": "markdown",
   "metadata": {
    "id": "mDui7g47H-9_"
   },
   "source": [
    "In the classification of skin malignancies, several CNN models have surpassed qualified human doctors. Several techniques, such as transfer learning using massive datasets, have increased the accuracy of these models even further. VGG-16 is a convolutional neural network built from over a million images in the ImageNet collection. The system has 16 layers and can sort images into 1000 different categories, such as console, mouse, pencil, and various aniamals. As a result, the system has learnt detailed component depictions for a variety of images. The picture information size on the system is 224 by 224 pixels. In ImageNet, a dataset of more than 14 million photos divided into 1000 classes, the model achieves 92.7 percent top-5 test precision [1].\n",
    "\n",
    "[1] Garg, Rishu, Saumil Maheshwari, and Anupam Shukla. \"Decision support system for detection and classification of skin cancer using CNN.\" In Innovations in Computational Intelligence and Computer Vision, pp. 578-586. Springer, Singapore, 2021.\n"
   ]
  },
  {
   "cell_type": "code",
   "execution_count": null,
   "metadata": {
    "colab": {
     "base_uri": "https://localhost:8080/"
    },
    "executionInfo": {
     "elapsed": 327,
     "status": "ok",
     "timestamp": 1643246795477,
     "user": {
      "displayName": "Colab Pro",
      "photoUrl": "https://lh3.googleusercontent.com/a/default-user=s64",
      "userId": "11511566011687817295"
     },
     "user_tz": 0
    },
    "id": "EKSkkDlfUX3M",
    "outputId": "3fb340f4-3619-4fc4-b217-bd9ef4937144"
   },
   "outputs": [
    {
     "name": "stdout",
     "output_type": "stream",
     "text": [
      "Done\n"
     ]
    }
   ],
   "source": [
    "from tensorflow.keras.applications.vgg16 import VGG16\n",
    "from tensorflow.keras.preprocessing import image\n",
    "from tensorflow.keras.applications.vgg16 import preprocess_input\n",
    "\n",
    "def model_vgg16():\n",
    "\n",
    "  # Using pre-trained model (Trained on imagenet)\n",
    "  base_model = tf.keras.applications.VGG16(weights=\"imagenet\", include_top=False, input_shape=(224, 224, 3))\n",
    "  \n",
    "  for layer in base_model.layers:\n",
    "    layer.trainable = False\n",
    "\n",
    "  x = base_model.output\n",
    "  x = GlobalAveragePooling2D()(x)\n",
    "  output = tf.keras.layers.Dense(7, activation=\"softmax\")(x)\n",
    "  model = tf.keras.models.Model(inputs = [base_model.input], outputs = [output])\n",
    "\n",
    "  optim = Adam(learning_rate=0.001)\n",
    "  \n",
    "  model.compile(optimizer = optim, loss = \"categorical_crossentropy\", metrics = metric)\n",
    "\n",
    "  print(model.summary())\n",
    "\n",
    "  return model\n",
    "\n",
    "print(\"Done\")"
   ]
  },
  {
   "cell_type": "markdown",
   "metadata": {
    "id": "lzWtGaqkneZ0"
   },
   "source": [
    "We are using Adam as the optimizer for our model. It is one of the most extensively used techique because of its simplicity and efficiency for large data volumes.<br>\n",
    "Categorical cross entropy - It is a loss fucntion for categorizing labels and is used for multi-class classification. Using this we train CNN to output a probability over the classes."
   ]
  },
  {
   "cell_type": "markdown",
   "metadata": {
    "id": "ORQs-GpTVCG8"
   },
   "source": [
    "Below we can seen the VGG16 model architecture. We are training the top layers which were randomly initialised."
   ]
  },
  {
   "cell_type": "code",
   "execution_count": null,
   "metadata": {
    "colab": {
     "base_uri": "https://localhost:8080/"
    },
    "executionInfo": {
     "elapsed": 309,
     "status": "ok",
     "timestamp": 1643246802893,
     "user": {
      "displayName": "Colab Pro",
      "photoUrl": "https://lh3.googleusercontent.com/a/default-user=s64",
      "userId": "11511566011687817295"
     },
     "user_tz": 0
    },
    "id": "_3F79lndUnyX",
    "outputId": "01b23878-95bd-46f2-fced-5c50ba1b22ed"
   },
   "outputs": [
    {
     "name": "stdout",
     "output_type": "stream",
     "text": [
      "Model: \"model_9\"\n",
      "_________________________________________________________________\n",
      " Layer (type)                Output Shape              Param #   \n",
      "=================================================================\n",
      " input_10 (InputLayer)       [(None, 224, 224, 3)]     0         \n",
      "                                                                 \n",
      " block1_conv1 (Conv2D)       (None, 224, 224, 64)      1792      \n",
      "                                                                 \n",
      " block1_conv2 (Conv2D)       (None, 224, 224, 64)      36928     \n",
      "                                                                 \n",
      " block1_pool (MaxPooling2D)  (None, 112, 112, 64)      0         \n",
      "                                                                 \n",
      " block2_conv1 (Conv2D)       (None, 112, 112, 128)     73856     \n",
      "                                                                 \n",
      " block2_conv2 (Conv2D)       (None, 112, 112, 128)     147584    \n",
      "                                                                 \n",
      " block2_pool (MaxPooling2D)  (None, 56, 56, 128)       0         \n",
      "                                                                 \n",
      " block3_conv1 (Conv2D)       (None, 56, 56, 256)       295168    \n",
      "                                                                 \n",
      " block3_conv2 (Conv2D)       (None, 56, 56, 256)       590080    \n",
      "                                                                 \n",
      " block3_conv3 (Conv2D)       (None, 56, 56, 256)       590080    \n",
      "                                                                 \n",
      " block3_pool (MaxPooling2D)  (None, 28, 28, 256)       0         \n",
      "                                                                 \n",
      " block4_conv1 (Conv2D)       (None, 28, 28, 512)       1180160   \n",
      "                                                                 \n",
      " block4_conv2 (Conv2D)       (None, 28, 28, 512)       2359808   \n",
      "                                                                 \n",
      " block4_conv3 (Conv2D)       (None, 28, 28, 512)       2359808   \n",
      "                                                                 \n",
      " block4_pool (MaxPooling2D)  (None, 14, 14, 512)       0         \n",
      "                                                                 \n",
      " block5_conv1 (Conv2D)       (None, 14, 14, 512)       2359808   \n",
      "                                                                 \n",
      " block5_conv2 (Conv2D)       (None, 14, 14, 512)       2359808   \n",
      "                                                                 \n",
      " block5_conv3 (Conv2D)       (None, 14, 14, 512)       2359808   \n",
      "                                                                 \n",
      " block5_pool (MaxPooling2D)  (None, 7, 7, 512)         0         \n",
      "                                                                 \n",
      " global_average_pooling2d_9   (None, 512)              0         \n",
      " (GlobalAveragePooling2D)                                        \n",
      "                                                                 \n",
      " dense_9 (Dense)             (None, 7)                 3591      \n",
      "                                                                 \n",
      "=================================================================\n",
      "Total params: 14,718,279\n",
      "Trainable params: 3,591\n",
      "Non-trainable params: 14,714,688\n",
      "_________________________________________________________________\n",
      "None\n"
     ]
    }
   ],
   "source": [
    "model = model_vgg16()"
   ]
  },
  {
   "cell_type": "code",
   "execution_count": null,
   "metadata": {
    "colab": {
     "base_uri": "https://localhost:8080/"
    },
    "executionInfo": {
     "elapsed": 417,
     "status": "ok",
     "timestamp": 1643247063089,
     "user": {
      "displayName": "Colab Pro",
      "photoUrl": "https://lh3.googleusercontent.com/a/default-user=s64",
      "userId": "11511566011687817295"
     },
     "user_tz": 0
    },
    "id": "kY6duskPIHPN",
    "outputId": "68d23429-b4ca-406b-e533-e7a5df213f51"
   },
   "outputs": [
    {
     "data": {
      "text/plain": [
       "{0: 4.384236453201971,\n",
       " 1: 2.78415015641293,\n",
       " 2: 1.3018039980497318,\n",
       " 3: 12.437888198757763,\n",
       " 4: 1.2857142857142858,\n",
       " 5: 0.21332694151486098,\n",
       " 6: 10.126422250316056}"
      ]
     },
     "execution_count": 81,
     "metadata": {},
     "output_type": "execute_result"
    }
   ],
   "source": [
    "class_weight_dict"
   ]
  },
  {
   "cell_type": "code",
   "execution_count": null,
   "metadata": {
    "id": "FvfJZaHVVac-"
   },
   "outputs": [],
   "source": [
    "# implementing early stopping and model check point \n",
    "from keras.callbacks import EarlyStopping, ModelCheckpoint\n",
    "import datetime, os\n",
    "\n",
    "# Setting early stopping mechanism monitoring validation accuracy\n",
    "es = EarlyStopping(monitor= \"val_accuracy\", mode = \"max\", min_delta= 0.01, patience = 5, verbose=1)\n",
    "# If model improves it will automatically save it\n",
    "mc = ModelCheckpoint(filepath=\"vgg16.h5\", monitor=\"val_accuracy\", verbose=1, save_best_only= True, mode=\"max\")\n",
    "logdir = os.path.join(\"logs\", datetime.datetime.now().strftime(\"%Y%m%d-%H%M%S\"))\n",
    "# Calling tensorflow dashboard\n",
    "tensorboard_callback = tf.keras.callbacks.TensorBoard(logdir, histogram_freq=1)"
   ]
  },
  {
   "cell_type": "code",
   "execution_count": null,
   "metadata": {
    "colab": {
     "base_uri": "https://localhost:8080/"
    },
    "executionInfo": {
     "elapsed": 2918396,
     "status": "ok",
     "timestamp": 1643249985159,
     "user": {
      "displayName": "Colab Pro",
      "photoUrl": "https://lh3.googleusercontent.com/a/default-user=s64",
      "userId": "11511566011687817295"
     },
     "user_tz": 0
    },
    "id": "MGJ61UmmVPet",
    "outputId": "2f789855-0928-411f-f6b1-7c1ba9c3660f"
   },
   "outputs": [
    {
     "name": "stdout",
     "output_type": "stream",
     "text": [
      "Epoch 1/50\n",
      "501/501 [==============================] - ETA: 0s - loss: 2.2277 - accuracy: 0.3819\n",
      "Epoch 00001: val_accuracy improved from -inf to 0.48998, saving model to vgg16.h5\n",
      "501/501 [==============================] - 169s 337ms/step - loss: 2.2277 - accuracy: 0.3819 - val_loss: 1.3939 - val_accuracy: 0.4900\n",
      "Epoch 2/50\n",
      "501/501 [==============================] - ETA: 0s - loss: 1.5535 - accuracy: 0.4720\n",
      "Epoch 00002: val_accuracy did not improve from 0.48998\n",
      "501/501 [==============================] - 163s 326ms/step - loss: 1.5535 - accuracy: 0.4720 - val_loss: 1.5396 - val_accuracy: 0.4669\n",
      "Epoch 3/50\n",
      "501/501 [==============================] - ETA: 0s - loss: 1.3735 - accuracy: 0.5187\n",
      "Epoch 00003: val_accuracy improved from 0.48998 to 0.49299, saving model to vgg16.h5\n",
      "501/501 [==============================] - 165s 329ms/step - loss: 1.3735 - accuracy: 0.5187 - val_loss: 1.4758 - val_accuracy: 0.4930\n",
      "Epoch 4/50\n",
      "501/501 [==============================] - ETA: 0s - loss: 1.2561 - accuracy: 0.5438\n",
      "Epoch 00004: val_accuracy improved from 0.49299 to 0.55912, saving model to vgg16.h5\n",
      "501/501 [==============================] - 168s 335ms/step - loss: 1.2561 - accuracy: 0.5438 - val_loss: 1.2723 - val_accuracy: 0.5591\n",
      "Epoch 5/50\n",
      "501/501 [==============================] - ETA: 0s - loss: 1.1997 - accuracy: 0.5566\n",
      "Epoch 00005: val_accuracy did not improve from 0.55912\n",
      "501/501 [==============================] - 164s 327ms/step - loss: 1.1997 - accuracy: 0.5566 - val_loss: 1.4645 - val_accuracy: 0.4940\n",
      "Epoch 6/50\n",
      "501/501 [==============================] - ETA: 0s - loss: 1.1351 - accuracy: 0.5773\n",
      "Epoch 00006: val_accuracy improved from 0.55912 to 0.57315, saving model to vgg16.h5\n",
      "501/501 [==============================] - 164s 327ms/step - loss: 1.1351 - accuracy: 0.5773 - val_loss: 1.2202 - val_accuracy: 0.5731\n",
      "Epoch 7/50\n",
      "501/501 [==============================] - ETA: 0s - loss: 1.1258 - accuracy: 0.5728\n",
      "Epoch 00007: val_accuracy did not improve from 0.57315\n",
      "501/501 [==============================] - 164s 327ms/step - loss: 1.1258 - accuracy: 0.5728 - val_loss: 1.3912 - val_accuracy: 0.5160\n",
      "Epoch 8/50\n",
      "501/501 [==============================] - ETA: 0s - loss: 1.0866 - accuracy: 0.5854\n",
      "Epoch 00008: val_accuracy did not improve from 0.57315\n",
      "501/501 [==============================] - 163s 325ms/step - loss: 1.0866 - accuracy: 0.5854 - val_loss: 1.2094 - val_accuracy: 0.5681\n",
      "Epoch 9/50\n",
      "501/501 [==============================] - ETA: 0s - loss: 1.0801 - accuracy: 0.5955\n",
      "Epoch 00009: val_accuracy improved from 0.57315 to 0.57415, saving model to vgg16.h5\n",
      "501/501 [==============================] - 164s 327ms/step - loss: 1.0801 - accuracy: 0.5955 - val_loss: 1.1794 - val_accuracy: 0.5741\n",
      "Epoch 10/50\n",
      "501/501 [==============================] - ETA: 0s - loss: 1.0581 - accuracy: 0.5890\n",
      "Epoch 00010: val_accuracy did not improve from 0.57415\n",
      "501/501 [==============================] - 163s 326ms/step - loss: 1.0581 - accuracy: 0.5890 - val_loss: 1.2530 - val_accuracy: 0.5531\n",
      "Epoch 11/50\n",
      "501/501 [==============================] - ETA: 0s - loss: 1.0001 - accuracy: 0.6029\n",
      "Epoch 00011: val_accuracy improved from 0.57415 to 0.61723, saving model to vgg16.h5\n",
      "501/501 [==============================] - 164s 327ms/step - loss: 1.0001 - accuracy: 0.6029 - val_loss: 1.0811 - val_accuracy: 0.6172\n",
      "Epoch 12/50\n",
      "501/501 [==============================] - ETA: 0s - loss: 0.9941 - accuracy: 0.6059\n",
      "Epoch 00012: val_accuracy did not improve from 0.61723\n",
      "501/501 [==============================] - 170s 339ms/step - loss: 0.9941 - accuracy: 0.6059 - val_loss: 1.0928 - val_accuracy: 0.6072\n",
      "Epoch 13/50\n",
      "501/501 [==============================] - ETA: 0s - loss: 0.9888 - accuracy: 0.5975\n",
      "Epoch 00013: val_accuracy did not improve from 0.61723\n",
      "501/501 [==============================] - 179s 357ms/step - loss: 0.9888 - accuracy: 0.5975 - val_loss: 1.1331 - val_accuracy: 0.5982\n",
      "Epoch 14/50\n",
      "501/501 [==============================] - ETA: 0s - loss: 1.0074 - accuracy: 0.6080\n",
      "Epoch 00014: val_accuracy did not improve from 0.61723\n",
      "501/501 [==============================] - 172s 344ms/step - loss: 1.0074 - accuracy: 0.6080 - val_loss: 1.1271 - val_accuracy: 0.6052\n",
      "Epoch 15/50\n",
      "501/501 [==============================] - ETA: 0s - loss: 0.9693 - accuracy: 0.6087\n",
      "Epoch 00015: val_accuracy did not improve from 0.61723\n",
      "501/501 [==============================] - 167s 334ms/step - loss: 0.9693 - accuracy: 0.6087 - val_loss: 1.2484 - val_accuracy: 0.5441\n",
      "Epoch 16/50\n",
      "501/501 [==============================] - ETA: 0s - loss: 0.9873 - accuracy: 0.5944\n",
      "Epoch 00016: val_accuracy did not improve from 0.61723\n",
      "501/501 [==============================] - 162s 324ms/step - loss: 0.9873 - accuracy: 0.5944 - val_loss: 1.1553 - val_accuracy: 0.5661\n",
      "Epoch 00016: early stopping\n"
     ]
    }
   ],
   "source": [
    "# Fitting the model on our data and setting up epochs, class weights and other metrics\n",
    "history_vgg16 = model.fit(train_dataset, epochs = 50, validation_data = validation_dataset, \n",
    "                          callbacks = [es, mc, tensorboard_callback], \n",
    "                          class_weight = class_weight_dict)"
   ]
  },
  {
   "cell_type": "code",
   "execution_count": null,
   "metadata": {
    "colab": {
     "base_uri": "https://localhost:8080/"
    },
    "executionInfo": {
     "elapsed": 22300,
     "status": "ok",
     "timestamp": 1643250493956,
     "user": {
      "displayName": "Colab Pro",
      "photoUrl": "https://lh3.googleusercontent.com/a/default-user=s64",
      "userId": "11511566011687817295"
     },
     "user_tz": 0
    },
    "id": "IzvbCWLwbj8v",
    "outputId": "56015ff4-f5af-42c0-a0a9-c4219faf7d23"
   },
   "outputs": [
    {
     "name": "stdout",
     "output_type": "stream",
     "text": [
      "63/63 [==============================] - 12s 162ms/step - loss: 156.5930 - accuracy: 0.6313\n",
      "The accuracy for Test Data using VGG16 model is: 63.126254081726074 %\n"
     ]
    }
   ],
   "source": [
    "acc = model.evaluate(test_dataset, verbose = 1)\n",
    "print(f\"The accuracy for Test Data using VGG16 model is: {acc[1] * 100} %\")"
   ]
  },
  {
   "cell_type": "markdown",
   "metadata": {
    "id": "E_CXDCVie6AW"
   },
   "source": [
    "Since our classes were imbalanced we assigned weights to the class. Without weights for VGG16 model accuracy received was 70% but the model performance itself was unimpressive with precision and recall near to 0 for most of the classes except the class with large dataset. After implementing the weights the accuracy did decreased to 60% but the model performance was increased with the model predicting more classes although the result was still not satisfactory."
   ]
  },
  {
   "cell_type": "code",
   "execution_count": null,
   "metadata": {
    "colab": {
     "base_uri": "https://localhost:8080/"
    },
    "executionInfo": {
     "elapsed": 9728,
     "status": "ok",
     "timestamp": 1643250213578,
     "user": {
      "displayName": "Colab Pro",
      "photoUrl": "https://lh3.googleusercontent.com/a/default-user=s64",
      "userId": "11511566011687817295"
     },
     "user_tz": 0
    },
    "id": "YXgPPiRZgS2k",
    "outputId": "10c9f6ff-0e36-4522-d7aa-d06500e7a492"
   },
   "outputs": [
    {
     "name": "stdout",
     "output_type": "stream",
     "text": [
      "Confusion Matrix\n",
      "[[  0   3   6   6   7  10   0]\n",
      " [  2   0  10   6   4  28   1]\n",
      " [  0   0  18  22  16  49   4]\n",
      " [  0   1   0   4   4   2   0]\n",
      " [  3   2  16  21  15  51   3]\n",
      " [ 28  15 117 113  80 300  17]\n",
      " [  1   1   3   1   1   7   0]]\n"
     ]
    }
   ],
   "source": [
    "# Predicting on test data\n",
    "Y_pred = model.predict(test_dataset)\n",
    "y_pred = np.argmax(Y_pred, axis = 1)\n",
    "print(\"Confusion Matrix\")\n",
    "cf = confusion_matrix(test_dataset.classes, y_pred)\n",
    "print(cf)"
   ]
  },
  {
   "cell_type": "code",
   "execution_count": null,
   "metadata": {
    "colab": {
     "base_uri": "https://localhost:8080/",
     "height": 331
    },
    "executionInfo": {
     "elapsed": 545,
     "status": "ok",
     "timestamp": 1643250217658,
     "user": {
      "displayName": "Colab Pro",
      "photoUrl": "https://lh3.googleusercontent.com/a/default-user=s64",
      "userId": "11511566011687817295"
     },
     "user_tz": 0
    },
    "id": "Ru27MclkhAhQ",
    "outputId": "b445fa53-1ae7-4593-cf5b-5bab19dfcfc4"
   },
   "outputs": [
    {
     "data": {
      "text/html": [
       "\n",
       "  <div id=\"df-2e54763d-9070-477d-9e82-484e138cbd1a\">\n",
       "    <div class=\"colab-df-container\">\n",
       "      <div>\n",
       "<style scoped>\n",
       "    .dataframe tbody tr th:only-of-type {\n",
       "        vertical-align: middle;\n",
       "    }\n",
       "\n",
       "    .dataframe tbody tr th {\n",
       "        vertical-align: top;\n",
       "    }\n",
       "\n",
       "    .dataframe thead th {\n",
       "        text-align: right;\n",
       "    }\n",
       "</style>\n",
       "<table border=\"1\" class=\"dataframe\">\n",
       "  <thead>\n",
       "    <tr style=\"text-align: right;\">\n",
       "      <th>Predicted</th>\n",
       "      <th>0</th>\n",
       "      <th>1</th>\n",
       "      <th>2</th>\n",
       "      <th>3</th>\n",
       "      <th>4</th>\n",
       "      <th>5</th>\n",
       "      <th>6</th>\n",
       "      <th>All</th>\n",
       "    </tr>\n",
       "    <tr>\n",
       "      <th>Actual</th>\n",
       "      <th></th>\n",
       "      <th></th>\n",
       "      <th></th>\n",
       "      <th></th>\n",
       "      <th></th>\n",
       "      <th></th>\n",
       "      <th></th>\n",
       "      <th></th>\n",
       "    </tr>\n",
       "  </thead>\n",
       "  <tbody>\n",
       "    <tr>\n",
       "      <th>0</th>\n",
       "      <td>0</td>\n",
       "      <td>3</td>\n",
       "      <td>6</td>\n",
       "      <td>6</td>\n",
       "      <td>7</td>\n",
       "      <td>10</td>\n",
       "      <td>0</td>\n",
       "      <td>32</td>\n",
       "    </tr>\n",
       "    <tr>\n",
       "      <th>1</th>\n",
       "      <td>2</td>\n",
       "      <td>0</td>\n",
       "      <td>10</td>\n",
       "      <td>6</td>\n",
       "      <td>4</td>\n",
       "      <td>28</td>\n",
       "      <td>1</td>\n",
       "      <td>51</td>\n",
       "    </tr>\n",
       "    <tr>\n",
       "      <th>2</th>\n",
       "      <td>0</td>\n",
       "      <td>0</td>\n",
       "      <td>18</td>\n",
       "      <td>22</td>\n",
       "      <td>16</td>\n",
       "      <td>49</td>\n",
       "      <td>4</td>\n",
       "      <td>109</td>\n",
       "    </tr>\n",
       "    <tr>\n",
       "      <th>3</th>\n",
       "      <td>0</td>\n",
       "      <td>1</td>\n",
       "      <td>0</td>\n",
       "      <td>4</td>\n",
       "      <td>4</td>\n",
       "      <td>2</td>\n",
       "      <td>0</td>\n",
       "      <td>11</td>\n",
       "    </tr>\n",
       "    <tr>\n",
       "      <th>4</th>\n",
       "      <td>3</td>\n",
       "      <td>2</td>\n",
       "      <td>16</td>\n",
       "      <td>21</td>\n",
       "      <td>15</td>\n",
       "      <td>51</td>\n",
       "      <td>3</td>\n",
       "      <td>111</td>\n",
       "    </tr>\n",
       "    <tr>\n",
       "      <th>5</th>\n",
       "      <td>28</td>\n",
       "      <td>15</td>\n",
       "      <td>117</td>\n",
       "      <td>113</td>\n",
       "      <td>80</td>\n",
       "      <td>300</td>\n",
       "      <td>17</td>\n",
       "      <td>670</td>\n",
       "    </tr>\n",
       "    <tr>\n",
       "      <th>6</th>\n",
       "      <td>1</td>\n",
       "      <td>1</td>\n",
       "      <td>3</td>\n",
       "      <td>1</td>\n",
       "      <td>1</td>\n",
       "      <td>7</td>\n",
       "      <td>0</td>\n",
       "      <td>14</td>\n",
       "    </tr>\n",
       "    <tr>\n",
       "      <th>All</th>\n",
       "      <td>34</td>\n",
       "      <td>22</td>\n",
       "      <td>170</td>\n",
       "      <td>173</td>\n",
       "      <td>127</td>\n",
       "      <td>447</td>\n",
       "      <td>25</td>\n",
       "      <td>998</td>\n",
       "    </tr>\n",
       "  </tbody>\n",
       "</table>\n",
       "</div>\n",
       "      <button class=\"colab-df-convert\" onclick=\"convertToInteractive('df-2e54763d-9070-477d-9e82-484e138cbd1a')\"\n",
       "              title=\"Convert this dataframe to an interactive table.\"\n",
       "              style=\"display:none;\">\n",
       "        \n",
       "  <svg xmlns=\"http://www.w3.org/2000/svg\" height=\"24px\"viewBox=\"0 0 24 24\"\n",
       "       width=\"24px\">\n",
       "    <path d=\"M0 0h24v24H0V0z\" fill=\"none\"/>\n",
       "    <path d=\"M18.56 5.44l.94 2.06.94-2.06 2.06-.94-2.06-.94-.94-2.06-.94 2.06-2.06.94zm-11 1L8.5 8.5l.94-2.06 2.06-.94-2.06-.94L8.5 2.5l-.94 2.06-2.06.94zm10 10l.94 2.06.94-2.06 2.06-.94-2.06-.94-.94-2.06-.94 2.06-2.06.94z\"/><path d=\"M17.41 7.96l-1.37-1.37c-.4-.4-.92-.59-1.43-.59-.52 0-1.04.2-1.43.59L10.3 9.45l-7.72 7.72c-.78.78-.78 2.05 0 2.83L4 21.41c.39.39.9.59 1.41.59.51 0 1.02-.2 1.41-.59l7.78-7.78 2.81-2.81c.8-.78.8-2.07 0-2.86zM5.41 20L4 18.59l7.72-7.72 1.47 1.35L5.41 20z\"/>\n",
       "  </svg>\n",
       "      </button>\n",
       "      \n",
       "  <style>\n",
       "    .colab-df-container {\n",
       "      display:flex;\n",
       "      flex-wrap:wrap;\n",
       "      gap: 12px;\n",
       "    }\n",
       "\n",
       "    .colab-df-convert {\n",
       "      background-color: #E8F0FE;\n",
       "      border: none;\n",
       "      border-radius: 50%;\n",
       "      cursor: pointer;\n",
       "      display: none;\n",
       "      fill: #1967D2;\n",
       "      height: 32px;\n",
       "      padding: 0 0 0 0;\n",
       "      width: 32px;\n",
       "    }\n",
       "\n",
       "    .colab-df-convert:hover {\n",
       "      background-color: #E2EBFA;\n",
       "      box-shadow: 0px 1px 2px rgba(60, 64, 67, 0.3), 0px 1px 3px 1px rgba(60, 64, 67, 0.15);\n",
       "      fill: #174EA6;\n",
       "    }\n",
       "\n",
       "    [theme=dark] .colab-df-convert {\n",
       "      background-color: #3B4455;\n",
       "      fill: #D2E3FC;\n",
       "    }\n",
       "\n",
       "    [theme=dark] .colab-df-convert:hover {\n",
       "      background-color: #434B5C;\n",
       "      box-shadow: 0px 1px 3px 1px rgba(0, 0, 0, 0.15);\n",
       "      filter: drop-shadow(0px 1px 2px rgba(0, 0, 0, 0.3));\n",
       "      fill: #FFFFFF;\n",
       "    }\n",
       "  </style>\n",
       "\n",
       "      <script>\n",
       "        const buttonEl =\n",
       "          document.querySelector('#df-2e54763d-9070-477d-9e82-484e138cbd1a button.colab-df-convert');\n",
       "        buttonEl.style.display =\n",
       "          google.colab.kernel.accessAllowed ? 'block' : 'none';\n",
       "\n",
       "        async function convertToInteractive(key) {\n",
       "          const element = document.querySelector('#df-2e54763d-9070-477d-9e82-484e138cbd1a');\n",
       "          const dataTable =\n",
       "            await google.colab.kernel.invokeFunction('convertToInteractive',\n",
       "                                                     [key], {});\n",
       "          if (!dataTable) return;\n",
       "\n",
       "          const docLinkHtml = 'Like what you see? Visit the ' +\n",
       "            '<a target=\"_blank\" href=https://colab.research.google.com/notebooks/data_table.ipynb>data table notebook</a>'\n",
       "            + ' to learn more about interactive tables.';\n",
       "          element.innerHTML = '';\n",
       "          dataTable['output_type'] = 'display_data';\n",
       "          await google.colab.output.renderOutput(dataTable, element);\n",
       "          const docLink = document.createElement('div');\n",
       "          docLink.innerHTML = docLinkHtml;\n",
       "          element.appendChild(docLink);\n",
       "        }\n",
       "      </script>\n",
       "    </div>\n",
       "  </div>\n",
       "  "
      ],
      "text/plain": [
       "Predicted   0   1    2    3    4    5   6  All\n",
       "Actual                                        \n",
       "0           0   3    6    6    7   10   0   32\n",
       "1           2   0   10    6    4   28   1   51\n",
       "2           0   0   18   22   16   49   4  109\n",
       "3           0   1    0    4    4    2   0   11\n",
       "4           3   2   16   21   15   51   3  111\n",
       "5          28  15  117  113   80  300  17  670\n",
       "6           1   1    3    1    1    7   0   14\n",
       "All        34  22  170  173  127  447  25  998"
      ]
     },
     "execution_count": 86,
     "metadata": {},
     "output_type": "execute_result"
    }
   ],
   "source": [
    "# Matrix with predictions from each class\n",
    "pd.crosstab(test_dataset.classes, y_pred, rownames = [\"Actual\"], colnames = [\"Predicted\"], margins = True)"
   ]
  },
  {
   "cell_type": "code",
   "execution_count": null,
   "metadata": {
    "colab": {
     "base_uri": "https://localhost:8080/",
     "height": 411
    },
    "executionInfo": {
     "elapsed": 873,
     "status": "ok",
     "timestamp": 1643250229937,
     "user": {
      "displayName": "Colab Pro",
      "photoUrl": "https://lh3.googleusercontent.com/a/default-user=s64",
      "userId": "11511566011687817295"
     },
     "user_tz": 0
    },
    "id": "vyYcPlYRhOPA",
    "outputId": "99d98415-9a3a-4609-9481-6d87e74b93e0"
   },
   "outputs": [
    {
     "name": "stderr",
     "output_type": "stream",
     "text": [
      "/usr/local/lib/python3.7/dist-packages/ipykernel_launcher.py:6: FutureWarning: Support for multi-dimensional indexing (e.g. `obj[:, None]`) is deprecated and will be removed in a future version.  Convert to a numpy array before indexing instead.\n",
      "  \n"
     ]
    },
    {
     "data": {
      "text/plain": [
       "<matplotlib.axes._subplots.AxesSubplot at 0x7f77345becd0>"
      ]
     },
     "execution_count": 87,
     "metadata": {},
     "output_type": "execute_result"
    },
    {
     "data": {
      "image/png": "[encoded data removed]",
      "text/plain": [
       "<Figure size 720x360 with 2 Axes>"
      ]
     },
     "metadata": {
      "needs_background": "light"
     },
     "output_type": "display_data"
    }
   ],
   "source": [
    "# Plotting a confusion matrix\n",
    "from sklearn.metrics import confusion_matrix\n",
    "import seaborn as sns\n",
    "conf_matrix = pd.DataFrame(cf, index = ['akiec', 'bcc', 'bkl', 'df', 'mel', 'nv', 'vasc'],\n",
    "                           columns = ['akiec', 'bcc', 'bkl', 'df', 'mel', 'nv', 'vasc'])\n",
    "#Normalizing\n",
    "conf_matrix = conf_matrix.astype('float') / conf_matrix.sum(axis=1)[:, np.newaxis]\n",
    "plt.figure(figsize = (10, 5))\n",
    "plt.title(\"Confusion Matrix for VGG16\", fontsize = 14)\n",
    "sns.heatmap(conf_matrix, annot=True, annot_kws={\"size\": 15})"
   ]
  },
  {
   "cell_type": "markdown",
   "metadata": {
    "id": "-gm92jitfZOJ"
   },
   "source": [
    "The above matrix shows us the performance of the model for each skin cance class."
   ]
  },
  {
   "cell_type": "code",
   "execution_count": null,
   "metadata": {
    "colab": {
     "base_uri": "https://localhost:8080/"
    },
    "executionInfo": {
     "elapsed": 485,
     "status": "ok",
     "timestamp": 1643250235756,
     "user": {
      "displayName": "Colab Pro",
      "photoUrl": "https://lh3.googleusercontent.com/a/default-user=s64",
      "userId": "11511566011687817295"
     },
     "user_tz": 0
    },
    "id": "-BTBqcCLhtS8",
    "outputId": "fb728531-d575-4c48-d80c-235456f8b839"
   },
   "outputs": [
    {
     "name": "stdout",
     "output_type": "stream",
     "text": [
      "              precision    recall  f1-score   support\n",
      "\n",
      "       akiec       0.00      0.00      0.00        32\n",
      "         bcc       0.00      0.00      0.00        51\n",
      "         bkl       0.11      0.17      0.13       109\n",
      "          df       0.02      0.36      0.04        11\n",
      "         mel       0.12      0.14      0.13       111\n",
      "          nv       0.67      0.45      0.54       670\n",
      "        vasc       0.00      0.00      0.00        14\n",
      "\n",
      "    accuracy                           0.34       998\n",
      "   macro avg       0.13      0.16      0.12       998\n",
      "weighted avg       0.48      0.34      0.39       998\n",
      "\n"
     ]
    }
   ],
   "source": [
    "from sklearn.metrics import classification_report\n",
    "\n",
    "target_names = ['akiec', 'bcc', 'bkl', 'df', 'mel', 'nv', 'vasc']\n",
    "print(classification_report(test_dataset.classes, y_pred, target_names = target_names))"
   ]
  },
  {
   "cell_type": "markdown",
   "metadata": {
    "id": "LuGYONVHT608"
   },
   "source": [
    "When all classes must be considered equally, we use the macro-averaging score to assess the classifier's overall performance in terms of the most common class labels.\n",
    "\n",
    "In the event of class imbalances, it is better to use a weighted macro-averaging score (different number of instances related to different class labels)."
   ]
  },
  {
   "cell_type": "code",
   "execution_count": null,
   "metadata": {
    "id": "gl-jhddcikLK"
   },
   "outputs": [],
   "source": [
    "%load_ext tensorboard\n",
    "%tensorboard --logdir logs"
   ]
  },
  {
   "cell_type": "markdown",
   "metadata": {
    "id": "7qX8j4GiSVke"
   },
   "source": [
    "## ResNet 50v2"
   ]
  },
  {
   "cell_type": "markdown",
   "metadata": {
    "id": "OA-xLi9pcFfy"
   },
   "source": [
    "This is A CNN based 50 layers deep model. We are using a pre-trained version of the ResNet50v2 model which was trained on imagenet database with an image input size of 224 x 224. Model architecture is shown below.<br>\n",
    "We are using Adam as the optimizer for our model with learning rate of 0.001. It is one of the most extensively used techique because of its simplicity and efficiency for large data volumes.<br>\n",
    "Categorical cross entropy - It is a loss fucntion for categorizing labels and is used for multi-class classification. Using this we train CNN to output a probability over the classes."
   ]
  },
  {
   "cell_type": "code",
   "execution_count": null,
   "metadata": {
    "colab": {
     "base_uri": "https://localhost:8080/"
    },
    "executionInfo": {
     "elapsed": 350,
     "status": "ok",
     "timestamp": 1643268887715,
     "user": {
      "displayName": "Colab Pro",
      "photoUrl": "https://lh3.googleusercontent.com/a/default-user=s64",
      "userId": "11511566011687817295"
     },
     "user_tz": 0
    },
    "id": "AQXyngWoSVQN",
    "outputId": "7bb7fa0e-92db-4a63-cf28-7f62f123c129"
   },
   "outputs": [
    {
     "name": "stdout",
     "output_type": "stream",
     "text": [
      "Done\n"
     ]
    }
   ],
   "source": [
    "def model_resnet50():\n",
    "\n",
    "  # Using pre-trained model (Trained on imagenet)\n",
    "  base_model = tf.keras.applications.ResNet50V2(weights=\"imagenet\", include_top=False, input_shape=(224, 224, 3))\n",
    "  \n",
    "  x = base_model.output\n",
    "  x = GlobalAveragePooling2D()(x)\n",
    "  x = tf.keras.layers.Dense(128, activation = \"relu\")(x)\n",
    "  x = tf.keras.layers.Dropout(0.2)(x)\n",
    "  output = tf.keras.layers.Dense(7, activation=\"softmax\")(x)\n",
    "  model = tf.keras.models.Model(inputs = [base_model.input], outputs = [output])\n",
    "\n",
    "  for layer in base_model.layers:\n",
    "    layer.trainable = False\n",
    "\n",
    "  optim = Adam(learning_rate=0.001)\n",
    "  \n",
    "  model.compile(optimizer = optim, loss = \"categorical_crossentropy\", metrics = metric)\n",
    "\n",
    "  print(model.summary())\n",
    "\n",
    "  return model\n",
    "\n",
    "print(\"Done\")"
   ]
  },
  {
   "cell_type": "code",
   "execution_count": null,
   "metadata": {
    "id": "ESGoBFDQWbRU"
   },
   "outputs": [],
   "source": [
    "# Model architecture\n",
    "model = model_resnet50()"
   ]
  },
  {
   "cell_type": "code",
   "execution_count": null,
   "metadata": {
    "id": "kBbWagR5WpAh"
   },
   "outputs": [],
   "source": [
    "# implementing early stopping and model check point \n",
    "from keras.callbacks import EarlyStopping, ModelCheckpoint\n",
    "import datetime, os\n",
    "\n",
    "# Setting early stopping mechanism monitoring validation accuracy\n",
    "es = EarlyStopping(monitor= \"val_f1_metric\", mode = \"max\", min_delta= 0.01, patience = 5, verbose=1)\n",
    "# Saving the improvements in the model\n",
    "mc = ModelCheckpoint(filepath=\"renset50v2.h5\", monitor=\"val_f1_metric\", verbose=1, save_best_only= True, mode=\"max\")\n",
    "# Reducing learning rate if the model is not improving\n",
    "lr_r = tf.keras.callbacks.ReduceLROnPlateau(monitor='val_f1_metric', \n",
    "                                            patience=5, \n",
    "                                            verbose=1, \n",
    "                                            factor=0.5, \n",
    "                                            min_lr=0.00001)\n",
    "\n",
    "logdir = os.path.join(\"logs\", datetime.datetime.now().strftime(\"%Y%m%d-%H%M%S\"))\n",
    "tensorboard_callback = tf.keras.callbacks.TensorBoard(logdir, histogram_freq=1)"
   ]
  },
  {
   "cell_type": "code",
   "execution_count": null,
   "metadata": {
    "colab": {
     "base_uri": "https://localhost:8080/"
    },
    "executionInfo": {
     "elapsed": 2566156,
     "status": "ok",
     "timestamp": 1643271465836,
     "user": {
      "displayName": "Colab Pro",
      "photoUrl": "https://lh3.googleusercontent.com/a/default-user=s64",
      "userId": "11511566011687817295"
     },
     "user_tz": 0
    },
    "id": "hKOSHJMMXOzQ",
    "outputId": "7a4c7c46-065a-409d-9ca9-6bb37b4f603e"
   },
   "outputs": [
    {
     "name": "stderr",
     "output_type": "stream",
     "text": [
      "/usr/local/lib/python3.7/dist-packages/keras/engine/functional.py:1410: CustomMaskWarning: Custom mask layers require a config and must override get_config. When loading, the custom mask layer must be passed to the custom_objects argument.\n",
      "  layer_config = serialize_layer_fn(layer)\n"
     ]
    },
    {
     "name": "stdout",
     "output_type": "stream",
     "text": [
      "Epoch 1/50\n",
      "501/501 [==============================] - ETA: 0s - loss: 1.5005 - accuracy: 0.3765 - precision: 0.1228 - recall: 0.1209 - f1_metric: 0.3605\n",
      "Epoch 00001: val_f1_metric improved from -inf to 0.47474, saving model to renset50v2.h5\n",
      "501/501 [==============================] - 95s 184ms/step - loss: 1.5005 - accuracy: 0.3765 - precision: 0.1228 - recall: 0.1209 - f1_metric: 0.3605 - val_loss: 1.2066 - val_accuracy: 0.5341 - val_precision: 0.1111 - val_recall: 0.0754 - val_f1_metric: 0.4747 - lr: 0.0010\n",
      "Epoch 2/50\n",
      "501/501 [==============================] - ETA: 0s - loss: 1.1352 - accuracy: 0.5687 - precision: 0.2142 - recall: 0.2158 - f1_metric: 0.5237\n",
      "Epoch 00002: val_f1_metric improved from 0.47474 to 0.51957, saving model to renset50v2.h5\n",
      "501/501 [==============================] - 91s 181ms/step - loss: 1.1352 - accuracy: 0.5687 - precision: 0.2142 - recall: 0.2158 - f1_metric: 0.5237 - val_loss: 1.0421 - val_accuracy: 0.5721 - val_precision: 0.2381 - val_recall: 0.2050 - val_f1_metric: 0.5196 - lr: 0.0010\n",
      "Epoch 3/50\n",
      "501/501 [==============================] - ETA: 0s - loss: 0.9295 - accuracy: 0.6175 - precision: 0.3206 - recall: 0.3105 - f1_metric: 0.5911\n",
      "Epoch 00003: val_f1_metric improved from 0.51957 to 0.56009, saving model to renset50v2.h5\n",
      "501/501 [==============================] - 91s 181ms/step - loss: 0.9295 - accuracy: 0.6175 - precision: 0.3206 - recall: 0.3105 - f1_metric: 0.5911 - val_loss: 1.0499 - val_accuracy: 0.6172 - val_precision: 0.2778 - val_recall: 0.2513 - val_f1_metric: 0.5601 - lr: 0.0010\n",
      "Epoch 4/50\n",
      "501/501 [==============================] - ETA: 0s - loss: 0.8588 - accuracy: 0.6392 - precision: 0.2882 - recall: 0.2983 - f1_metric: 0.6157\n",
      "Epoch 00004: val_f1_metric did not improve from 0.56009\n",
      "501/501 [==============================] - 90s 180ms/step - loss: 0.8588 - accuracy: 0.6392 - precision: 0.2882 - recall: 0.2983 - f1_metric: 0.6157 - val_loss: 1.1844 - val_accuracy: 0.5471 - val_precision: 0.3519 - val_recall: 0.4841 - val_f1_metric: 0.5147 - lr: 0.0010\n",
      "Epoch 5/50\n",
      "501/501 [==============================] - ETA: 0s - loss: 0.7567 - accuracy: 0.6554 - precision: 0.3142 - recall: 0.3467 - f1_metric: 0.6368\n",
      "Epoch 00005: val_f1_metric improved from 0.56009 to 0.68315, saving model to renset50v2.h5\n",
      "501/501 [==============================] - 92s 184ms/step - loss: 0.7567 - accuracy: 0.6554 - precision: 0.3142 - recall: 0.3467 - f1_metric: 0.6368 - val_loss: 0.8057 - val_accuracy: 0.6924 - val_precision: 0.3439 - val_recall: 0.2831 - val_f1_metric: 0.6832 - lr: 0.0010\n",
      "Epoch 6/50\n",
      "501/501 [==============================] - ETA: 0s - loss: 0.6496 - accuracy: 0.6903 - precision: 0.3689 - recall: 0.3857 - f1_metric: 0.6758\n",
      "Epoch 00006: val_f1_metric improved from 0.68315 to 0.69884, saving model to renset50v2.h5\n",
      "\n",
      "Epoch 00006: ReduceLROnPlateau reducing learning rate to 0.0005000000237487257.\n",
      "501/501 [==============================] - 91s 182ms/step - loss: 0.6496 - accuracy: 0.6903 - precision: 0.3689 - recall: 0.3857 - f1_metric: 0.6758 - val_loss: 0.7448 - val_accuracy: 0.7114 - val_precision: 0.3413 - val_recall: 0.3280 - val_f1_metric: 0.6988 - lr: 0.0010\n",
      "Epoch 7/50\n",
      "501/501 [==============================] - ETA: 0s - loss: 0.5474 - accuracy: 0.7139 - precision: 0.4020 - recall: 0.4293 - f1_metric: 0.7047\n",
      "Epoch 00007: val_f1_metric improved from 0.69884 to 0.75280, saving model to renset50v2.h5\n",
      "501/501 [==============================] - 91s 182ms/step - loss: 0.5474 - accuracy: 0.7139 - precision: 0.4020 - recall: 0.4293 - f1_metric: 0.7047 - val_loss: 0.6484 - val_accuracy: 0.7525 - val_precision: 0.4365 - val_recall: 0.4563 - val_f1_metric: 0.7528 - lr: 5.0000e-04\n",
      "Epoch 8/50\n",
      "501/501 [==============================] - ETA: 0s - loss: 0.4859 - accuracy: 0.7392 - precision: 0.4329 - recall: 0.4615 - f1_metric: 0.7327\n",
      "Epoch 00008: val_f1_metric did not improve from 0.75280\n",
      "501/501 [==============================] - 91s 181ms/step - loss: 0.4859 - accuracy: 0.7392 - precision: 0.4329 - recall: 0.4615 - f1_metric: 0.7327 - val_loss: 0.6482 - val_accuracy: 0.7585 - val_precision: 0.4127 - val_recall: 0.3810 - val_f1_metric: 0.7520 - lr: 5.0000e-04\n",
      "Epoch 9/50\n",
      "501/501 [==============================] - ETA: 0s - loss: 0.4537 - accuracy: 0.7463 - precision: 0.4396 - recall: 0.4731 - f1_metric: 0.7368\n",
      "Epoch 00009: val_f1_metric improved from 0.75280 to 0.76719, saving model to renset50v2.h5\n",
      "501/501 [==============================] - 91s 181ms/step - loss: 0.4537 - accuracy: 0.7463 - precision: 0.4396 - recall: 0.4731 - f1_metric: 0.7368 - val_loss: 0.5740 - val_accuracy: 0.7796 - val_precision: 0.4643 - val_recall: 0.4709 - val_f1_metric: 0.7672 - lr: 5.0000e-04\n",
      "Epoch 10/50\n",
      "501/501 [==============================] - ETA: 0s - loss: 0.4119 - accuracy: 0.7582 - precision: 0.4393 - recall: 0.4846 - f1_metric: 0.7505\n",
      "Epoch 00010: val_f1_metric improved from 0.76719 to 0.79870, saving model to renset50v2.h5\n",
      "501/501 [==============================] - 91s 181ms/step - loss: 0.4119 - accuracy: 0.7582 - precision: 0.4393 - recall: 0.4846 - f1_metric: 0.7505 - val_loss: 0.5437 - val_accuracy: 0.8186 - val_precision: 0.5132 - val_recall: 0.5423 - val_f1_metric: 0.7987 - lr: 5.0000e-04\n",
      "Epoch 11/50\n",
      "501/501 [==============================] - ETA: 0s - loss: 0.3937 - accuracy: 0.7723 - precision: 0.4529 - recall: 0.4877 - f1_metric: 0.7636\n",
      "Epoch 00011: val_f1_metric did not improve from 0.79870\n",
      "\n",
      "Epoch 00011: ReduceLROnPlateau reducing learning rate to 0.0002500000118743628.\n",
      "501/501 [==============================] - 91s 181ms/step - loss: 0.3937 - accuracy: 0.7723 - precision: 0.4529 - recall: 0.4877 - f1_metric: 0.7636 - val_loss: 0.5602 - val_accuracy: 0.7936 - val_precision: 0.5172 - val_recall: 0.5556 - val_f1_metric: 0.7882 - lr: 5.0000e-04\n",
      "Epoch 12/50\n",
      "501/501 [==============================] - ETA: 0s - loss: 0.3365 - accuracy: 0.7918 - precision: 0.4912 - recall: 0.5152 - f1_metric: 0.7872\n",
      "Epoch 00012: val_f1_metric improved from 0.79870 to 0.81985, saving model to renset50v2.h5\n",
      "501/501 [==============================] - 91s 182ms/step - loss: 0.3365 - accuracy: 0.7918 - precision: 0.4912 - recall: 0.5152 - f1_metric: 0.7872 - val_loss: 0.5147 - val_accuracy: 0.8277 - val_precision: 0.5198 - val_recall: 0.5635 - val_f1_metric: 0.8199 - lr: 2.5000e-04\n",
      "Epoch 13/50\n",
      "501/501 [==============================] - ETA: 0s - loss: 0.3196 - accuracy: 0.8014 - precision: 0.4942 - recall: 0.5333 - f1_metric: 0.7962\n",
      "Epoch 00013: val_f1_metric did not improve from 0.81985\n",
      "501/501 [==============================] - 90s 181ms/step - loss: 0.3196 - accuracy: 0.8014 - precision: 0.4942 - recall: 0.5333 - f1_metric: 0.7962 - val_loss: 0.5185 - val_accuracy: 0.8016 - val_precision: 0.5238 - val_recall: 0.5635 - val_f1_metric: 0.7951 - lr: 2.5000e-04\n",
      "Epoch 14/50\n",
      "501/501 [==============================] - ETA: 0s - loss: 0.3001 - accuracy: 0.8066 - precision: 0.4727 - recall: 0.5101 - f1_metric: 0.8014\n",
      "Epoch 00014: val_f1_metric improved from 0.81985 to 0.83073, saving model to renset50v2.h5\n",
      "501/501 [==============================] - 91s 182ms/step - loss: 0.3001 - accuracy: 0.8066 - precision: 0.4727 - recall: 0.5101 - f1_metric: 0.8014 - val_loss: 0.4584 - val_accuracy: 0.8317 - val_precision: 0.5238 - val_recall: 0.5635 - val_f1_metric: 0.8307 - lr: 2.5000e-04\n",
      "Epoch 15/50\n",
      "501/501 [==============================] - ETA: 0s - loss: 0.2861 - accuracy: 0.8137 - precision: 0.4850 - recall: 0.5301 - f1_metric: 0.8109\n",
      "Epoch 00015: val_f1_metric did not improve from 0.83073\n",
      "501/501 [==============================] - 90s 180ms/step - loss: 0.2861 - accuracy: 0.8137 - precision: 0.4850 - recall: 0.5301 - f1_metric: 0.8109 - val_loss: 0.4852 - val_accuracy: 0.8246 - val_precision: 0.4775 - val_recall: 0.5238 - val_f1_metric: 0.8200 - lr: 2.5000e-04\n",
      "Epoch 16/50\n",
      "501/501 [==============================] - ETA: 0s - loss: 0.2821 - accuracy: 0.8155 - precision: 0.5180 - recall: 0.5599 - f1_metric: 0.8117\n",
      "Epoch 00016: val_f1_metric did not improve from 0.83073\n",
      "\n",
      "Epoch 00016: ReduceLROnPlateau reducing learning rate to 0.0001250000059371814.\n",
      "501/501 [==============================] - 90s 180ms/step - loss: 0.2821 - accuracy: 0.8155 - precision: 0.5180 - recall: 0.5599 - f1_metric: 0.8117 - val_loss: 0.4992 - val_accuracy: 0.8116 - val_precision: 0.5741 - val_recall: 0.6270 - val_f1_metric: 0.8161 - lr: 2.5000e-04\n",
      "Epoch 17/50\n",
      "501/501 [==============================] - ETA: 0s - loss: 0.2604 - accuracy: 0.8327 - precision: 0.5209 - recall: 0.5562 - f1_metric: 0.8280\n",
      "Epoch 00017: val_f1_metric improved from 0.83073 to 0.85867, saving model to renset50v2.h5\n",
      "501/501 [==============================] - 91s 182ms/step - loss: 0.2604 - accuracy: 0.8327 - precision: 0.5209 - recall: 0.5562 - f1_metric: 0.8280 - val_loss: 0.4170 - val_accuracy: 0.8587 - val_precision: 0.5820 - val_recall: 0.6217 - val_f1_metric: 0.8587 - lr: 1.2500e-04\n",
      "Epoch 18/50\n",
      "501/501 [==============================] - ETA: 0s - loss: 0.2362 - accuracy: 0.8373 - precision: 0.5211 - recall: 0.5506 - f1_metric: 0.8346\n",
      "Epoch 00018: val_f1_metric did not improve from 0.85867\n",
      "501/501 [==============================] - 91s 182ms/step - loss: 0.2362 - accuracy: 0.8373 - precision: 0.5211 - recall: 0.5506 - f1_metric: 0.8346 - val_loss: 0.4285 - val_accuracy: 0.8457 - val_precision: 0.4974 - val_recall: 0.5238 - val_f1_metric: 0.8416 - lr: 1.2500e-04\n",
      "Epoch 19/50\n",
      "501/501 [==============================] - ETA: 0s - loss: 0.2311 - accuracy: 0.8343 - precision: 0.5060 - recall: 0.5349 - f1_metric: 0.8356\n",
      "Epoch 00019: val_f1_metric did not improve from 0.85867\n",
      "501/501 [==============================] - 94s 187ms/step - loss: 0.2311 - accuracy: 0.8343 - precision: 0.5060 - recall: 0.5349 - f1_metric: 0.8356 - val_loss: 0.4290 - val_accuracy: 0.8467 - val_precision: 0.4590 - val_recall: 0.4921 - val_f1_metric: 0.8484 - lr: 1.2500e-04\n",
      "Epoch 20/50\n",
      "501/501 [==============================] - ETA: 0s - loss: 0.2366 - accuracy: 0.8416 - precision: 0.5211 - recall: 0.5472 - f1_metric: 0.8402\n",
      "Epoch 00020: val_f1_metric did not improve from 0.85867\n",
      "501/501 [==============================] - 92s 183ms/step - loss: 0.2366 - accuracy: 0.8416 - precision: 0.5211 - recall: 0.5472 - f1_metric: 0.8402 - val_loss: 0.4152 - val_accuracy: 0.8517 - val_precision: 0.4484 - val_recall: 0.4947 - val_f1_metric: 0.8543 - lr: 1.2500e-04\n",
      "Epoch 21/50\n",
      "501/501 [==============================] - ETA: 0s - loss: 0.2329 - accuracy: 0.8404 - precision: 0.5038 - recall: 0.5363 - f1_metric: 0.8381\n",
      "Epoch 00021: val_f1_metric did not improve from 0.85867\n",
      "\n",
      "Epoch 00021: ReduceLROnPlateau reducing learning rate to 6.25000029685907e-05.\n",
      "501/501 [==============================] - 90s 181ms/step - loss: 0.2329 - accuracy: 0.8404 - precision: 0.5038 - recall: 0.5363 - f1_metric: 0.8381 - val_loss: 0.4370 - val_accuracy: 0.8457 - val_precision: 0.5450 - val_recall: 0.5582 - val_f1_metric: 0.8452 - lr: 1.2500e-04\n",
      "Epoch 22/50\n",
      "501/501 [==============================] - ETA: 0s - loss: 0.2089 - accuracy: 0.8519 - precision: 0.5236 - recall: 0.5549 - f1_metric: 0.8519\n",
      "Epoch 00022: val_f1_metric did not improve from 0.85867\n",
      "501/501 [==============================] - 91s 181ms/step - loss: 0.2089 - accuracy: 0.8519 - precision: 0.5236 - recall: 0.5549 - f1_metric: 0.8519 - val_loss: 0.3976 - val_accuracy: 0.8637 - val_precision: 0.4947 - val_recall: 0.5132 - val_f1_metric: 0.8575 - lr: 6.2500e-05\n",
      "Epoch 00022: early stopping\n"
     ]
    }
   ],
   "source": [
    "# Fitting the model on our dataset\n",
    "history_resnet50 = model.fit(train_dataset, epochs = 50, validation_data = validation_dataset, \n",
    "                          callbacks = [es, mc, lr_r, tensorboard_callback], \n",
    "                          class_weight = class_weight_dict, batch_size = 16)"
   ]
  },
  {
   "cell_type": "code",
   "execution_count": null,
   "metadata": {
    "colab": {
     "base_uri": "https://localhost:8080/"
    },
    "executionInfo": {
     "elapsed": 20919,
     "status": "ok",
     "timestamp": 1643271537971,
     "user": {
      "displayName": "Colab Pro",
      "photoUrl": "https://lh3.googleusercontent.com/a/default-user=s64",
      "userId": "11511566011687817295"
     },
     "user_tz": 0
    },
    "id": "BNOcwcv1oS1l",
    "outputId": "8a1033aa-b506-47ae-a953-9286946d7e19"
   },
   "outputs": [
    {
     "name": "stdout",
     "output_type": "stream",
     "text": [
      "63/63 [==============================] - 12s 184ms/step - loss: 0.3922 - accuracy: 0.8697 - precision: 0.5357 - recall: 0.5476 - f1_metric: 0.8642\n",
      "The accuracy for Test Data using ResNet50 V2 model is: 86.97394728660583 %\n"
     ]
    }
   ],
   "source": [
    "acc = model.evaluate(test_dataset, verbose = 1)\n",
    "print(f\"The accuracy for Test Data using ResNet50 V2 model is: {acc[1] * 100} %\")"
   ]
  },
  {
   "cell_type": "code",
   "execution_count": null,
   "metadata": {
    "colab": {
     "base_uri": "https://localhost:8080/"
    },
    "executionInfo": {
     "elapsed": 10467,
     "status": "ok",
     "timestamp": 1643271608560,
     "user": {
      "displayName": "Colab Pro",
      "photoUrl": "https://lh3.googleusercontent.com/a/default-user=s64",
      "userId": "11511566011687817295"
     },
     "user_tz": 0
    },
    "id": "ez_9drxVobJQ",
    "outputId": "6843487d-b5e0-4b9d-cdff-de0e043657cc"
   },
   "outputs": [
    {
     "name": "stdout",
     "output_type": "stream",
     "text": [
      "Confusion Matrix\n",
      "[[  1   1   3   0   5  20   2]\n",
      " [  3   4   7   2   9  26   0]\n",
      " [  5   3  15   0  12  73   1]\n",
      " [  0   1   0   0   4   6   0]\n",
      " [  4   8  24   0  13  61   1]\n",
      " [ 24  39  77  10 110 395  15]\n",
      " [  1   0   1   0   2  10   0]]\n"
     ]
    }
   ],
   "source": [
    "Y_pred = model.predict(test_dataset)\n",
    "y_pred = np.argmax(Y_pred, axis = 1)\n",
    "print(\"Confusion Matrix\")\n",
    "cf = confusion_matrix(test_dataset.classes, y_pred)\n",
    "print(cf)"
   ]
  },
  {
   "cell_type": "code",
   "execution_count": null,
   "metadata": {
    "colab": {
     "base_uri": "https://localhost:8080/",
     "height": 331
    },
    "executionInfo": {
     "elapsed": 363,
     "status": "ok",
     "timestamp": 1643271612560,
     "user": {
      "displayName": "Colab Pro",
      "photoUrl": "https://lh3.googleusercontent.com/a/default-user=s64",
      "userId": "11511566011687817295"
     },
     "user_tz": 0
    },
    "id": "t5KBUxW1ocM1",
    "outputId": "d99e491d-4c9a-4ba1-ebd1-bd7b97ab544d"
   },
   "outputs": [
    {
     "data": {
      "text/html": [
       "\n",
       "  <div id=\"df-7e8f7b31-d525-4314-a294-5d843ed8c263\">\n",
       "    <div class=\"colab-df-container\">\n",
       "      <div>\n",
       "<style scoped>\n",
       "    .dataframe tbody tr th:only-of-type {\n",
       "        vertical-align: middle;\n",
       "    }\n",
       "\n",
       "    .dataframe tbody tr th {\n",
       "        vertical-align: top;\n",
       "    }\n",
       "\n",
       "    .dataframe thead th {\n",
       "        text-align: right;\n",
       "    }\n",
       "</style>\n",
       "<table border=\"1\" class=\"dataframe\">\n",
       "  <thead>\n",
       "    <tr style=\"text-align: right;\">\n",
       "      <th>Predicted</th>\n",
       "      <th>0</th>\n",
       "      <th>1</th>\n",
       "      <th>2</th>\n",
       "      <th>3</th>\n",
       "      <th>4</th>\n",
       "      <th>5</th>\n",
       "      <th>6</th>\n",
       "      <th>All</th>\n",
       "    </tr>\n",
       "    <tr>\n",
       "      <th>Actual</th>\n",
       "      <th></th>\n",
       "      <th></th>\n",
       "      <th></th>\n",
       "      <th></th>\n",
       "      <th></th>\n",
       "      <th></th>\n",
       "      <th></th>\n",
       "      <th></th>\n",
       "    </tr>\n",
       "  </thead>\n",
       "  <tbody>\n",
       "    <tr>\n",
       "      <th>0</th>\n",
       "      <td>1</td>\n",
       "      <td>1</td>\n",
       "      <td>3</td>\n",
       "      <td>0</td>\n",
       "      <td>5</td>\n",
       "      <td>20</td>\n",
       "      <td>2</td>\n",
       "      <td>32</td>\n",
       "    </tr>\n",
       "    <tr>\n",
       "      <th>1</th>\n",
       "      <td>3</td>\n",
       "      <td>4</td>\n",
       "      <td>7</td>\n",
       "      <td>2</td>\n",
       "      <td>9</td>\n",
       "      <td>26</td>\n",
       "      <td>0</td>\n",
       "      <td>51</td>\n",
       "    </tr>\n",
       "    <tr>\n",
       "      <th>2</th>\n",
       "      <td>5</td>\n",
       "      <td>3</td>\n",
       "      <td>15</td>\n",
       "      <td>0</td>\n",
       "      <td>12</td>\n",
       "      <td>73</td>\n",
       "      <td>1</td>\n",
       "      <td>109</td>\n",
       "    </tr>\n",
       "    <tr>\n",
       "      <th>3</th>\n",
       "      <td>0</td>\n",
       "      <td>1</td>\n",
       "      <td>0</td>\n",
       "      <td>0</td>\n",
       "      <td>4</td>\n",
       "      <td>6</td>\n",
       "      <td>0</td>\n",
       "      <td>11</td>\n",
       "    </tr>\n",
       "    <tr>\n",
       "      <th>4</th>\n",
       "      <td>4</td>\n",
       "      <td>8</td>\n",
       "      <td>24</td>\n",
       "      <td>0</td>\n",
       "      <td>13</td>\n",
       "      <td>61</td>\n",
       "      <td>1</td>\n",
       "      <td>111</td>\n",
       "    </tr>\n",
       "    <tr>\n",
       "      <th>5</th>\n",
       "      <td>24</td>\n",
       "      <td>39</td>\n",
       "      <td>77</td>\n",
       "      <td>10</td>\n",
       "      <td>110</td>\n",
       "      <td>395</td>\n",
       "      <td>15</td>\n",
       "      <td>670</td>\n",
       "    </tr>\n",
       "    <tr>\n",
       "      <th>6</th>\n",
       "      <td>1</td>\n",
       "      <td>0</td>\n",
       "      <td>1</td>\n",
       "      <td>0</td>\n",
       "      <td>2</td>\n",
       "      <td>10</td>\n",
       "      <td>0</td>\n",
       "      <td>14</td>\n",
       "    </tr>\n",
       "    <tr>\n",
       "      <th>All</th>\n",
       "      <td>38</td>\n",
       "      <td>56</td>\n",
       "      <td>127</td>\n",
       "      <td>12</td>\n",
       "      <td>155</td>\n",
       "      <td>591</td>\n",
       "      <td>19</td>\n",
       "      <td>998</td>\n",
       "    </tr>\n",
       "  </tbody>\n",
       "</table>\n",
       "</div>\n",
       "      <button class=\"colab-df-convert\" onclick=\"convertToInteractive('df-7e8f7b31-d525-4314-a294-5d843ed8c263')\"\n",
       "              title=\"Convert this dataframe to an interactive table.\"\n",
       "              style=\"display:none;\">\n",
       "        \n",
       "  <svg xmlns=\"http://www.w3.org/2000/svg\" height=\"24px\"viewBox=\"0 0 24 24\"\n",
       "       width=\"24px\">\n",
       "    <path d=\"M0 0h24v24H0V0z\" fill=\"none\"/>\n",
       "    <path d=\"M18.56 5.44l.94 2.06.94-2.06 2.06-.94-2.06-.94-.94-2.06-.94 2.06-2.06.94zm-11 1L8.5 8.5l.94-2.06 2.06-.94-2.06-.94L8.5 2.5l-.94 2.06-2.06.94zm10 10l.94 2.06.94-2.06 2.06-.94-2.06-.94-.94-2.06-.94 2.06-2.06.94z\"/><path d=\"M17.41 7.96l-1.37-1.37c-.4-.4-.92-.59-1.43-.59-.52 0-1.04.2-1.43.59L10.3 9.45l-7.72 7.72c-.78.78-.78 2.05 0 2.83L4 21.41c.39.39.9.59 1.41.59.51 0 1.02-.2 1.41-.59l7.78-7.78 2.81-2.81c.8-.78.8-2.07 0-2.86zM5.41 20L4 18.59l7.72-7.72 1.47 1.35L5.41 20z\"/>\n",
       "  </svg>\n",
       "      </button>\n",
       "      \n",
       "  <style>\n",
       "    .colab-df-container {\n",
       "      display:flex;\n",
       "      flex-wrap:wrap;\n",
       "      gap: 12px;\n",
       "    }\n",
       "\n",
       "    .colab-df-convert {\n",
       "      background-color: #E8F0FE;\n",
       "      border: none;\n",
       "      border-radius: 50%;\n",
       "      cursor: pointer;\n",
       "      display: none;\n",
       "      fill: #1967D2;\n",
       "      height: 32px;\n",
       "      padding: 0 0 0 0;\n",
       "      width: 32px;\n",
       "    }\n",
       "\n",
       "    .colab-df-convert:hover {\n",
       "      background-color: #E2EBFA;\n",
       "      box-shadow: 0px 1px 2px rgba(60, 64, 67, 0.3), 0px 1px 3px 1px rgba(60, 64, 67, 0.15);\n",
       "      fill: #174EA6;\n",
       "    }\n",
       "\n",
       "    [theme=dark] .colab-df-convert {\n",
       "      background-color: #3B4455;\n",
       "      fill: #D2E3FC;\n",
       "    }\n",
       "\n",
       "    [theme=dark] .colab-df-convert:hover {\n",
       "      background-color: #434B5C;\n",
       "      box-shadow: 0px 1px 3px 1px rgba(0, 0, 0, 0.15);\n",
       "      filter: drop-shadow(0px 1px 2px rgba(0, 0, 0, 0.3));\n",
       "      fill: #FFFFFF;\n",
       "    }\n",
       "  </style>\n",
       "\n",
       "      <script>\n",
       "        const buttonEl =\n",
       "          document.querySelector('#df-7e8f7b31-d525-4314-a294-5d843ed8c263 button.colab-df-convert');\n",
       "        buttonEl.style.display =\n",
       "          google.colab.kernel.accessAllowed ? 'block' : 'none';\n",
       "\n",
       "        async function convertToInteractive(key) {\n",
       "          const element = document.querySelector('#df-7e8f7b31-d525-4314-a294-5d843ed8c263');\n",
       "          const dataTable =\n",
       "            await google.colab.kernel.invokeFunction('convertToInteractive',\n",
       "                                                     [key], {});\n",
       "          if (!dataTable) return;\n",
       "\n",
       "          const docLinkHtml = 'Like what you see? Visit the ' +\n",
       "            '<a target=\"_blank\" href=https://colab.research.google.com/notebooks/data_table.ipynb>data table notebook</a>'\n",
       "            + ' to learn more about interactive tables.';\n",
       "          element.innerHTML = '';\n",
       "          dataTable['output_type'] = 'display_data';\n",
       "          await google.colab.output.renderOutput(dataTable, element);\n",
       "          const docLink = document.createElement('div');\n",
       "          docLink.innerHTML = docLinkHtml;\n",
       "          element.appendChild(docLink);\n",
       "        }\n",
       "      </script>\n",
       "    </div>\n",
       "  </div>\n",
       "  "
      ],
      "text/plain": [
       "Predicted   0   1    2   3    4    5   6  All\n",
       "Actual                                       \n",
       "0           1   1    3   0    5   20   2   32\n",
       "1           3   4    7   2    9   26   0   51\n",
       "2           5   3   15   0   12   73   1  109\n",
       "3           0   1    0   0    4    6   0   11\n",
       "4           4   8   24   0   13   61   1  111\n",
       "5          24  39   77  10  110  395  15  670\n",
       "6           1   0    1   0    2   10   0   14\n",
       "All        38  56  127  12  155  591  19  998"
      ]
     },
     "execution_count": 21,
     "metadata": {},
     "output_type": "execute_result"
    }
   ],
   "source": [
    "pd.crosstab(test_dataset.classes, y_pred, rownames = [\"Actual\"], colnames = [\"Predicted\"], margins = True)"
   ]
  },
  {
   "cell_type": "code",
   "execution_count": null,
   "metadata": {
    "colab": {
     "base_uri": "https://localhost:8080/",
     "height": 411
    },
    "executionInfo": {
     "elapsed": 1580,
     "status": "ok",
     "timestamp": 1643271618448,
     "user": {
      "displayName": "Colab Pro",
      "photoUrl": "https://lh3.googleusercontent.com/a/default-user=s64",
      "userId": "11511566011687817295"
     },
     "user_tz": 0
    },
    "id": "--TBEoDLokbr",
    "outputId": "923d483a-0e02-42be-b358-2a3eb75cbf7b"
   },
   "outputs": [
    {
     "name": "stderr",
     "output_type": "stream",
     "text": [
      "/usr/local/lib/python3.7/dist-packages/ipykernel_launcher.py:6: FutureWarning: Support for multi-dimensional indexing (e.g. `obj[:, None]`) is deprecated and will be removed in a future version.  Convert to a numpy array before indexing instead.\n",
      "  \n"
     ]
    },
    {
     "data": {
      "text/plain": [
       "<matplotlib.axes._subplots.AxesSubplot at 0x7f8bdc3a6cd0>"
      ]
     },
     "execution_count": 22,
     "metadata": {},
     "output_type": "execute_result"
    },
    {
     "data": {
      "image/png": "[encoded data removed]",
      "text/plain": [
       "<Figure size 720x360 with 2 Axes>"
      ]
     },
     "metadata": {
      "needs_background": "light"
     },
     "output_type": "display_data"
    }
   ],
   "source": [
    "# Plotting confuion matrix\n",
    "from sklearn.metrics import confusion_matrix\n",
    "import seaborn as sns\n",
    "conf_matrix = pd.DataFrame(cf, index = ['akiec', 'bcc', 'bkl', 'df', 'mel', 'nv', 'vasc'],\n",
    "                           columns = ['akiec', 'bcc', 'bkl', 'df', 'mel', 'nv', 'vasc'])\n",
    "#Normalizing\n",
    "conf_matrix = conf_matrix.astype('float') / conf_matrix.sum(axis=1)[:, np.newaxis]\n",
    "plt.figure(figsize = (10, 5))\n",
    "plt.title(\"Confusion Matrix for ResNet50V2\", fontsize = 14)\n",
    "sns.heatmap(conf_matrix, annot=True, annot_kws={\"size\": 15})"
   ]
  },
  {
   "cell_type": "markdown",
   "metadata": {
    "id": "vtPDSCQey7_N"
   },
   "source": [
    "| Metrics               | Resnet50 (Without IMG Augmentation) |\n",
    "|-----------------------|-------------------------------------|\n",
    "| Accuracy              | 85.19%                              |\n",
    "| Accuracy (Test data)  | 86.97%                              |\n",
    "| Validation Accuracy   | 86.37%                              |\n",
    "| F1 metric             | 85.19                               |\n",
    "| Validation F1         | 85.75                               |\n",
    "| F1 metric (Test data) | 86.42%                              |\n"
   ]
  },
  {
   "cell_type": "code",
   "execution_count": null,
   "metadata": {
    "colab": {
     "base_uri": "https://localhost:8080/"
    },
    "executionInfo": {
     "elapsed": 356,
     "status": "ok",
     "timestamp": 1643271627936,
     "user": {
      "displayName": "Colab Pro",
      "photoUrl": "https://lh3.googleusercontent.com/a/default-user=s64",
      "userId": "11511566011687817295"
     },
     "user_tz": 0
    },
    "id": "9XOuclraoqdz",
    "outputId": "d984e2fb-bb08-4981-c831-8c269dbb10fb"
   },
   "outputs": [
    {
     "name": "stdout",
     "output_type": "stream",
     "text": [
      "              precision    recall  f1-score   support\n",
      "\n",
      "       akiec       0.03      0.03      0.03        32\n",
      "         bcc       0.07      0.08      0.07        51\n",
      "         bkl       0.12      0.14      0.13       109\n",
      "          df       0.00      0.00      0.00        11\n",
      "         mel       0.08      0.12      0.10       111\n",
      "          nv       0.67      0.59      0.63       670\n",
      "        vasc       0.00      0.00      0.00        14\n",
      "\n",
      "    accuracy                           0.43       998\n",
      "   macro avg       0.14      0.14      0.14       998\n",
      "weighted avg       0.48      0.43      0.45       998\n",
      "\n"
     ]
    }
   ],
   "source": [
    "from sklearn.metrics import classification_report\n",
    "\n",
    "target_names = ['akiec', 'bcc', 'bkl', 'df', 'mel', 'nv', 'vasc']\n",
    "print(classification_report(test_dataset.classes, y_pred, target_names = target_names))"
   ]
  },
  {
   "cell_type": "markdown",
   "metadata": {},
   "source": [
    "Above is the metric score for different skin cancer classes in the dataset. we can see that the model is not predicting 'df' and 'vasc' classes at all. This is because we observed earlier during data analysis that these two classes have the lowest count of images in the dataset whereas nv has the highest therefore is has good metric scores."
   ]
  },
  {
   "cell_type": "code",
   "execution_count": null,
   "metadata": {
    "colab": {
     "base_uri": "https://localhost:8080/",
     "height": 367
    },
    "executionInfo": {
     "elapsed": 1170,
     "status": "ok",
     "timestamp": 1643271856218,
     "user": {
      "displayName": "Colab Pro",
      "photoUrl": "https://lh3.googleusercontent.com/a/default-user=s64",
      "userId": "11511566011687817295"
     },
     "user_tz": 0
    },
    "id": "Bw_1TyVGpZ-G",
    "outputId": "5bfef050-7f0d-4721-b443-593cf075388d"
   },
   "outputs": [
    {
     "data": {
      "image/png": "[encoded data removed]",
      "text/plain": [
       "<Figure size 1152x360 with 2 Axes>"
      ]
     },
     "metadata": {},
     "output_type": "display_data"
    }
   ],
   "source": [
    "fig = plt.figure(figsize=(16, 5))\n",
    "#  subplot #1\n",
    "plt.subplot(121)\n",
    "import seaborn as sns \n",
    "sns.set_style(\"whitegrid\")\n",
    "plt.plot(history_resnet50.history[\"accuracy\"], 'r', label = \"training accuracy\")\n",
    "plt.plot(history_resnet50.history[\"val_accuracy\"], label = \"validation accuracy\")\n",
    "plt.xlabel(\"epochs\")\n",
    "plt.ylabel(\"accuracy\")\n",
    "plt.title(\"Accuracy for ResNet50 V2 \\n\", fontsize = 14)\n",
    "plt.legend()\n",
    "\n",
    "#  subplot #2\n",
    "plt.subplot(122)\n",
    "import seaborn as sns \n",
    "sns.set_style(\"whitegrid\")\n",
    "plt.plot(history_resnet50.history[\"loss\"], 'r', label = \"training loss\")\n",
    "plt.plot(history_resnet50.history[\"val_loss\"], label = \"validation loss\")\n",
    "plt.xlabel(\"epochs\")\n",
    "plt.ylabel(\"Loss\")\n",
    "plt.title(\"Loss for ResNet50V2 \\n\", fontsize = 14)\n",
    "plt.legend()\n",
    "\n",
    "plt.show()"
   ]
  },
  {
   "cell_type": "markdown",
   "metadata": {
    "id": "QRmTr4I7x6HJ"
   },
   "source": [
    "The plot for the accuracy and loss obtained\n",
    "during the training and testing process is shown above."
   ]
  },
  {
   "cell_type": "markdown",
   "metadata": {
    "id": "AGPJ3AdqGkAQ"
   },
   "source": [
    "# Results"
   ]
  },
  {
   "cell_type": "markdown",
   "metadata": {
    "id": "EXrdvniQlDal"
   },
   "source": [
    "Sticking to better accuracy can create illusion of model performing well whilst it is better to have balance between the metric's which justify our use case."
   ]
  },
  {
   "cell_type": "markdown",
   "metadata": {
    "id": "BRLgajkPgXc3"
   },
   "source": [
    "The models created were trained by using the skin cancer HAM10000 image\n",
    "dataset from kagle. The number of epoch were 50. Confusion matrix are displayed at the end of each model along with other performanc metrics.<br>\n",
    "\n",
    "From the table we can see the f1-scores of the respective classes and can notice that the models with image augmentation implemented can predict more classes, even if the overall accuracy of the model was reduced, f1-score for majority of classes were increased. In terms of accuracy without image augmentation, ResNet50v2 had the highest accuracy (85%) with 86% validation accuracy. This was reduced to 74% with image augmentation.<br>\n",
    "Just like augmentation removing pre-assigned weights led to significant increase in the accuracy but the model performance was heavily biased towards the majority class.\n",
    "\n",
    "VGG16 had the best accuracy of 60% with image augmentation not applied, with its application it was reduced to 54%. Overall ResNet50 has a better score metric. However, there were no promising results in these learning algorithm."
   ]
  },
  {
   "cell_type": "markdown",
   "metadata": {
    "id": "3upy1FBVGoeR"
   },
   "source": [
    "|                    | Resnet50 (Img Augmented) | Resnet50 (Without Augmentation) | VGG16 (Img Augmented) | VGG16 (Without Augmentation) |\n",
    "|--------------------|--------------------------|---------------------------------|-----------------------|------------------------------|\n",
    "| **Cancer Classes** |                          | **f1-scores**                   |                       |                              |\n",
    "| akiec              | 0.00                     | 0.03                            | 0.01                  | 0.00                         |\n",
    "| bcc                | 0.07                     | 0.07                            | 0.10                  | 0.00                         |\n",
    "| bkl                | 0.17                     | 0.13                            | 0.04                  | 0.13                         |\n",
    "| df                 | 0.12                     | 0.00                            | 0.02                  | 0.04                         |\n",
    "| mel                | 0.14                     | 0.10                            | 0.14                  | 0.13                         |\n",
    "| nv                 | 0.59                     | 0.63                            | 0.49                  | 0.54                         |\n",
    "| vasc               | 0.05                     | 0.00                            | 0.00                  | 0.00                         |"
   ]
  },
  {
   "cell_type": "markdown",
   "metadata": {
    "id": "ZD2Iu2RzjywR"
   },
   "source": [
    "# Future Scope\n",
    "\n",
    "Encouraged by these outcomes, future work will include the improvement of prediction result and classification accuracy.\n",
    "The dataset was highly imbalance in future image augmentation can be used to create a seperate dataset and then train the model. Learning rate reduction can be introduced for better and fine tunnning the algorithm. After trainning the top layer we can use othe models to train the remaining layers or implementing a bilinear approach composed by the ResNet50 and the VGG16 architectures will be great."
   ]
  },
  {
   "cell_type": "markdown",
   "metadata": {
    "id": "iSGv6J7yHaJP"
   },
   "source": [
    "# Personal Reflection\n",
    "\n",
    "The project taught me how to use a variety of tools and improved my understanding of analyzing a system's performance. It has improved my understanding of handling data and data preparations along with data engineering. I have also learned various analytical techniques to perform data analysis and get relevant insights using the Python language and use it to handle corrupt/missing data. I was able to utilize tensorflow dashboard during the project. I have used google colab as a literate programming framework along with other popular libraries like Pandas (for data processing), matplotlib, and seaborn (for data visualization) keras and tensorflow for implementing deep learning models, along with GitHub and google colab history for version control, all of which has helped me hone my skills in using these tools. The assignment also helped me to hone my report writing and data science project management abilities."
   ]
  },
  {
   "cell_type": "code",
   "execution_count": null,
   "metadata": {
    "id": "Ce-2s14kpZS3"
   },
   "outputs": [],
   "source": []
  }
 ],
 "metadata": {
  "accelerator": "GPU",
  "colab": {
   "collapsed_sections": [],
   "name": "skin_cancer_final.ipynb",
   "provenance": []
  },
  "kernelspec": {
   "display_name": "Python 3 (ipykernel)",
   "language": "python",
   "name": "python3"
  },
  "language_info": {
   "codemirror_mode": {
    "name": "ipython",
    "version": 3
   },
   "file_extension": ".py",
   "mimetype": "text/x-python",
   "name": "python",
   "nbconvert_exporter": "python",
   "pygments_lexer": "ipython3",
   "version": "3.9.7"
  }
 },
 "nbformat": 4,
 "nbformat_minor": 1
}
